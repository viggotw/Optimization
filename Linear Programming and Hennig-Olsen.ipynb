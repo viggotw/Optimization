{
 "cells": [
  {
   "cell_type": "markdown",
   "metadata": {},
   "source": [
    "<img src=\"https://www.hennig-olsen.no/wp-content/uploads/2019/03/hennig-olsen-is.png\" width=\"400\" height=\"400\">\n",
    "\n",
    "# Optimal batch-production of ice cream\n",
    "(_This is a fictive example. I have no relations to Hennig-Olsen except for being a passionate consumer of their products_)\n",
    "\n",
    "On days production at Henning-Olsen consists of making their famous \"Krone-is Sjokolade\". This year, however, they have released a new and grander version of this chocolate ice cream, the \"Krone-is Sjokolade XL\", which is bigger in both size and price. When creating a batch, they have to follow the recipe and obey the available resources, while simultanously maximizing profit.\n",
    "\n",
    "The recipes are as follows:\n",
    "- **Original**: 1.0 dl cream, 25g sugar, 100g chocolate\n",
    "- **Xl:** 1.3 dl cream, 40g sugar, 200g chocolate\n",
    "\n",
    "In the storage, Henning-Olsen has the following amount of resources:\n",
    "- **Cream:** 750 dl\n",
    "- **Sugar:** 125 000 g\n",
    "- **Chocolate:**: 10 000 g\n",
    "\n",
    "Each ingredients has a cost:\n",
    "- **Cream:** 6.12 kr per dl\n",
    "- **Sugar:** 0.017 kr per gram\n",
    "- **Chocolate:** 0.115 kr per gram\n",
    "\n",
    "The ice creams are sold for the following price:\n",
    "- **Original:** 23,-\n",
    "- **XL:** 34,-\n",
    "\n",
    "Requirements to production:\n",
    "- **Original:** >500\n",
    "- **XL:** >500\n",
    "\n",
    "\n",
    "How much of each ice cream type should Hennig-Olsen produce to maximize their profit, while still obeying the included constaints?"
   ]
  },
  {
   "cell_type": "markdown",
   "metadata": {},
   "source": [
    "# Formalizing the problem"
   ]
  },
  {
   "cell_type": "markdown",
   "metadata": {},
   "source": [
    "## Summarize ingredients information\n",
    "First, let's put the ingredients and resources into a table that better summarizes the available information\n",
    "\n",
    "| Ice cream   | Cream [dl]  | Sugar [g] | Chocolate [g] |\n",
    "| ----------- | ----------- | --------- | ------------- |\n",
    "| Original    |         1.0 |       100 |            25 |\n",
    "| XL          |         1.3 |       200 |            40 |\n",
    "||\n",
    "| Avail. res. |         750 |    125000 |       10000 | "
   ]
  },
  {
   "cell_type": "markdown",
   "metadata": {},
   "source": [
    "## Calculate profit per ice cream\n",
    "Second, let us calculate the profit for each type of ice cream"
   ]
  },
  {
   "cell_type": "code",
   "execution_count": 1,
   "metadata": {},
   "outputs": [
    {
     "name": "stdout",
     "output_type": "stream",
     "text": [
      "Profit per original: ~kr 2.95\n",
      "Profit per XL      : ~kr 4.98\n"
     ]
    }
   ],
   "source": [
    "org_kr = 21\n",
    "xl_kr  = 36\n",
    "\n",
    "cream_kr = 6.12\n",
    "sugar_kr = 0.017\n",
    "choc_kr  = 0.115\n",
    "\n",
    "profit_org = org_kr - (1.0*cream_kr + 25*sugar_kr + 100*choc_kr)\n",
    "profit_xl  = xl_kr  - (1.2*cream_kr + 40*sugar_kr + 200*choc_kr)\n",
    "\n",
    "print(f\"Profit per original: ~kr {profit_org:.2f}\")\n",
    "print(f\"Profit per XL      : ~kr {profit_xl:.2f}\")"
   ]
  },
  {
   "cell_type": "markdown",
   "metadata": {
    "heading_collapsed": true
   },
   "source": [
    "## Create expression for the total profit\n",
    "We wish to maximize the profit, where the profit for each ice cream was calculated above. We can use create an expression for the total profit for a given number of **original** and **XL** ice creams.\n",
    "\n",
    "$$2.95 \\cdot \\textrm{original} + 4.98 \\cdot \\textrm{XL}$$"
   ]
  },
  {
   "cell_type": "markdown",
   "metadata": {},
   "source": [
    "## Create expressions for the resource and minimum production rules\n",
    "From the table above, we know that the following constaints needs to be followed\n",
    "\n",
    "$$\n",
    "\\begin{align*}\n",
    "\\textbf{Cream: }     && 1.0 \\textrm{ original} &+ 1.3 \\textrm{ XL} &&\\leq 750 \\\\\n",
    "\\textbf{Sugar: }     && 100 \\textrm{ original} &+ 200 \\textrm{ XL} &&\\leq 125000 \\\\\n",
    "\\textbf{Chocolate: } &&  25 \\textrm{ original} &+  40 \\textrm{ XL} &&\\leq 10000 \\\\\n",
    "\\end{align*}\n",
    "$$\n",
    "\n",
    "There are also some minimum specifications to the orders of each ice cream\n",
    "$$\n",
    "\\begin{align*}\n",
    "\\textrm{original} & \\geq 500 \\\\\n",
    "\\textrm{XL: } & \\geq 500 \\\\\n",
    "\\end{align*}\n",
    "$$"
   ]
  },
  {
   "cell_type": "markdown",
   "metadata": {},
   "source": [
    "# Summarize the problem as a classical LP problem\n",
    "$$\n",
    "\\begin{align*}\n",
    "\\textbf{Maximize} & \\\\\n",
    "& 2.95 \\cdot \\textrm{original} + 4.98 \\cdot \\textrm{XL} \\\\\n",
    "\\textbf{Subject to:} & \\\\\n",
    "& 1.0 \\textrm{ original} + 1.3 \\textrm{ XL} &&\\leq 750 \\\\\n",
    "& 100 \\textrm{ original} + 200 \\textrm{ XL} &&\\leq 125000 \\\\\n",
    "& 25 \\textrm{ original} +  40 \\textrm{ XL} &&\\leq 10000 \\\\\n",
    "& \\textrm{original} &&\\geq 500 \\\\\n",
    "& \\textrm{XL} &&\\geq 500 \\\\\n",
    "\\end{align*}\n",
    "$$\n"
   ]
  },
  {
   "cell_type": "markdown",
   "metadata": {},
   "source": [
    "# Model the optimization problem\n",
    "We will use the framework PuLP to model the problem above"
   ]
  },
  {
   "cell_type": "code",
   "execution_count": 2,
   "metadata": {},
   "outputs": [],
   "source": [
    "import pulp"
   ]
  },
  {
   "cell_type": "markdown",
   "metadata": {},
   "source": [
    "## Create a blank problem\n",
    "In PuLP, we first create a blank problem, and then append the objective function and constraints to it later (almost like a list). Notice that we specify that this is a maximization problem. In PuLP, the default is a minimization problem."
   ]
  },
  {
   "cell_type": "code",
   "execution_count": 52,
   "metadata": {},
   "outputs": [],
   "source": [
    "prob = pulp.LpProblem(name=\"Maximize ice cream profit\", sense=pulp.LpMaximize)"
   ]
  },
  {
   "cell_type": "markdown",
   "metadata": {},
   "source": [
    "## Define constants and variables\n",
    "The constants of the problem are the amount of ingredients and the amount of available resources. The variables of the problem are `original` and `xl`, which represents the number of ice creams to produce of each type."
   ]
  },
  {
   "cell_type": "code",
   "execution_count": 53,
   "metadata": {},
   "outputs": [],
   "source": [
    "# Recipe\n",
    "cream_org = 1.0\n",
    "sugar_org = 100\n",
    "choco_org =  25\n",
    "\n",
    "cream_xl  = 1.3\n",
    "sugar_xl  = 200\n",
    "choco_xl  =  40\n",
    "\n",
    "# Available resources\n",
    "max_cream =   2500\n",
    "max_sugar = 300500\n",
    "max_choco =  70000\n",
    "\n",
    "# Minimum and maximum production\n",
    "min_org = 500\n",
    "min_xl = 500\n",
    "max_tot = 2000"
   ]
  },
  {
   "cell_type": "code",
   "execution_count": 54,
   "metadata": {},
   "outputs": [],
   "source": [
    "original = pulp.LpVariable(name=\"original\", lowBound=0)\n",
    "xl       = pulp.LpVariable(name=\"xl\",       lowBound=0)"
   ]
  },
  {
   "cell_type": "markdown",
   "metadata": {},
   "source": [
    "## Define and append the objective function to the problem\n",
    "We can now append the objective function\n",
    "$$\n",
    "\\begin{align*}\n",
    "& 2.95 \\cdot \\textrm{original} + 4.98 \\cdot \\textrm{XL} \\\\\n",
    "\\end{align*}\n",
    "$$\n",
    "\n",
    "The constants above are limited to two decimals. For better accuracy, we implement the objective function using the profits that we calculated earlier."
   ]
  },
  {
   "cell_type": "code",
   "execution_count": 55,
   "metadata": {},
   "outputs": [],
   "source": [
    "prob += profit_org * original + profit_xl * xl"
   ]
  },
  {
   "cell_type": "markdown",
   "metadata": {},
   "source": [
    "## Define and append the constraints\n",
    "$$\n",
    "\\begin{align*}\n",
    "& 1.0 \\textrm{ original} + 1.3 \\textrm{ XL} &&\\leq 75000 \\\\\n",
    "& 100 \\textrm{ original} + 200 \\textrm{ XL} &&\\leq 325000 \\\\\n",
    "& 25 \\textrm{ original} +  40 \\textrm{ XL} &&\\leq 100000 \\\\\n",
    "& \\textrm{original} &&\\geq 500 \\\\\n",
    "& \\textrm{XL} &&\\geq 500 \\\\\n",
    "\\end{align*}\n",
    "$$"
   ]
  },
  {
   "cell_type": "code",
   "execution_count": 56,
   "metadata": {},
   "outputs": [],
   "source": [
    "prob += cream_org * original + cream_xl * xl <= max_cream, \"cream\"\n",
    "prob += sugar_org * original + sugar_xl * xl <= max_sugar, \"sugar\"\n",
    "prob += choco_org * original + choco_xl * xl <= max_choco, \"chocolate\"\n",
    "prob += original >= min_org, \"original min. limit\"\n",
    "prob += xl >= min_xl,  \"xl min. limit\"\n",
    "prob += original + xl <= max_tot"
   ]
  },
  {
   "cell_type": "markdown",
   "metadata": {},
   "source": [
    "## Verify formulation"
   ]
  },
  {
   "cell_type": "code",
   "execution_count": 57,
   "metadata": {},
   "outputs": [
    {
     "name": "stdout",
     "output_type": "stream",
     "text": [
      "Maximize ice cream profit:\n",
      "MAXIMIZE\n",
      "2.9549999999999983*original + 4.975999999999999*xl + 0.0\n",
      "SUBJECT TO\n",
      "cream: original + 1.3 xl <= 2500\n",
      "\n",
      "sugar: 100 original + 200 xl <= 300500\n",
      "\n",
      "chocolate: 25 original + 40 xl <= 70000\n",
      "\n",
      "original_min._limit: original >= 500\n",
      "\n",
      "xl_min._limit: xl >= 500\n",
      "\n",
      "_C1: original + xl <= 2000\n",
      "\n",
      "VARIABLES\n",
      "original Continuous\n",
      "xl Continuous\n",
      "\n"
     ]
    }
   ],
   "source": [
    "print(prob)"
   ]
  },
  {
   "cell_type": "markdown",
   "metadata": {},
   "source": [
    "## Solve the LP maximization problem"
   ]
  },
  {
   "cell_type": "code",
   "execution_count": 60,
   "metadata": {},
   "outputs": [
    {
     "name": "stdout",
     "output_type": "stream",
     "text": [
      "Solution status: OPTIMAL\n",
      "\n",
      "Total profit:          7,941.10 kr\n",
      "\n",
      "num of ORIGINAL:         995.00 pcs\n",
      "num of XL:              1005.00 pcs\n",
      "\n",
      "Remaining cream:         198.50 dl\n",
      "Remaining sugar:           0.00 g\n",
      "Remaining chocolate:    4925.00 g\n"
     ]
    }
   ],
   "source": [
    "status = prob.solve()\n",
    "\n",
    "print(\"Solution status:\", pulp.LpStatus[status].upper())\n",
    "print()\n",
    "print(f\"Total profit:        {prob.objective.value():10,.2f} kr\")\n",
    "print()\n",
    "print(f\"num of ORIGINAL:     {original.value():>10.2f} pcs\")\n",
    "print(f\"num of XL:           {xl.value():>10.2f} pcs\")\n",
    "print()\n",
    "print(f\"Remaining cream:     {max_cream - (1.0 * original.value() + 1.3 * xl.value()):>10.2f} dl\")\n",
    "print(f\"Remaining sugar:     {max_sugar - (100 * original.value() + 200 * xl.value()):>10.2f} g\")\n",
    "print(f\"Remaining chocolate: {max_choco -  (25 * original.value() +  40 * xl.value()):>10.2f} g\")"
   ]
  },
  {
   "cell_type": "raw",
   "metadata": {},
   "source": [
    "Note: Hva med å si at en butikk ønsker å kjøpe is for X kroner. Hvilken is lager vi for å maksimere fortjenesten?"
   ]
  }
 ],
 "metadata": {
  "kernelspec": {
   "display_name": "Python 3",
   "language": "python",
   "name": "python3"
  },
  "language_info": {
   "codemirror_mode": {
    "name": "ipython",
    "version": 3
   },
   "file_extension": ".py",
   "mimetype": "text/x-python",
   "name": "python",
   "nbconvert_exporter": "python",
   "pygments_lexer": "ipython3",
   "version": "3.6.8"
  },
  "toc": {
   "base_numbering": 1,
   "nav_menu": {},
   "number_sections": true,
   "sideBar": true,
   "skip_h1_title": false,
   "title_cell": "Table of Contents",
   "title_sidebar": "Contents",
   "toc_cell": false,
   "toc_position": {},
   "toc_section_display": true,
   "toc_window_display": false
  }
 },
 "nbformat": 4,
 "nbformat_minor": 2
}
