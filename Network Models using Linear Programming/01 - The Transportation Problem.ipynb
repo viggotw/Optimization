{
 "cells": [
  {
   "cell_type": "code",
   "execution_count": 1,
   "metadata": {
    "ExecuteTime": {
     "end_time": "2020-03-26T09:49:38.089960Z",
     "start_time": "2020-03-26T09:49:37.106747Z"
    }
   },
   "outputs": [],
   "source": [
    "import pandas as pd\n",
    "import numpy as np\n",
    "import pulp"
   ]
  },
  {
   "cell_type": "markdown",
   "metadata": {},
   "source": [
    "# The Transportation Problem"
   ]
  },
  {
   "cell_type": "markdown",
   "metadata": {
    "ExecuteTime": {
     "end_time": "2020-03-23T08:47:10.441761Z",
     "start_time": "2020-03-23T08:47:10.435762Z"
    }
   },
   "source": [
    "<img src=\"01 - The Transportation Problem image 01.png\">\n",
    "\n",
    "In this scenario, the comapny SiliconTat AS has three plants from where they produce silicon. The silicon is used by their customers to produce e.g. solar panels, circuit boards and even as a texture modifier to make a material waterproof. Let us assume that SiliconTat AS has five customers who are all interesten in their product. However, the plants have a maximum production capacity of what they can deliver, and the customers have a maximum demand. Further, the customers are located at very different locations, and the shipping cost to each of them vary greatly. We will in this notebook find the optimal number silicium to ship to each customer to minimize the cost of shipping.\n",
    "\n",
    "Note that in this case total production capacity exceeds total demand.\n",
    "\n",
    "|    &nbsp;   |    Customer 1 |     Customer 2 |     Customer 3 |     Customer 4 |     Customer 5 | PRODUCTION CAPACITY |\n",
    "| ----------- | ------------- | -------------- | -------------- | -------------- | -------------- | ------------------- |\n",
    "| **Plant 1** |            7  |              6 |              9 |             12 |             18 |          **32 000** |\n",
    "| **Plant 2** |            6  |              4 |              8 |              9 |             15 |          **19 000** |\n",
    "| **Plant 3** |           17  |             11 |              8 |              7 |              7 |          **21 000** |\n",
    "|  **DEMAND** |    **18 000**  |    **11 000**  |      **9 000** |     **12 000** |     **15 000** |              &nbsp; |"
   ]
  },
  {
   "cell_type": "markdown",
   "metadata": {
    "ExecuteTime": {
     "end_time": "2020-03-23T09:06:58.949082Z",
     "start_time": "2020-03-23T09:06:58.946117Z"
    }
   },
   "source": [
    "## Prepare the data"
   ]
  },
  {
   "cell_type": "code",
   "execution_count": 2,
   "metadata": {
    "ExecuteTime": {
     "end_time": "2020-03-26T09:49:38.127942Z",
     "start_time": "2020-03-26T09:49:38.090959Z"
    }
   },
   "outputs": [
    {
     "data": {
      "text/html": [
       "<div>\n",
       "<style scoped>\n",
       "    .dataframe tbody tr th:only-of-type {\n",
       "        vertical-align: middle;\n",
       "    }\n",
       "\n",
       "    .dataframe tbody tr th {\n",
       "        vertical-align: top;\n",
       "    }\n",
       "\n",
       "    .dataframe thead th {\n",
       "        text-align: right;\n",
       "    }\n",
       "</style>\n",
       "<table border=\"1\" class=\"dataframe\">\n",
       "  <thead>\n",
       "    <tr style=\"text-align: right;\">\n",
       "      <th></th>\n",
       "      <th>Customer 1</th>\n",
       "      <th>Customer 2</th>\n",
       "      <th>Customer 3</th>\n",
       "      <th>Customer 4</th>\n",
       "      <th>Customer 5</th>\n",
       "      <th>PRODUCTION CAPACITY</th>\n",
       "    </tr>\n",
       "  </thead>\n",
       "  <tbody>\n",
       "    <tr>\n",
       "      <th>Plant 1</th>\n",
       "      <td>7</td>\n",
       "      <td>6</td>\n",
       "      <td>9</td>\n",
       "      <td>12</td>\n",
       "      <td>18</td>\n",
       "      <td>32000.0</td>\n",
       "    </tr>\n",
       "    <tr>\n",
       "      <th>Plant 2</th>\n",
       "      <td>6</td>\n",
       "      <td>4</td>\n",
       "      <td>8</td>\n",
       "      <td>9</td>\n",
       "      <td>15</td>\n",
       "      <td>19000.0</td>\n",
       "    </tr>\n",
       "    <tr>\n",
       "      <th>Plant 3</th>\n",
       "      <td>17</td>\n",
       "      <td>11</td>\n",
       "      <td>8</td>\n",
       "      <td>7</td>\n",
       "      <td>7</td>\n",
       "      <td>21000.0</td>\n",
       "    </tr>\n",
       "    <tr>\n",
       "      <th>DEMAND</th>\n",
       "      <td>18000</td>\n",
       "      <td>11000</td>\n",
       "      <td>9000</td>\n",
       "      <td>12000</td>\n",
       "      <td>15000</td>\n",
       "      <td>NaN</td>\n",
       "    </tr>\n",
       "  </tbody>\n",
       "</table>\n",
       "</div>"
      ],
      "text/plain": [
       "         Customer 1  Customer 2  Customer 3  Customer 4  Customer 5  \\\n",
       "Plant 1           7           6           9          12          18   \n",
       "Plant 2           6           4           8           9          15   \n",
       "Plant 3          17          11           8           7           7   \n",
       "DEMAND        18000       11000        9000       12000       15000   \n",
       "\n",
       "         PRODUCTION CAPACITY  \n",
       "Plant 1              32000.0  \n",
       "Plant 2              19000.0  \n",
       "Plant 3              21000.0  \n",
       "DEMAND                   NaN  "
      ]
     },
     "execution_count": 2,
     "metadata": {},
     "output_type": "execute_result"
    }
   ],
   "source": [
    "data = [\n",
    "    [7, 6, 9, 12, 18, 32000],\n",
    "    [6, 4, 8, 9, 15, 19000],\n",
    "    [17, 11, 8, 7, 7, 21000],\n",
    "    [18000, 11000, 9000, 12000, 15000]]\n",
    "columns = ['Customer 1', 'Customer 2', 'Customer 3', 'Customer 4', 'Customer 5', 'PRODUCTION CAPACITY']\n",
    "index = ['Plant 1', 'Plant 2', 'Plant 3', 'DEMAND']\n",
    "\n",
    "df = pd.DataFrame(data=data, columns=columns, index=index)\n",
    "df.head()"
   ]
  },
  {
   "cell_type": "markdown",
   "metadata": {},
   "source": [
    "## Create the variables\n",
    "We wil define the following variables to model the network:\n",
    "\n",
    "$$\n",
    "\\begin{align*}\n",
    "x_{p,c} &= \\textrm{number of units sent from plant } j \\textrm{ to customer } j \\\\\n",
    "\\end{align*}\n",
    "$$"
   ]
  },
  {
   "cell_type": "code",
   "execution_count": 3,
   "metadata": {
    "ExecuteTime": {
     "end_time": "2020-03-26T09:49:38.137941Z",
     "start_time": "2020-03-26T09:49:38.129943Z"
    }
   },
   "outputs": [
    {
     "data": {
      "text/plain": [
       "{('Plant 1', 'Customer 1'): units_('Plant_1',_'Customer_1'),\n",
       " ('Plant 1', 'Customer 2'): units_('Plant_1',_'Customer_2'),\n",
       " ('Plant 1', 'Customer 3'): units_('Plant_1',_'Customer_3'),\n",
       " ('Plant 1', 'Customer 4'): units_('Plant_1',_'Customer_4'),\n",
       " ('Plant 1', 'Customer 5'): units_('Plant_1',_'Customer_5'),\n",
       " ('Plant 2', 'Customer 1'): units_('Plant_2',_'Customer_1'),\n",
       " ('Plant 2', 'Customer 2'): units_('Plant_2',_'Customer_2'),\n",
       " ('Plant 2', 'Customer 3'): units_('Plant_2',_'Customer_3'),\n",
       " ('Plant 2', 'Customer 4'): units_('Plant_2',_'Customer_4'),\n",
       " ('Plant 2', 'Customer 5'): units_('Plant_2',_'Customer_5'),\n",
       " ('Plant 3', 'Customer 1'): units_('Plant_3',_'Customer_1'),\n",
       " ('Plant 3', 'Customer 2'): units_('Plant_3',_'Customer_2'),\n",
       " ('Plant 3', 'Customer 3'): units_('Plant_3',_'Customer_3'),\n",
       " ('Plant 3', 'Customer 4'): units_('Plant_3',_'Customer_4'),\n",
       " ('Plant 3', 'Customer 5'): units_('Plant_3',_'Customer_5')}"
      ]
     },
     "execution_count": 3,
     "metadata": {},
     "output_type": "execute_result"
    }
   ],
   "source": [
    "Plants = ['Plant 1', 'Plant 2', 'Plant 3']\n",
    "Customers = ['Customer 1', 'Customer 2', 'Customer 3', 'Customer 4', 'Customer 5']\n",
    "\n",
    "x = pulp.LpVariable.dicts(\"units\",\n",
    "                          ((p, c) for p in Plants for c in Customers),\n",
    "                          lowBound=0,\n",
    "                          cat='Integer')\n",
    "x"
   ]
  },
  {
   "cell_type": "markdown",
   "metadata": {},
   "source": [
    "## Initiate an empty LP Problem"
   ]
  },
  {
   "cell_type": "code",
   "execution_count": 4,
   "metadata": {
    "ExecuteTime": {
     "end_time": "2020-03-26T09:49:38.151944Z",
     "start_time": "2020-03-26T09:49:38.139940Z"
    }
   },
   "outputs": [],
   "source": [
    "prob = pulp.LpProblem(\"TransportationProblem\", pulp.LpMinimize)"
   ]
  },
  {
   "cell_type": "markdown",
   "metadata": {},
   "source": [
    "## Create constraints"
   ]
  },
  {
   "cell_type": "markdown",
   "metadata": {},
   "source": [
    "### Ensure that the plants can not exceed their production capacity"
   ]
  },
  {
   "cell_type": "code",
   "execution_count": 5,
   "metadata": {
    "ExecuteTime": {
     "end_time": "2020-03-26T09:49:38.161970Z",
     "start_time": "2020-03-26T09:49:38.154945Z"
    }
   },
   "outputs": [],
   "source": [
    "for p in Plants:\n",
    "    prob += pulp.lpSum([x[p,c] for c in Customers]) <= df.loc[p,'PRODUCTION CAPACITY'], f\"Production capacity for {p}\""
   ]
  },
  {
   "cell_type": "markdown",
   "metadata": {},
   "source": [
    "### Ensure the maximum demand for each customer is met"
   ]
  },
  {
   "cell_type": "code",
   "execution_count": 6,
   "metadata": {
    "ExecuteTime": {
     "end_time": "2020-03-26T09:49:38.173949Z",
     "start_time": "2020-03-26T09:49:38.163972Z"
    }
   },
   "outputs": [],
   "source": [
    "for c in Customers:\n",
    "    prob += pulp.lpSum([x[p,c] for p in Plants]) == df.loc['DEMAND',c], f\"Demand from {c}\""
   ]
  },
  {
   "cell_type": "markdown",
   "metadata": {},
   "source": [
    "## Create the objective function\n",
    "Since the total cost will be the sum of all decision variables $x_{i,j}$ multiplied with its corresponding cost, this is objective we would like to minimize, and will be our objective function"
   ]
  },
  {
   "cell_type": "code",
   "execution_count": 7,
   "metadata": {
    "ExecuteTime": {
     "end_time": "2020-03-26T09:49:38.184949Z",
     "start_time": "2020-03-26T09:49:38.174949Z"
    }
   },
   "outputs": [],
   "source": [
    "prob += pulp.lpSum(df.loc[Plants, Customers].to_numpy() * np.array([[x[p,c] for c in Customers] for p in Plants]))"
   ]
  },
  {
   "cell_type": "markdown",
   "metadata": {},
   "source": [
    "## Find the optimal solution"
   ]
  },
  {
   "cell_type": "code",
   "execution_count": 8,
   "metadata": {
    "ExecuteTime": {
     "end_time": "2020-03-26T09:49:38.312001Z",
     "start_time": "2020-03-26T09:49:38.186950Z"
    }
   },
   "outputs": [
    {
     "name": "stdout",
     "output_type": "stream",
     "text": [
      "The solver found a solution that is Optimal, which gives a shippment cost of 450000.00 NOK\n"
     ]
    }
   ],
   "source": [
    "prob.solve()\n",
    "status = pulp.LpStatus[prob.status]\n",
    "obj_value = prob.objective.value()\n",
    "\n",
    "print(f\"The solver found a solution that is {status}, which gives a shippment cost of {obj_value:.2f} NOK\")"
   ]
  },
  {
   "cell_type": "code",
   "execution_count": 9,
   "metadata": {
    "ExecuteTime": {
     "end_time": "2020-03-26T09:49:38.337003Z",
     "start_time": "2020-03-26T09:49:38.313964Z"
    }
   },
   "outputs": [
    {
     "name": "stdout",
     "output_type": "stream",
     "text": [
      "We can investigate the number of units to ship from every pair of plants and customers in the following table\n"
     ]
    },
    {
     "data": {
      "text/html": [
       "<div>\n",
       "<style scoped>\n",
       "    .dataframe tbody tr th:only-of-type {\n",
       "        vertical-align: middle;\n",
       "    }\n",
       "\n",
       "    .dataframe tbody tr th {\n",
       "        vertical-align: top;\n",
       "    }\n",
       "\n",
       "    .dataframe thead th {\n",
       "        text-align: right;\n",
       "    }\n",
       "</style>\n",
       "<table border=\"1\" class=\"dataframe\">\n",
       "  <thead>\n",
       "    <tr style=\"text-align: right;\">\n",
       "      <th></th>\n",
       "      <th>Customer 1</th>\n",
       "      <th>Customer 2</th>\n",
       "      <th>Customer 3</th>\n",
       "      <th>Customer 4</th>\n",
       "      <th>Customer 5</th>\n",
       "      <th>SUM OF PRODUCTION</th>\n",
       "    </tr>\n",
       "  </thead>\n",
       "  <tbody>\n",
       "    <tr>\n",
       "      <th>Plant 1</th>\n",
       "      <td>18000.0</td>\n",
       "      <td>0.0</td>\n",
       "      <td>7000.0</td>\n",
       "      <td>0.0</td>\n",
       "      <td>0.0</td>\n",
       "      <td>25000.0</td>\n",
       "    </tr>\n",
       "    <tr>\n",
       "      <th>Plant 2</th>\n",
       "      <td>0.0</td>\n",
       "      <td>11000.0</td>\n",
       "      <td>2000.0</td>\n",
       "      <td>6000.0</td>\n",
       "      <td>0.0</td>\n",
       "      <td>19000.0</td>\n",
       "    </tr>\n",
       "    <tr>\n",
       "      <th>Plant 3</th>\n",
       "      <td>0.0</td>\n",
       "      <td>0.0</td>\n",
       "      <td>0.0</td>\n",
       "      <td>6000.0</td>\n",
       "      <td>15000.0</td>\n",
       "      <td>21000.0</td>\n",
       "    </tr>\n",
       "    <tr>\n",
       "      <th>SUM OF PRODUCTION</th>\n",
       "      <td>18000.0</td>\n",
       "      <td>11000.0</td>\n",
       "      <td>9000.0</td>\n",
       "      <td>12000.0</td>\n",
       "      <td>15000.0</td>\n",
       "      <td>NaN</td>\n",
       "    </tr>\n",
       "  </tbody>\n",
       "</table>\n",
       "</div>"
      ],
      "text/plain": [
       "                   Customer 1  Customer 2  Customer 3  Customer 4  Customer 5  \\\n",
       "Plant 1               18000.0         0.0      7000.0         0.0         0.0   \n",
       "Plant 2                   0.0     11000.0      2000.0      6000.0         0.0   \n",
       "Plant 3                   0.0         0.0         0.0      6000.0     15000.0   \n",
       "SUM OF PRODUCTION     18000.0     11000.0      9000.0     12000.0     15000.0   \n",
       "\n",
       "                   SUM OF PRODUCTION  \n",
       "Plant 1                      25000.0  \n",
       "Plant 2                      19000.0  \n",
       "Plant 3                      21000.0  \n",
       "SUM OF PRODUCTION                NaN  "
      ]
     },
     "execution_count": 9,
     "metadata": {},
     "output_type": "execute_result"
    }
   ],
   "source": [
    "results = pd.DataFrame(data=[[x[p,c].value() for c in Customers] for p in Plants], index=Plants, columns=Customers)\n",
    "results = results.append([pd.Series(results[Customers].sum(), name='SUM OF PRODUCTION')])\n",
    "results['SUM OF PRODUCTION'] = results.iloc[:-1].sum(axis=1)\n",
    "\n",
    "\n",
    "print(\"We can investigate the number of units to ship from every pair of plants and customers in the following table\")\n",
    "results"
   ]
  }
 ],
 "metadata": {
  "kernelspec": {
   "display_name": "Python 3",
   "language": "python",
   "name": "python3"
  },
  "language_info": {
   "codemirror_mode": {
    "name": "ipython",
    "version": 3
   },
   "file_extension": ".py",
   "mimetype": "text/x-python",
   "name": "python",
   "nbconvert_exporter": "python",
   "pygments_lexer": "ipython3",
   "version": "3.6.8"
  },
  "toc": {
   "base_numbering": 1,
   "nav_menu": {},
   "number_sections": true,
   "sideBar": true,
   "skip_h1_title": false,
   "title_cell": "Table of Contents",
   "title_sidebar": "Contents",
   "toc_cell": false,
   "toc_position": {},
   "toc_section_display": true,
   "toc_window_display": false
  }
 },
 "nbformat": 4,
 "nbformat_minor": 2
}
