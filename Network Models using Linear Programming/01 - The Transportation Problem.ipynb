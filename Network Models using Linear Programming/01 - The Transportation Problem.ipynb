{
 "cells": [
  {
   "cell_type": "code",
   "execution_count": null,
   "metadata": {
    "ExecuteTime": {
     "end_time": "2020-03-23T13:32:28.031427Z",
     "start_time": "2020-03-23T13:32:27.118842Z"
    }
   },
   "outputs": [],
   "source": [
    "import pandas as pd\n",
    "import numpy as np\n",
    "import pulp"
   ]
  },
  {
   "cell_type": "markdown",
   "metadata": {},
   "source": [
    "# The Transportation Problem"
   ]
  },
  {
   "cell_type": "markdown",
   "metadata": {
    "ExecuteTime": {
     "end_time": "2020-03-23T08:47:10.441761Z",
     "start_time": "2020-03-23T08:47:10.435762Z"
    }
   },
   "source": [
    "<img src=\"The Transportation Problem image 01.png\">\n",
    "\n",
    "In this scenario, the comapny SiliconTat AS has three plants from where they produce silicon. The silicon is used by their customers to produce e.g. solar panels, circuit boards and even as a texture modifier to make a material waterproof. Let us assume that SiliconTat AS has five customers who are all interesten in their product. However, the plants have a maximum production capacity of what they can deliver, and the customers have a maximum demand. Further, the customers are located at very different locations, and the shipping cost to each of them vary greatly. We will in this notebook find the optimal number silicium to ship to each customer to minimize the cost of shipping.\n",
    "\n",
    "Note that in this case total production capacity exceeds total demand.\n",
    "\n",
    "|    &nbsp;   |    Customer 1 |     Customer 2 |     Customer 3 |     Customer 4 |     Customer 5 | PRODUCTION CAPACITY |\n",
    "| ----------- | ------------- | -------------- | -------------- | -------------- | -------------- | ------------------- |\n",
    "| **Plant 1** |            7  |              6 |              9 |             12 |             18 |          **32 000** |\n",
    "| **Plant 2** |            6  |              4 |              8 |              9 |             15 |          **19 000** |\n",
    "| **Plant 3** |           17  |             11 |              8 |              7 |              7 |          **21 000** |\n",
    "|  **DEMAND** |    **18 000**  |    **11 000**  |      **9 000** |     **12 000** |     **15 000** |              &nbsp; |"
   ]
  },
  {
   "cell_type": "markdown",
   "metadata": {
    "ExecuteTime": {
     "end_time": "2020-03-23T09:06:58.949082Z",
     "start_time": "2020-03-23T09:06:58.946117Z"
    }
   },
   "source": [
    "## Prepare the data"
   ]
  },
  {
   "cell_type": "code",
   "execution_count": null,
   "metadata": {
    "ExecuteTime": {
     "end_time": "2020-03-23T13:32:28.067444Z",
     "start_time": "2020-03-23T13:32:28.033426Z"
    }
   },
   "outputs": [],
   "source": [
    "data = [\n",
    "    [7, 6, 9, 12, 18, 32000],\n",
    "    [6, 4, 8, 9, 15, 19000],\n",
    "    [17, 11, 8, 7, 7, 21000],\n",
    "    [18000, 11000, 9000, 12000, 15000]]\n",
    "columns = ['Customer 1', 'Customer 2', 'Customer 3', 'Customer 4', 'Customer 5', 'PRODUCTION CAPACITY']\n",
    "index = ['Plant 1', 'Plant 2', 'Plant 3', 'DEMAND']\n",
    "\n",
    "df = pd.DataFrame(data=data, columns=columns, index=index)\n",
    "df.head()"
   ]
  },
  {
   "cell_type": "markdown",
   "metadata": {},
   "source": [
    "## Create the variables\n",
    "We wil define the following variables to model the network:\n",
    "\n",
    "$$\n",
    "\\begin{align*}\n",
    "x_{p,c} &= \\textrm{number of units sent from plant } j \\textrm{ to customer } j \\\\\n",
    "\\end{align*}\n",
    "$$"
   ]
  },
  {
   "cell_type": "code",
   "execution_count": null,
   "metadata": {
    "ExecuteTime": {
     "end_time": "2020-03-23T14:24:02.761896Z",
     "start_time": "2020-03-23T14:24:02.754882Z"
    }
   },
   "outputs": [],
   "source": [
    "Plants = ['Plant 1', 'Plant 2', 'Plant 3']\n",
    "Customers = ['Customer 1', 'Customer 2', 'Customer 3', 'Customer 4', 'Customer 5']\n",
    "\n",
    "x = pulp.LpVariable.dicts(\"units\",\n",
    "                          ((p, c) for p in Plants for c in Customers),\n",
    "                          lowBound=0,\n",
    "                          cat='Integer')\n",
    "x"
   ]
  },
  {
   "cell_type": "markdown",
   "metadata": {},
   "source": [
    "## Initiate an empty LP Problem"
   ]
  },
  {
   "cell_type": "code",
   "execution_count": null,
   "metadata": {
    "ExecuteTime": {
     "end_time": "2020-03-23T13:32:28.083426Z",
     "start_time": "2020-03-23T13:32:28.079430Z"
    }
   },
   "outputs": [],
   "source": [
    "prob = pulp.LpProblem(\"TransportationProblem\", pulp.LpMinimize)"
   ]
  },
  {
   "cell_type": "markdown",
   "metadata": {},
   "source": [
    "## Create constraints"
   ]
  },
  {
   "cell_type": "markdown",
   "metadata": {},
   "source": [
    "### Ensure that the plants can not exceed their production capacity"
   ]
  },
  {
   "cell_type": "code",
   "execution_count": null,
   "metadata": {
    "ExecuteTime": {
     "end_time": "2020-03-23T13:32:28.093942Z",
     "start_time": "2020-03-23T13:32:28.085426Z"
    }
   },
   "outputs": [],
   "source": [
    "for p in Plants:\n",
    "    prob += pulp.lpSum([x[p,c] for c in Customers]) <= df.loc[p,'PRODUCTION CAPACITY'], f\"Production capacity for {p}\""
   ]
  },
  {
   "cell_type": "markdown",
   "metadata": {},
   "source": [
    "### Ensure the maximum demand for each customer is met"
   ]
  },
  {
   "cell_type": "code",
   "execution_count": null,
   "metadata": {
    "ExecuteTime": {
     "end_time": "2020-03-23T13:32:28.103958Z",
     "start_time": "2020-03-23T13:32:28.094940Z"
    }
   },
   "outputs": [],
   "source": [
    "for c in Customers:\n",
    "    prob += pulp.lpSum([x[p,c] for p in Plants]) == df.loc['DEMAND',c], f\"Demand from {c}\""
   ]
  },
  {
   "cell_type": "markdown",
   "metadata": {},
   "source": [
    "## Create the objective function\n",
    "Since the total cost will be the sum of all decision variables $x_{i,j}$ multiplied with its corresponding cost, this is objective we would like to minimize, and will be our objective function"
   ]
  },
  {
   "cell_type": "code",
   "execution_count": null,
   "metadata": {
    "ExecuteTime": {
     "end_time": "2020-03-23T13:32:28.117942Z",
     "start_time": "2020-03-23T13:32:28.105942Z"
    }
   },
   "outputs": [],
   "source": [
    "prob += pulp.lpSum(df.loc[Plants, Customers].to_numpy() * np.array([[x[p,c] for c in Customers] for p in Plants]))"
   ]
  },
  {
   "cell_type": "code",
   "execution_count": null,
   "metadata": {
    "ExecuteTime": {
     "end_time": "2020-03-23T13:32:28.127942Z",
     "start_time": "2020-03-23T13:32:28.118942Z"
    }
   },
   "outputs": [],
   "source": [
    "prob"
   ]
  },
  {
   "cell_type": "markdown",
   "metadata": {},
   "source": [
    "## Find the optimal solution"
   ]
  },
  {
   "cell_type": "code",
   "execution_count": null,
   "metadata": {
    "ExecuteTime": {
     "end_time": "2020-03-23T13:59:07.422905Z",
     "start_time": "2020-03-23T13:59:07.317903Z"
    }
   },
   "outputs": [],
   "source": [
    "prob.solve()\n",
    "status = pulp.LpStatus[prob.status]\n",
    "obj_value = prob.objective.value()\n",
    "\n",
    "print(f\"The solver found a solution that is {status}, which gives a shippment cost of {obj_value:.2f} NOK\")"
   ]
  },
  {
   "cell_type": "code",
   "execution_count": null,
   "metadata": {
    "ExecuteTime": {
     "end_time": "2020-03-23T13:59:56.662160Z",
     "start_time": "2020-03-23T13:59:56.641646Z"
    }
   },
   "outputs": [],
   "source": [
    "results = pd.DataFrame(data=[[x[p,c].value() for c in Customers] for p in Plants], index=Plants, columns=Customers)\n",
    "results = results.append([pd.Series(results[Customers].sum(), name='SUM OF PRODUCTION')])\n",
    "results['SUM OF PRODUCTION'] = results.iloc[:-1].sum(axis=1)\n",
    "\n",
    "\n",
    "print(\"We can investigate the number of units to ship from every pair of plants and customers in the following table\")\n",
    "results"
   ]
  }
 ],
 "metadata": {
  "kernelspec": {
   "display_name": "Python 3",
   "language": "python",
   "name": "python3"
  },
  "language_info": {
   "codemirror_mode": {
    "name": "ipython",
    "version": 3
   },
   "file_extension": ".py",
   "mimetype": "text/x-python",
   "name": "python",
   "nbconvert_exporter": "python",
   "pygments_lexer": "ipython3",
   "version": "3.6.8"
  },
  "toc": {
   "base_numbering": 1,
   "nav_menu": {},
   "number_sections": true,
   "sideBar": true,
   "skip_h1_title": false,
   "title_cell": "Table of Contents",
   "title_sidebar": "Contents",
   "toc_cell": false,
   "toc_position": {},
   "toc_section_display": true,
   "toc_window_display": false
  }
 },
 "nbformat": 4,
 "nbformat_minor": 2
}
