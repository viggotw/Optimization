{
 "cells": [
  {
   "cell_type": "code",
   "execution_count": null,
   "metadata": {
    "ExecuteTime": {
     "end_time": "2020-03-23T18:09:39.973380Z",
     "start_time": "2020-03-23T18:09:39.046229Z"
    }
   },
   "outputs": [],
   "source": [
    "import pandas as pd\n",
    "import numpy as np\n",
    "import pulp"
   ]
  },
  {
   "cell_type": "markdown",
   "metadata": {},
   "source": [
    "# The Assignment Problem"
   ]
  },
  {
   "cell_type": "markdown",
   "metadata": {},
   "source": [
    "The Assignment Problem is a special case of the Transportation Problem, where all the supplies and all the demands are either zero or one.\n",
    "\n",
    "<img src=\"The Assignment Problem image 01.png\">\n",
    "\n",
    "In this scenario, the hospital Sørlandet Sykehus has received a number of calls from people who are in need of assistance. Luckily, the hospital have more than enough ambulances, so the problem is only a matter of figuring out which ambulance to send where. The ambulances are all located at different locations, so the distance between each ambulance and each patient is different. Based on the GPS-position of the ambulances and the patients, we get an estimate of the time it would take any ambulance to drive to any patient in the following table:"
   ]
  },
  {
   "cell_type": "markdown",
   "metadata": {},
   "source": [
    "## Prepare the data"
   ]
  },
  {
   "cell_type": "code",
   "execution_count": null,
   "metadata": {
    "ExecuteTime": {
     "end_time": "2020-03-23T18:09:24.122928Z",
     "start_time": "2020-03-23T18:09:24.091929Z"
    }
   },
   "outputs": [],
   "source": [
    "Ambulances = ['Ambulance 1', 'Ambulance 2', 'Ambulance 3', 'Ambulance 4', 'Ambulance 5']\n",
    "Patients = ['Patient 1', 'Patient 2', 'Patient 3', 'Patient 4', 'Patient 5']\n",
    "data = [\n",
    "    [20, 14,  6, 10, 22],\n",
    "    [16,  8, 22, 20, 10],\n",
    "    [ 8,  6, 24, 14, 12],\n",
    "    [20, 22,  2,  8,  6],\n",
    "    [ 4, 16, 22,  6, 24]\n",
    "]\n",
    "\n",
    "df = pd.DataFrame(data=data, index=Ambulances, columns=Patients)\n",
    "df"
   ]
  },
  {
   "cell_type": "markdown",
   "metadata": {},
   "source": [
    "## Create the variables"
   ]
  },
  {
   "cell_type": "markdown",
   "metadata": {},
   "source": [
    "In the assignment problem, we generate a variable for each possible scenario. The variable $x_{a,p}$ will be binary, and corresponds to whether or not ambulance $a$ drives to patient $p$.\n",
    "\n",
    "<img src=\"The Assignment Problem image 02.png\">"
   ]
  },
  {
   "cell_type": "code",
   "execution_count": null,
   "metadata": {
    "ExecuteTime": {
     "end_time": "2020-03-23T18:09:24.131933Z",
     "start_time": "2020-03-23T18:09:24.124929Z"
    }
   },
   "outputs": [],
   "source": [
    "x = pulp.LpVariable.dicts(\"scenario\",\n",
    "                         ((a, p) for a in Ambulances for p in Patients),\n",
    "                         cat='Binary')\n",
    "x"
   ]
  },
  {
   "cell_type": "markdown",
   "metadata": {},
   "source": [
    "## Initiate an empty LP Problem"
   ]
  },
  {
   "cell_type": "code",
   "execution_count": null,
   "metadata": {
    "ExecuteTime": {
     "end_time": "2020-03-23T18:09:24.140930Z",
     "start_time": "2020-03-23T18:09:24.133929Z"
    }
   },
   "outputs": [],
   "source": [
    "prob = pulp.LpProblem(\"TransportationProblem\", pulp.LpMinimize)"
   ]
  },
  {
   "cell_type": "markdown",
   "metadata": {
    "ExecuteTime": {
     "end_time": "2020-03-23T14:18:01.614607Z",
     "start_time": "2020-03-23T14:18:01.608622Z"
    }
   },
   "source": [
    "## Create the constraints"
   ]
  },
  {
   "cell_type": "markdown",
   "metadata": {},
   "source": [
    "For this formulation, it is important that each car can only choose on scenario, meaning it should visit one patient, and one patient only."
   ]
  },
  {
   "cell_type": "markdown",
   "metadata": {},
   "source": [
    "### One patient per ambulance\n",
    "Since the variables for any ambulance is binary, we can make a constraint that says that the sum of the variables from any ambulance must equal one. This way we force each ambulance to only choose one patient to visit."
   ]
  },
  {
   "cell_type": "code",
   "execution_count": null,
   "metadata": {
    "ExecuteTime": {
     "end_time": "2020-03-23T18:09:24.151929Z",
     "start_time": "2020-03-23T18:09:24.143965Z"
    }
   },
   "outputs": [],
   "source": [
    "for a in Ambulances:\n",
    "    prob += pulp.lpSum([x[a,p] for p in Patients]) == 1, f\"{a} can only visit one patient\""
   ]
  },
  {
   "cell_type": "markdown",
   "metadata": {},
   "source": [
    "### One ambulance per patient"
   ]
  },
  {
   "cell_type": "markdown",
   "metadata": {},
   "source": [
    "The constraint above ensures that one ambulance only visits one patient. However, is does not enforce that all patients must be visited. Neither does it enforce that a patient should only be visited by one ambulance. We therefor need a constraint that ensures that each patient can only be visited by one ambulance."
   ]
  },
  {
   "cell_type": "code",
   "execution_count": null,
   "metadata": {
    "ExecuteTime": {
     "end_time": "2020-03-23T18:09:24.160931Z",
     "start_time": "2020-03-23T18:09:24.153929Z"
    }
   },
   "outputs": [],
   "source": [
    "for p in Patients:\n",
    "    prob += pulp.lpSum([x[a,p] for a in Ambulances]) == 1, f\"{p} can only be visited by one ambulance\""
   ]
  },
  {
   "cell_type": "markdown",
   "metadata": {},
   "source": [
    "## Create the objective function\n",
    "If any scenario $x_{a,p}$ is carried out, it will bring with it a cost in the form of the time it will take the ambulance to visit the corresponding patient. The objective function is therefor to minimize the sum of each scenario variable multiplied by the time it would take to coduct that scenario"
   ]
  },
  {
   "cell_type": "code",
   "execution_count": null,
   "metadata": {
    "ExecuteTime": {
     "end_time": "2020-03-23T18:09:24.173929Z",
     "start_time": "2020-03-23T18:09:24.162949Z"
    }
   },
   "outputs": [],
   "source": [
    "prob += pulp.lpSum([df.loc[a,p] * x[a,p] for a in Ambulances for p in Patients])"
   ]
  },
  {
   "cell_type": "markdown",
   "metadata": {},
   "source": [
    "## Find the optimal solution"
   ]
  },
  {
   "cell_type": "code",
   "execution_count": null,
   "metadata": {
    "ExecuteTime": {
     "end_time": "2020-03-23T18:09:24.306932Z",
     "start_time": "2020-03-23T18:09:24.175930Z"
    }
   },
   "outputs": [],
   "source": [
    "prob.solve()\n",
    "status = pulp.LpStatus[prob.status]\n",
    "obj_value = prob.objective.value()\n",
    "\n",
    "print(f\"The solver found a solution that is *{status}*, where the total time spent driving to patients is {obj_value:.1f} minutes\")"
   ]
  },
  {
   "cell_type": "code",
   "execution_count": null,
   "metadata": {
    "ExecuteTime": {
     "end_time": "2020-03-23T18:09:24.321951Z",
     "start_time": "2020-03-23T18:09:24.307929Z"
    }
   },
   "outputs": [],
   "source": [
    "results = pd.DataFrame(data=[[x[a,p].value()for p in Patients] for a in Ambulances], index=Ambulances, columns=Patients, dtype=bool)\n",
    "results"
   ]
  },
  {
   "cell_type": "markdown",
   "metadata": {},
   "source": [
    "#  Final notes:\n",
    "In this example, the number of ambulances matched the number of patients. This might not be the case in a real life scenario, where two other cases might occure:\n",
    "1. If you have more ambulances than pasients, change the $=$-constraint to a $\\leq$-constraint in the section where we enforced that _\"any ambulance {$a$} can only visit one patient\"_. This will enable some ambulances to visit zero patients.\n",
    "2. If you have more pasients than ambulances, change the $=$-constraint to a $\\leq$-constraint in the section where we enforced that _\"any patient {$p$} can only be visited by one ambulance\"_. This is a grimmer solution, though, as it allows the ambulances to not visit the patients that would take too long to visit. Nonetheless, in situations where there are more patients than the doctors are able to treat, these kinds of decisions sometimes have to be made. However, for further work on this case, a better solution might be to factor in severity in the objective function. This way, the optimization algorithm would consider e.g. a weighted sum between the \"chance of survival\" and the time it would take an ambulance to get there."
   ]
  },
  {
   "cell_type": "code",
   "execution_count": null,
   "metadata": {},
   "outputs": [],
   "source": []
  }
 ],
 "metadata": {
  "kernelspec": {
   "display_name": "Python 3",
   "language": "python",
   "name": "python3"
  },
  "language_info": {
   "codemirror_mode": {
    "name": "ipython",
    "version": 3
   },
   "file_extension": ".py",
   "mimetype": "text/x-python",
   "name": "python",
   "nbconvert_exporter": "python",
   "pygments_lexer": "ipython3",
   "version": "3.6.8"
  },
  "toc": {
   "base_numbering": 1,
   "nav_menu": {},
   "number_sections": true,
   "sideBar": true,
   "skip_h1_title": false,
   "title_cell": "Table of Contents",
   "title_sidebar": "Contents",
   "toc_cell": false,
   "toc_position": {},
   "toc_section_display": true,
   "toc_window_display": false
  }
 },
 "nbformat": 4,
 "nbformat_minor": 2
}
