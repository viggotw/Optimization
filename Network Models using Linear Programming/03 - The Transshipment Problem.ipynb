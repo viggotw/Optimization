{
 "cells": [
  {
   "cell_type": "code",
   "execution_count": null,
   "metadata": {
    "ExecuteTime": {
     "end_time": "2020-03-24T09:24:56.785759Z",
     "start_time": "2020-03-24T09:24:55.005063Z"
    }
   },
   "outputs": [],
   "source": [
    "import numpy as np\n",
    "import pandas as pd\n",
    "import pulp"
   ]
  },
  {
   "cell_type": "markdown",
   "metadata": {},
   "source": [
    "# The Transshipment Problem"
   ]
  },
  {
   "cell_type": "markdown",
   "metadata": {},
   "source": [
    "This example is a more general version of the Transportation Problem, which failed to consider that there can be multiple ways to get from one point to another.\n",
    "\n",
    "<img src=\"The Transshipment Problem image 01.png\">\n",
    "\n",
    "In this example, we will imagine that the potato chip factory Sørlandschips AS has started up three facilities for producing their products `(A, D, J)`. These factories can send bags of potato chips to three different customers `(E, G, H)`. Similarly to the Transportation Problem, the factories have a maximum production capacity and the customers have a limited demand. But in this case, there are a lot of differnt route alternatives between each pair of factory and customer. In this example, we want to ensure that all customer demands are met (total of 2700 units) at a minimum cost, where the production capacity is actually larger than the demand (total of 3000 units)."
   ]
  },
  {
   "cell_type": "markdown",
   "metadata": {},
   "source": [
    "## Prepare the data"
   ]
  },
  {
   "cell_type": "code",
   "execution_count": null,
   "metadata": {
    "ExecuteTime": {
     "end_time": "2020-03-24T11:30:48.779799Z",
     "start_time": "2020-03-24T11:30:48.775800Z"
    }
   },
   "outputs": [],
   "source": [
    "Nodes = ['A','B','C','D','E','F','G','H','I','J']\n",
    "Transshipment_nodes = ['B', 'C', 'F', 'I']\n",
    "Supply_nodes = ['A', 'D', 'J']\n",
    "Customer_nodes = ['E', 'G', 'H']"
   ]
  },
  {
   "cell_type": "markdown",
   "metadata": {},
   "source": [
    "### Shipping cost"
   ]
  },
  {
   "cell_type": "code",
   "execution_count": null,
   "metadata": {
    "ExecuteTime": {
     "end_time": "2020-03-24T12:00:03.583077Z",
     "start_time": "2020-03-24T12:00:03.555079Z"
    }
   },
   "outputs": [],
   "source": [
    "# Shipping cost\n",
    "data = [\n",
    "    [np.nan,     59, np.nan,     86, np.nan, np.nan, np.nan, np.nan, np.nan, np.nan],\n",
    "    [    59, np.nan,    318, np.nan,    215, np.nan, np.nan,    112, np.nan, np.nan],\n",
    "    [np.nan,    318, np.nan,    219,    137, np.nan, np.nan, np.nan, np.nan, np.nan],\n",
    "    [    86, np.nan,    219, np.nan, np.nan, np.nan, np.nan, np.nan, np.nan, np.nan],\n",
    "    [np.nan,    215,    137, np.nan, np.nan, np.nan, np.nan,    160,    117, np.nan],\n",
    "    [np.nan, np.nan, np.nan, np.nan, np.nan, np.nan,    107,     94, np.nan,     63],\n",
    "    [np.nan, np.nan, np.nan, np.nan, np.nan,    107, np.nan,     98, np.nan, np.nan],\n",
    "    [np.nan,    112, np.nan, np.nan,    160,     94,     98, np.nan,    132, np.nan],\n",
    "    [np.nan, np.nan, np.nan, np.nan,    117, np.nan, np.nan,    132, np.nan,    128],\n",
    "    [np.nan, np.nan, np.nan, np.nan, np.nan,     63, np.nan, np.nan,    128, np.nan]\n",
    "]\n",
    "\n",
    "cost = pd.DataFrame(data=data, index=Nodes, columns=Nodes)\n",
    "cost.fillna(' ')"
   ]
  },
  {
   "cell_type": "markdown",
   "metadata": {},
   "source": [
    "### Production capacity"
   ]
  },
  {
   "cell_type": "code",
   "execution_count": null,
   "metadata": {
    "ExecuteTime": {
     "end_time": "2020-03-24T12:02:43.241721Z",
     "start_time": "2020-03-24T12:02:43.234708Z"
    }
   },
   "outputs": [],
   "source": [
    "data = {'A': 1200, 'D': 1100, 'J': 700}\n",
    "capacity = pd.Series(data, name='Production capacity')\n",
    "capacity"
   ]
  },
  {
   "cell_type": "markdown",
   "metadata": {},
   "source": [
    "### Customer demand"
   ]
  },
  {
   "cell_type": "code",
   "execution_count": null,
   "metadata": {
    "ExecuteTime": {
     "end_time": "2020-03-24T12:02:44.048882Z",
     "start_time": "2020-03-24T12:02:44.042915Z"
    }
   },
   "outputs": [],
   "source": [
    "data = {'E': 900, 'G': 1200, 'H': 600}\n",
    "demand = pd.Series(data, name='Customer demand')\n",
    "demand"
   ]
  },
  {
   "cell_type": "markdown",
   "metadata": {},
   "source": [
    "## Create the variables"
   ]
  },
  {
   "cell_type": "markdown",
   "metadata": {},
   "source": [
    "We define the variable $x_{i,j}$ to be the number of units to be sent from node $i$ to node $j$. Since each nodes is not connected directly to all the other nodes, we only need to create variables for the connections that actually exsist. If you count, you will see that there are 15 different routes on the map. Further, since each route between any two nodes should support sending units in both directions, we need two variables (one for each direction). This mean that we end up with a total of 30 variables to describe this problem."
   ]
  },
  {
   "cell_type": "code",
   "execution_count": null,
   "metadata": {
    "ExecuteTime": {
     "end_time": "2020-03-24T12:02:55.059107Z",
     "start_time": "2020-03-24T12:02:55.051100Z"
    }
   },
   "outputs": [],
   "source": [
    "# Let us first extract only the values the correspond to a route between to nodes and save them as a dictionary\n",
    "routes = {k1: {k2:v2 for k2,v2 in v1.items() if pd.notnull(v2)} for k1, v1 in cost.to_dict().items()}\n",
    "routes"
   ]
  },
  {
   "cell_type": "code",
   "execution_count": null,
   "metadata": {
    "ExecuteTime": {
     "end_time": "2020-03-24T12:02:57.736594Z",
     "start_time": "2020-03-24T12:02:57.731595Z"
    }
   },
   "outputs": [],
   "source": [
    "x = pulp.LpVariable.dicts('route',\n",
    "                          ((i, j) for i in routes for j in routes[i]),\n",
    "                          lowBound = 0,\n",
    "                          cat='Integer')"
   ]
  },
  {
   "cell_type": "markdown",
   "metadata": {},
   "source": [
    "## Initiate an empty LP Problem"
   ]
  },
  {
   "cell_type": "code",
   "execution_count": null,
   "metadata": {
    "ExecuteTime": {
     "end_time": "2020-03-24T12:49:17.164241Z",
     "start_time": "2020-03-24T12:49:17.160239Z"
    }
   },
   "outputs": [],
   "source": [
    "prob = pulp.LpProblem(\"TransshipmentProblem\", pulp.LpMinimize)"
   ]
  },
  {
   "cell_type": "markdown",
   "metadata": {
    "ExecuteTime": {
     "end_time": "2020-03-23T14:18:01.614607Z",
     "start_time": "2020-03-23T14:18:01.608622Z"
    }
   },
   "source": [
    "## Create the constraints"
   ]
  },
  {
   "cell_type": "markdown",
   "metadata": {},
   "source": [
    "### Transshipment nodes: What goes in, must come out"
   ]
  },
  {
   "cell_type": "markdown",
   "metadata": {},
   "source": [
    "For the transshipment nodes `(B, C, F, I)`, there is no room for storing units. This means that every unit that is sent in to any of these nodes must also leave it. One way to formulate this is to say the the sum of all units entering this node must equal the sum of all units leaving this node. To take a specific example, look at node `B`. It should be able to receive units from all nodes that it is directly connected to, meaning the pairs `((A,B), (C,B), (E,B), (H,B))`. Similarly, it should also be possible to send units to these neighbouring nodes, meaning the pairs `((B,A),(B,C),(B,E),(B,H))`. Since we have defined each direction as a separate variable, we can enforce this behaviour for node `B` as follows:\n",
    "$$x_{B,A} + x_{B,C} + x_{B,E} + x_{B,H} = x_{A,B} + x_{C,B} + x_{E,B} + x_{H,B}$$\n",
    "\n",
    "or simply\n",
    "\n",
    "$$\\textrm{units out} =\\textrm{units in}$$"
   ]
  },
  {
   "cell_type": "code",
   "execution_count": null,
   "metadata": {
    "ExecuteTime": {
     "end_time": "2020-03-24T12:49:17.943800Z",
     "start_time": "2020-03-24T12:49:17.939790Z"
    }
   },
   "outputs": [],
   "source": [
    "for i in Transshipment_nodes:\n",
    "    node_out = pulp.lpSum([x[i,j] for j in routes[i]])\n",
    "    node_in = pulp.lpSum([x[j,i] for j in routes[i]])\n",
    "    \n",
    "    prob += node_out == node_in, f\"Transhipment-node {i}\""
   ]
  },
  {
   "cell_type": "markdown",
   "metadata": {},
   "source": [
    "### Supply nodes (source)"
   ]
  },
  {
   "cell_type": "markdown",
   "metadata": {},
   "source": [
    "A source node is a node that has a capacity to generate units. In this case, the source nodes correspond to the potato chip factories located in node `(A, D, J)`. One could easily make the mistake of assuming that the constraint for these nodes would be that they can only deliver out the same ampunt of units that they can produce. However, if e.g. factory `D` want to send units to node `B` _through_ node `A`, this will not be possible under the suggested constraint, as the number of units exiting node `A`would the nbe greater than the capacity it is able to produce by itself. Instead, we must limit the outgoing stream of units to the sum of the source nodes capacity AND the all other units _entering_ the node. Finally, since we want to allow the factory to send out less units than it has the capacity to produce, we insert this as a $\\leq$-constraint. In the example above, where units should be allowed to pass through node `A`, the constraint will look like this:\n",
    "$$x_{A,B} + x_{A,D} \\leq 1200 + x_{D,A} + x_{B,A}$$\n",
    "\n",
    "or simply\n",
    "\n",
    "$$\\textrm{units out} \\leq \\textrm{capacity} + \\textrm{units in}$$"
   ]
  },
  {
   "cell_type": "code",
   "execution_count": null,
   "metadata": {
    "ExecuteTime": {
     "end_time": "2020-03-24T12:49:18.479380Z",
     "start_time": "2020-03-24T12:49:18.475372Z"
    }
   },
   "outputs": [],
   "source": [
    "for i in Supply_nodes:\n",
    "    node_out = pulp.lpSum([x[i,j] for j in routes[i]])\n",
    "    node_in = pulp.lpSum([x[j,i] for j in routes[i]])\n",
    "    \n",
    "    prob += node_out <= capacity[i] + node_in, f\"Supply-node {i}\""
   ]
  },
  {
   "cell_type": "markdown",
   "metadata": {},
   "source": [
    "### Customer nodes (sink)"
   ]
  },
  {
   "cell_type": "markdown",
   "metadata": {
    "ExecuteTime": {
     "end_time": "2020-03-24T12:14:59.454925Z",
     "start_time": "2020-03-24T12:14:59.443146Z"
    }
   },
   "source": [
    "Analogous to the previous constraint, the customers in the destination nodes should be able to \"absorb\" units, meaning that more units should be allowed to enter these nodes than units exiting them. Remember from the problem statement that we want to ensure that the demand is met. This means that we will use an equality constraint rather than the inequality constraint in the previous  subchapter. For example, at customer node `G`, it should be allowed to keep 1200 of the units it has received.\n",
    "$$x_{G,H} + x_{G,F} = x_{H,G} + x_{F,G} + 1200$$\n",
    "\n",
    "or simply\n",
    "\n",
    "$$\\textrm{units in} = \\textrm{units out} + \\textrm{demand}$$"
   ]
  },
  {
   "cell_type": "code",
   "execution_count": null,
   "metadata": {
    "ExecuteTime": {
     "end_time": "2020-03-24T12:49:19.071850Z",
     "start_time": "2020-03-24T12:49:19.063878Z"
    }
   },
   "outputs": [],
   "source": [
    "for i in Customer_nodes:\n",
    "    node_out = pulp.lpSum([x[i,j] for j in routes[i]])\n",
    "    node_in = pulp.lpSum([x[j,i] for j in routes[i]])\n",
    "    \n",
    "    prob += node_in == node_out + demand[i], f\"Customer-node {i}\""
   ]
  },
  {
   "cell_type": "markdown",
   "metadata": {},
   "source": [
    "## Create the objective function\n",
    "If any scenario $x_{i,j}$ is carried out, it will bring with it a cost in the form of the shipping fee to transfer that many units from point $i$ to point $j$. The objective function is therefor to minimize the sum of units sent multiplied by the shipping cost per unit."
   ]
  },
  {
   "cell_type": "code",
   "execution_count": null,
   "metadata": {
    "ExecuteTime": {
     "end_time": "2020-03-24T12:49:19.432796Z",
     "start_time": "2020-03-24T12:49:19.426794Z"
    }
   },
   "outputs": [],
   "source": [
    "prob += pulp.lpSum([df.loc[i, j] * x[i, j] for i in routes for j in routes[i]])"
   ]
  },
  {
   "cell_type": "markdown",
   "metadata": {},
   "source": [
    "## Find the optimal solution"
   ]
  },
  {
   "cell_type": "code",
   "execution_count": null,
   "metadata": {
    "ExecuteTime": {
     "end_time": "2020-03-24T12:54:21.262472Z",
     "start_time": "2020-03-24T12:54:21.134446Z"
    }
   },
   "outputs": [],
   "source": [
    "prob.solve()\n",
    "status = pulp.LpStatus[prob.status]\n",
    "obj_value = prob.objective.value()\n",
    "\n",
    "print(f\"The solver found a solution that is *{status}*, where the total cost spent on shipping is {obj_value:,.2f} NOK\")"
   ]
  },
  {
   "cell_type": "code",
   "execution_count": null,
   "metadata": {
    "ExecuteTime": {
     "end_time": "2020-03-24T12:54:21.512113Z",
     "start_time": "2020-03-24T12:54:21.492104Z"
    }
   },
   "outputs": [],
   "source": [
    "results = pd.DataFrame.from_dict(data={i: {j: x[i,j].value() for j in routes[i]} for i in routes}, orient='index', dtype=int)\n",
    "results.replace(0, np.nan).fillna('')"
   ]
  },
  {
   "cell_type": "code",
   "execution_count": null,
   "metadata": {},
   "outputs": [],
   "source": []
  }
 ],
 "metadata": {
  "kernelspec": {
   "display_name": "Python 3",
   "language": "python",
   "name": "python3"
  },
  "language_info": {
   "codemirror_mode": {
    "name": "ipython",
    "version": 3
   },
   "file_extension": ".py",
   "mimetype": "text/x-python",
   "name": "python",
   "nbconvert_exporter": "python",
   "pygments_lexer": "ipython3",
   "version": "3.6.8"
  },
  "toc": {
   "base_numbering": 1,
   "nav_menu": {},
   "number_sections": true,
   "sideBar": true,
   "skip_h1_title": false,
   "title_cell": "Table of Contents",
   "title_sidebar": "Contents",
   "toc_cell": false,
   "toc_position": {},
   "toc_section_display": true,
   "toc_window_display": false
  }
 },
 "nbformat": 4,
 "nbformat_minor": 2
}
