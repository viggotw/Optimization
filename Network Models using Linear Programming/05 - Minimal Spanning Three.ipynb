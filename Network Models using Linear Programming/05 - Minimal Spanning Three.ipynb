{
 "cells": [
  {
   "cell_type": "code",
   "execution_count": 1,
   "metadata": {
    "ExecuteTime": {
     "end_time": "2020-03-26T09:47:51.905729Z",
     "start_time": "2020-03-26T09:47:50.971633Z"
    }
   },
   "outputs": [],
   "source": [
    "import numpy as np\n",
    "import pandas as pd\n",
    "import random"
   ]
  },
  {
   "cell_type": "markdown",
   "metadata": {},
   "source": [
    "# Minimal Spanning Three"
   ]
  },
  {
   "cell_type": "markdown",
   "metadata": {},
   "source": [
    "In this example, I will demonstrate three different scenarios, just to show how many seemingly different problems may be theoretically identical, and can be solved using the same procedure.\n",
    "\n",
    "<img src=\"05 - Minimal Spanning Three image 01.png\">\n",
    "\n",
    "Possible problems could be:\n",
    "1. Outside of Kristiansand, several fishing boats a stricken with fair as they hear on the radio that an extremly thick fog will cover their fishing area very soon. To avoid anyone getting lost in the fog while fishing, they decide that everyone should tie themselfes to a different boat. However, they have a limited amount of rope, and each fishing boat is reluctant to move away from their designated fishing spot. How much rope is the minimum length needed to tie the bots together so that all the boats are connected in eachother through at leat one neighbouring boat?\n",
    "2. A farmer from Søgne wants to set up a watering system at his farm. He knows where the irrigation sprinkler units should be placed, but he doesn't want to spend more money than he has to on watering hoses. Each sprinkler system can be connected to multiple other sprinklers. How should he connect them to achieve the total minimum length of watering hoses?\n",
    "3. Five new oil fields are discovered in the North Sea by Equinor. They are investigating if it is possible to connect the reservoirs rather than having the oil platform move to each reservoir separatly. This could save a lot of cost if the pipes needed to pull this off was low enough. How great is the minimum distance that needs to be covered?\n",
    " \n",
    "This problem can be formulated as a MILP problem. However, it turns out we can use a much simpler approach called Prim's algorithm. Prim's algorithm is a so-called greedy algorithm. These types of algorithms are famous for yielding fast results that often satisfy the constraints, but without being optimal. However, for the minimum spanning tree problem, this, or alternativly Kruskal's algorithm, are actually able to find the optimal solution \n",
    "\n",
    "We can re-draw the problem as a graph, where each node corresponds to the units we want to connect to eachother, and the edges correspond to the distance between them. The numbers are unitsless in the graph, but can thought of as meters, kilometers, nautical miles or some other unit depending on what best fits the problem.\n",
    "\n",
    "<img src=\"05 - Minimal Spanning Three image 02.png\">"
   ]
  },
  {
   "cell_type": "markdown",
   "metadata": {},
   "source": [
    "## Prepare the data"
   ]
  },
  {
   "cell_type": "code",
   "execution_count": 2,
   "metadata": {
    "ExecuteTime": {
     "end_time": "2020-03-26T09:47:51.910682Z",
     "start_time": "2020-03-26T09:47:51.906704Z"
    }
   },
   "outputs": [],
   "source": [
    "# Constants\n",
    "Nodes = ['A','B','C','D','E','F']"
   ]
  },
  {
   "cell_type": "code",
   "execution_count": 3,
   "metadata": {
    "ExecuteTime": {
     "end_time": "2020-03-26T09:47:51.948685Z",
     "start_time": "2020-03-26T09:47:51.911680Z"
    }
   },
   "outputs": [
    {
     "data": {
      "text/html": [
       "<div>\n",
       "<style scoped>\n",
       "    .dataframe tbody tr th:only-of-type {\n",
       "        vertical-align: middle;\n",
       "    }\n",
       "\n",
       "    .dataframe tbody tr th {\n",
       "        vertical-align: top;\n",
       "    }\n",
       "\n",
       "    .dataframe thead th {\n",
       "        text-align: right;\n",
       "    }\n",
       "</style>\n",
       "<table border=\"1\" class=\"dataframe\">\n",
       "  <thead>\n",
       "    <tr style=\"text-align: right;\">\n",
       "      <th></th>\n",
       "      <th>A</th>\n",
       "      <th>B</th>\n",
       "      <th>C</th>\n",
       "      <th>D</th>\n",
       "      <th>E</th>\n",
       "      <th>F</th>\n",
       "    </tr>\n",
       "  </thead>\n",
       "  <tbody>\n",
       "    <tr>\n",
       "      <th>A</th>\n",
       "      <td></td>\n",
       "      <td>23</td>\n",
       "      <td></td>\n",
       "      <td></td>\n",
       "      <td>27</td>\n",
       "      <td>73</td>\n",
       "    </tr>\n",
       "    <tr>\n",
       "      <th>B</th>\n",
       "      <td>23</td>\n",
       "      <td></td>\n",
       "      <td>26</td>\n",
       "      <td></td>\n",
       "      <td>8</td>\n",
       "      <td></td>\n",
       "    </tr>\n",
       "    <tr>\n",
       "      <th>C</th>\n",
       "      <td></td>\n",
       "      <td>26</td>\n",
       "      <td></td>\n",
       "      <td>53</td>\n",
       "      <td>32</td>\n",
       "      <td></td>\n",
       "    </tr>\n",
       "    <tr>\n",
       "      <th>D</th>\n",
       "      <td></td>\n",
       "      <td></td>\n",
       "      <td>53</td>\n",
       "      <td></td>\n",
       "      <td>34</td>\n",
       "      <td>23</td>\n",
       "    </tr>\n",
       "    <tr>\n",
       "      <th>E</th>\n",
       "      <td>27</td>\n",
       "      <td>8</td>\n",
       "      <td>32</td>\n",
       "      <td>34</td>\n",
       "      <td></td>\n",
       "      <td>24</td>\n",
       "    </tr>\n",
       "    <tr>\n",
       "      <th>F</th>\n",
       "      <td>73</td>\n",
       "      <td></td>\n",
       "      <td></td>\n",
       "      <td>23</td>\n",
       "      <td>24</td>\n",
       "      <td></td>\n",
       "    </tr>\n",
       "  </tbody>\n",
       "</table>\n",
       "</div>"
      ],
      "text/plain": [
       "    A   B   C   D   E   F\n",
       "A      23          27  73\n",
       "B  23      26       8    \n",
       "C      26      53  32    \n",
       "D          53      34  23\n",
       "E  27   8  32  34      24\n",
       "F  73          23  24    "
      ]
     },
     "execution_count": 3,
     "metadata": {},
     "output_type": "execute_result"
    }
   ],
   "source": [
    "# Maximum flow\n",
    "data = [\n",
    "    [np.nan,     23, np.nan, np.nan,     27,     73],\n",
    "    [    23, np.nan,     26, np.nan,      8, np.nan],\n",
    "    [np.nan,     26, np.nan,     53,     32, np.nan],\n",
    "    [np.nan, np.nan,     53, np.nan,     34,     23],\n",
    "    [    27,      8,     32,     34, np.nan,     24],\n",
    "    [    73, np.nan, np.nan,     23,     24, np.nan]\n",
    "]\n",
    "\n",
    "graph = pd.DataFrame(data=data, index=Nodes, columns=Nodes)\n",
    "graph.fillna(' ')"
   ]
  },
  {
   "cell_type": "markdown",
   "metadata": {},
   "source": [
    "## Solve the problem using Prim's Algorithm"
   ]
  },
  {
   "cell_type": "markdown",
   "metadata": {},
   "source": [
    "The peseudo-code for Prim's algorithm is as follows:\n",
    "\n",
    "```\n",
    "Step 1:\n",
    "Select any one node from the network (doesn't matter which one), and add the edges going out from that node to your tree of possible routes\n",
    "\n",
    "Step 2:\n",
    "Choose the smallest edge with the smallest distance from your tree of possible routes, and append it to your tree of selected routes\n",
    "\n",
    "Step 3:\n",
    "Repreat step 2 until all nodes are in your tree of selected routes\n",
    "```"
   ]
  },
  {
   "cell_type": "code",
   "execution_count": 4,
   "metadata": {
    "ExecuteTime": {
     "end_time": "2020-03-26T09:47:51.959688Z",
     "start_time": "2020-03-26T09:47:51.949685Z"
    }
   },
   "outputs": [
    {
     "name": "stdout",
     "output_type": "stream",
     "text": [
      "Appended the edge ('E', 'B') with a length of  8\n",
      "Appended the edge ('B', 'A') with a length of 23\n",
      "Appended the edge ('E', 'F') with a length of 24\n",
      "Appended the edge ('F', 'D') with a length of 23\n",
      "Appended the edge ('B', 'C') with a length of 26\n",
      "\n",
      "Total length: 104\n"
     ]
    }
   ],
   "source": [
    "# initialize the MST and the set of selected nodes\n",
    "selected_edges = set();\n",
    "selected_nodes = set();\n",
    "\n",
    "objective_value = 0\n",
    "\n",
    "# Step 1:  select an arbitrary vertex to begin with\n",
    "selected_nodes.add(random.choice(Nodes));\n",
    "\n",
    "while len(selected_nodes) != len(Nodes):\n",
    "    crossing = set();\n",
    "    # for each element i in selected_nodes, add the edge (i, j) to crossing if\n",
    "    # j is not in selected_nodes\n",
    "    for i in selected_nodes:\n",
    "        for j in Nodes:\n",
    "            if j not in selected_nodes and pd.notna(graph.loc[i,j]):\n",
    "                crossing.add((i, j))\n",
    "    \n",
    "    # Step 2: find the edge with the smallest weight in crossing\n",
    "    edge = sorted(crossing, key=lambda e:graph[e[0]][e[1]])[0];\n",
    "    # add this edge to selected_edges\n",
    "    selected_edges.add(edge)\n",
    "    # add the new node to selected_nodes\n",
    "    selected_nodes.add(edge[1])\n",
    "    # Add the edge to the \"objective value\"\n",
    "    objective_value += graph.loc[edge]    \n",
    "    \n",
    "    print(f\"Appended the edge {edge} with a length of {graph.loc[edge]:2.0f}\")\n",
    "\n",
    "print()\n",
    "print(f\"Total length: {objective_value:.0f}\")"
   ]
  },
  {
   "cell_type": "markdown",
   "metadata": {},
   "source": [
    "The answer, no matter what node is used to initialize the problem, will be the one shown in the image below. Note that if there are multiple solutions that are equally good, the solution will depend on the node you start with.\n",
    "\n",
    "<img src=\"05 - Minimal Spanning Three image 03.png\">"
   ]
  }
 ],
 "metadata": {
  "kernelspec": {
   "display_name": "Python 3",
   "language": "python",
   "name": "python3"
  },
  "language_info": {
   "codemirror_mode": {
    "name": "ipython",
    "version": 3
   },
   "file_extension": ".py",
   "mimetype": "text/x-python",
   "name": "python",
   "nbconvert_exporter": "python",
   "pygments_lexer": "ipython3",
   "version": "3.6.8"
  },
  "toc": {
   "base_numbering": 1,
   "nav_menu": {},
   "number_sections": true,
   "sideBar": true,
   "skip_h1_title": false,
   "title_cell": "Table of Contents",
   "title_sidebar": "Contents",
   "toc_cell": false,
   "toc_position": {},
   "toc_section_display": true,
   "toc_window_display": false
  }
 },
 "nbformat": 4,
 "nbformat_minor": 2
}
