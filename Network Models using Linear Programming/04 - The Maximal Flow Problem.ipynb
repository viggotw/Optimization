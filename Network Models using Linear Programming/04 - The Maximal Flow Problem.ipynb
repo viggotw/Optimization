{
 "cells": [
  {
   "cell_type": "code",
   "execution_count": 1,
   "metadata": {
    "ExecuteTime": {
     "end_time": "2020-03-26T09:48:08.400969Z",
     "start_time": "2020-03-26T09:48:07.465732Z"
    }
   },
   "outputs": [],
   "source": [
    "import numpy as np\n",
    "import pandas as pd\n",
    "import pulp"
   ]
  },
  {
   "cell_type": "markdown",
   "metadata": {},
   "source": [
    "# The Maximal Flow Problem"
   ]
  },
  {
   "cell_type": "markdown",
   "metadata": {},
   "source": [
    "<img src=\"04 - The Maximal Flow Problem image 01.png\">\n",
    "\n",
    "Due to climate change, it is a particularly hot summer in Kristiansand this year. The citizens, who have all gathered for the Quart 3.0 festival outside the Christiansholm Fortress, are all thirste for some bear, but the event has not been able to get hold of more from the local brewery Christiansand Bryggeri (CB) because of a blockade made by the religious, self-appointed police force called The Morality Police. Luckily, the city has already anticipted this when they long ago decided to secretly build an undergorund network of pipes that can transport CB beer from the brfewery to any tavern in the city. The Quart 3.0 commitee therefor calls CB and pleads that they send over as much beer as they can. However, how do we maximize get the maximum amount of beer to from the brewery to the festival through this complicated web of pipes? This is a perfect area of use for The Maximal Flow Problem.\n",
    "\n",
    "The image above shows an illustration of this problem as a graph consisting of nodes and edges. In the image, the maximum flow of beer _out_ from a node is written along its edge.\n",
    "\n",
    "Finally, notice that due to different quality of the valves and motor pumps used for transporting the beer, some nodes are not able to deliver out as much as they are able to receive. Some nodes are not even able to send out beer over an edge even though is is able to receive, as in `(D,E)` vs. `(E,D)`. The model must account for this as well."
   ]
  },
  {
   "cell_type": "markdown",
   "metadata": {},
   "source": [
    "## Prepare the data"
   ]
  },
  {
   "cell_type": "code",
   "execution_count": 2,
   "metadata": {
    "ExecuteTime": {
     "end_time": "2020-03-26T09:48:08.407933Z",
     "start_time": "2020-03-26T09:48:08.402967Z"
    }
   },
   "outputs": [],
   "source": [
    "# Constants\n",
    "Nodes = ['A','B','C','D','E','F','G','H','I','J']\n",
    "Transshipment_nodes = ['B','C','D','F','G','H','I','J']\n",
    "Sink = 'A'\n",
    "Source = 'E'"
   ]
  },
  {
   "cell_type": "code",
   "execution_count": 3,
   "metadata": {
    "ExecuteTime": {
     "end_time": "2020-03-26T09:48:08.454938Z",
     "start_time": "2020-03-26T09:48:08.410195Z"
    }
   },
   "outputs": [
    {
     "data": {
      "text/html": [
       "<div>\n",
       "<style scoped>\n",
       "    .dataframe tbody tr th:only-of-type {\n",
       "        vertical-align: middle;\n",
       "    }\n",
       "\n",
       "    .dataframe tbody tr th {\n",
       "        vertical-align: top;\n",
       "    }\n",
       "\n",
       "    .dataframe thead th {\n",
       "        text-align: right;\n",
       "    }\n",
       "</style>\n",
       "<table border=\"1\" class=\"dataframe\">\n",
       "  <thead>\n",
       "    <tr style=\"text-align: right;\">\n",
       "      <th></th>\n",
       "      <th>A</th>\n",
       "      <th>B</th>\n",
       "      <th>C</th>\n",
       "      <th>D</th>\n",
       "      <th>E</th>\n",
       "      <th>F</th>\n",
       "      <th>G</th>\n",
       "      <th>H</th>\n",
       "      <th>I</th>\n",
       "      <th>J</th>\n",
       "    </tr>\n",
       "  </thead>\n",
       "  <tbody>\n",
       "    <tr>\n",
       "      <th>A</th>\n",
       "      <td></td>\n",
       "      <td></td>\n",
       "      <td></td>\n",
       "      <td></td>\n",
       "      <td></td>\n",
       "      <td></td>\n",
       "      <td></td>\n",
       "      <td></td>\n",
       "      <td></td>\n",
       "      <td></td>\n",
       "    </tr>\n",
       "    <tr>\n",
       "      <th>B</th>\n",
       "      <td>230</td>\n",
       "      <td></td>\n",
       "      <td>200</td>\n",
       "      <td>160</td>\n",
       "      <td></td>\n",
       "      <td></td>\n",
       "      <td></td>\n",
       "      <td></td>\n",
       "      <td></td>\n",
       "      <td></td>\n",
       "    </tr>\n",
       "    <tr>\n",
       "      <th>C</th>\n",
       "      <td>240</td>\n",
       "      <td>180</td>\n",
       "      <td></td>\n",
       "      <td></td>\n",
       "      <td>140</td>\n",
       "      <td></td>\n",
       "      <td></td>\n",
       "      <td></td>\n",
       "      <td></td>\n",
       "      <td></td>\n",
       "    </tr>\n",
       "    <tr>\n",
       "      <th>D</th>\n",
       "      <td></td>\n",
       "      <td>250</td>\n",
       "      <td></td>\n",
       "      <td></td>\n",
       "      <td></td>\n",
       "      <td>110</td>\n",
       "      <td></td>\n",
       "      <td></td>\n",
       "      <td></td>\n",
       "      <td></td>\n",
       "    </tr>\n",
       "    <tr>\n",
       "      <th>E</th>\n",
       "      <td></td>\n",
       "      <td></td>\n",
       "      <td></td>\n",
       "      <td>300</td>\n",
       "      <td></td>\n",
       "      <td></td>\n",
       "      <td>400</td>\n",
       "      <td></td>\n",
       "      <td></td>\n",
       "      <td></td>\n",
       "    </tr>\n",
       "    <tr>\n",
       "      <th>F</th>\n",
       "      <td></td>\n",
       "      <td></td>\n",
       "      <td>100</td>\n",
       "      <td>80</td>\n",
       "      <td></td>\n",
       "      <td></td>\n",
       "      <td>130</td>\n",
       "      <td></td>\n",
       "      <td>110</td>\n",
       "      <td></td>\n",
       "    </tr>\n",
       "    <tr>\n",
       "      <th>G</th>\n",
       "      <td></td>\n",
       "      <td></td>\n",
       "      <td></td>\n",
       "      <td></td>\n",
       "      <td></td>\n",
       "      <td>180</td>\n",
       "      <td></td>\n",
       "      <td>200</td>\n",
       "      <td></td>\n",
       "      <td></td>\n",
       "    </tr>\n",
       "    <tr>\n",
       "      <th>H</th>\n",
       "      <td></td>\n",
       "      <td></td>\n",
       "      <td></td>\n",
       "      <td></td>\n",
       "      <td></td>\n",
       "      <td></td>\n",
       "      <td>90</td>\n",
       "      <td></td>\n",
       "      <td>100</td>\n",
       "      <td></td>\n",
       "    </tr>\n",
       "    <tr>\n",
       "      <th>I</th>\n",
       "      <td></td>\n",
       "      <td></td>\n",
       "      <td></td>\n",
       "      <td></td>\n",
       "      <td></td>\n",
       "      <td>60</td>\n",
       "      <td></td>\n",
       "      <td>90</td>\n",
       "      <td></td>\n",
       "      <td>90</td>\n",
       "    </tr>\n",
       "    <tr>\n",
       "      <th>J</th>\n",
       "      <td>120</td>\n",
       "      <td></td>\n",
       "      <td></td>\n",
       "      <td></td>\n",
       "      <td></td>\n",
       "      <td></td>\n",
       "      <td></td>\n",
       "      <td></td>\n",
       "      <td>110</td>\n",
       "      <td></td>\n",
       "    </tr>\n",
       "  </tbody>\n",
       "</table>\n",
       "</div>"
      ],
      "text/plain": [
       "     A    B    C    D    E    F    G    H    I   J\n",
       "A                                                 \n",
       "B  230       200  160                             \n",
       "C  240  180            140                        \n",
       "D       250                 110                   \n",
       "E                 300            400              \n",
       "F            100   80            130       110    \n",
       "G                           180       200         \n",
       "H                                 90       100    \n",
       "I                            60        90       90\n",
       "J  120                                     110    "
      ]
     },
     "execution_count": 3,
     "metadata": {},
     "output_type": "execute_result"
    }
   ],
   "source": [
    "# Maximum flow\n",
    "data = [\n",
    "    [np.nan, np.nan, np.nan, np.nan, np.nan, np.nan, np.nan, np.nan, np.nan, np.nan],\n",
    "    [   230, np.nan,    200,    160, np.nan, np.nan, np.nan, np.nan, np.nan, np.nan],\n",
    "    [   240,    180, np.nan, np.nan,    140, np.nan, np.nan, np.nan, np.nan, np.nan],\n",
    "    [np.nan,    250, np.nan, np.nan, np.nan,    110, np.nan, np.nan, np.nan, np.nan],\n",
    "    [np.nan, np.nan, np.nan,    300, np.nan, np.nan,    400, np.nan, np.nan, np.nan],\n",
    "    [np.nan, np.nan,    100,     80, np.nan, np.nan,    130, np.nan,    110, np.nan],\n",
    "    [np.nan, np.nan, np.nan, np.nan, np.nan,    180, np.nan,    200, np.nan, np.nan],\n",
    "    [np.nan, np.nan, np.nan, np.nan, np.nan, np.nan,     90, np.nan,    100, np.nan],\n",
    "    [np.nan, np.nan, np.nan, np.nan, np.nan,     60, np.nan,     90, np.nan,     90],\n",
    "    [   120, np.nan, np.nan, np.nan, np.nan, np.nan, np.nan, np.nan,    110, np.nan]\n",
    "]\n",
    "\n",
    "max_flow_df = pd.DataFrame(data=data, index=Nodes, columns=Nodes)\n",
    "max_flow_df.fillna(' ')"
   ]
  },
  {
   "cell_type": "markdown",
   "metadata": {},
   "source": [
    "## Create the variables"
   ]
  },
  {
   "cell_type": "markdown",
   "metadata": {},
   "source": [
    "We define the variable $x_{i,j}$ to be a continous variabel that describe the flow from node $i$ to node $j$. The value of each variable can vary between no flow (zero) and the maximum flow that the edge can provide. Since any node is not connected directly to all the other nodes, we only need to create variables for the connections that actually exsist. If you count, you will see that there are 14 different routes on the map. Further, since each route between any two nodes should support sending a flow in both directions, we need two variables per edge (one for each direction). This mean that we end up with a total of 28 variables to describe this problem."
   ]
  },
  {
   "cell_type": "code",
   "execution_count": 4,
   "metadata": {
    "ExecuteTime": {
     "end_time": "2020-03-26T09:48:08.463941Z",
     "start_time": "2020-03-26T09:48:08.455966Z"
    }
   },
   "outputs": [
    {
     "data": {
      "text/plain": [
       "{'A': {},\n",
       " 'B': {'A': 230.0, 'C': 200.0, 'D': 160.0},\n",
       " 'C': {'A': 240.0, 'B': 180.0, 'E': 140.0},\n",
       " 'D': {'B': 250.0, 'F': 110.0},\n",
       " 'E': {'D': 300.0, 'G': 400.0},\n",
       " 'F': {'C': 100.0, 'D': 80.0, 'G': 130.0, 'I': 110.0},\n",
       " 'G': {'F': 180.0, 'H': 200.0},\n",
       " 'H': {'G': 90.0, 'I': 100.0},\n",
       " 'I': {'F': 60.0, 'H': 90.0, 'J': 90.0},\n",
       " 'J': {'A': 120.0, 'I': 110.0}}"
      ]
     },
     "execution_count": 4,
     "metadata": {},
     "output_type": "execute_result"
    }
   ],
   "source": [
    "# Let us first extract only the values the correspond to a route between to nodes and save them as a dictionary\n",
    "max_flow = {i:{j:flow for j, flow in row.items() if pd.notnull(flow)} for i, row in max_flow_df.T.to_dict().items()}\n",
    "max_flow"
   ]
  },
  {
   "cell_type": "markdown",
   "metadata": {},
   "source": [
    "A formal LP formulation would normally include a constraint for the maximum flow over each edge, like this:\n",
    "$$x_{i,j} \\leq K_{i,j}$$\n",
    "where $K_{i,j}$ is a constant that defines the maximum allowed flow over that edge. In PuLP, however, this can be included in the creation of the variable, where you can specify a lower and upper bound."
   ]
  },
  {
   "cell_type": "code",
   "execution_count": 5,
   "metadata": {
    "ExecuteTime": {
     "end_time": "2020-03-26T09:48:08.470941Z",
     "start_time": "2020-03-26T09:48:08.464940Z"
    }
   },
   "outputs": [],
   "source": [
    "# Create variables\n",
    "x = pulp.LpVariable.dicts('route',\n",
    "                          ((i, j) for i in max_flow for j in max_flow[i]),\n",
    "                          lowBound = 0,\n",
    "                          cat='Continuous')\n",
    "\n",
    "# Limit maximum flow\n",
    "for i in max_flow:\n",
    "    for j in max_flow[i]:\n",
    "        x[i,j].upBound = max_flow[i][j]"
   ]
  },
  {
   "cell_type": "markdown",
   "metadata": {},
   "source": [
    "## Initiate an empty LP Problem"
   ]
  },
  {
   "cell_type": "code",
   "execution_count": 6,
   "metadata": {
    "ExecuteTime": {
     "end_time": "2020-03-26T09:48:08.478942Z",
     "start_time": "2020-03-26T09:48:08.471941Z"
    }
   },
   "outputs": [],
   "source": [
    "prob = pulp.LpProblem(\"MaximalFlowProblem\", pulp.LpMaximize)"
   ]
  },
  {
   "cell_type": "markdown",
   "metadata": {
    "ExecuteTime": {
     "end_time": "2020-03-23T14:18:01.614607Z",
     "start_time": "2020-03-23T14:18:01.608622Z"
    }
   },
   "source": [
    "## Create the constraints"
   ]
  },
  {
   "cell_type": "markdown",
   "metadata": {},
   "source": [
    "### Flow to sink (Quart 3.0) must equal flow from source (CB)"
   ]
  },
  {
   "cell_type": "markdown",
   "metadata": {},
   "source": [
    "Since we ca trust the taverns (nodes) in the networks to not store any of the beer for themselves, we can assume that the amount of beer sent out of the bewery source node `E` equals the amount of beer received at the festival sink node `A`.\n",
    "$$x_{E,D} + x_{E,G} = x_{B,A} + x_{C,A} + x_{J,A}$$\n",
    "\n",
    "or simply\n",
    "\n",
    "$$\\textrm{flow out from source} = \\textrm{flow in to sink}$$"
   ]
  },
  {
   "cell_type": "code",
   "execution_count": 7,
   "metadata": {
    "ExecuteTime": {
     "end_time": "2020-03-26T09:48:08.487944Z",
     "start_time": "2020-03-26T09:48:08.480943Z"
    }
   },
   "outputs": [],
   "source": [
    "from_source = pulp.lpSum([x[Source, j] for j in max_flow_df.T[Source].dropna().keys()])\n",
    "to_sink = pulp.lpSum([x[i, Sink] for i in max_flow_df[Sink].dropna().keys()])\n",
    "\n",
    "prob += from_source == to_sink, f\"From source {Source} to sink {Sink}\""
   ]
  },
  {
   "cell_type": "markdown",
   "metadata": {},
   "source": [
    "### What goes in must come out"
   ]
  },
  {
   "cell_type": "markdown",
   "metadata": {},
   "source": [
    "Similarly to the transshipment problem, we can set up a constraint for all tavern transshipment nodes (`B`,`C`,`D`,`F`,`G`,`H`,`I`,`J`) that all the beer flow enetering this node should also leave it. As an example, the rule for the transshipment node `H` would be:\n",
    "$$x_{G,H} + x_{I,H} = x_{H,G} + x_{H,I}$$\n",
    "\n",
    "or simply\n",
    "\n",
    "$$\\textrm{flow in} = \\textrm{flow out}$$"
   ]
  },
  {
   "cell_type": "code",
   "execution_count": 8,
   "metadata": {
    "ExecuteTime": {
     "end_time": "2020-03-26T09:48:08.504980Z",
     "start_time": "2020-03-26T09:48:08.489948Z"
    }
   },
   "outputs": [],
   "source": [
    "for i in Transshipment_nodes:\n",
    "    node_out = pulp.lpSum([x[i,j] for j in max_flow_df.loc[i,:].dropna().index])\n",
    "    node_in = pulp.lpSum([x[j,i] for j in max_flow_df.loc[:,i].dropna().index])\n",
    "    \n",
    "    prob += node_in == node_out, f\"Flow in and out from node {i}\""
   ]
  },
  {
   "cell_type": "markdown",
   "metadata": {},
   "source": [
    "## Create the objective function\n",
    "Since we want to maximize the amount of beer flowing to node `A`, this is the same as maximizing the flow over every edge going into node `A`."
   ]
  },
  {
   "cell_type": "code",
   "execution_count": 9,
   "metadata": {
    "ExecuteTime": {
     "end_time": "2020-03-26T09:48:08.516973Z",
     "start_time": "2020-03-26T09:48:08.505945Z"
    }
   },
   "outputs": [
    {
     "data": {
      "text/plain": [
       "C    140.0\n",
       "Name: E, dtype: float64"
      ]
     },
     "execution_count": 9,
     "metadata": {},
     "output_type": "execute_result"
    }
   ],
   "source": [
    "max_flow_df[Source].dropna()"
   ]
  },
  {
   "cell_type": "code",
   "execution_count": 10,
   "metadata": {
    "ExecuteTime": {
     "end_time": "2020-03-26T09:48:08.537951Z",
     "start_time": "2020-03-26T09:48:08.517947Z"
    }
   },
   "outputs": [
    {
     "data": {
      "text/html": [
       "<div>\n",
       "<style scoped>\n",
       "    .dataframe tbody tr th:only-of-type {\n",
       "        vertical-align: middle;\n",
       "    }\n",
       "\n",
       "    .dataframe tbody tr th {\n",
       "        vertical-align: top;\n",
       "    }\n",
       "\n",
       "    .dataframe thead th {\n",
       "        text-align: right;\n",
       "    }\n",
       "</style>\n",
       "<table border=\"1\" class=\"dataframe\">\n",
       "  <thead>\n",
       "    <tr style=\"text-align: right;\">\n",
       "      <th></th>\n",
       "      <th>A</th>\n",
       "      <th>B</th>\n",
       "      <th>C</th>\n",
       "      <th>D</th>\n",
       "      <th>E</th>\n",
       "      <th>F</th>\n",
       "      <th>G</th>\n",
       "      <th>H</th>\n",
       "      <th>I</th>\n",
       "      <th>J</th>\n",
       "    </tr>\n",
       "  </thead>\n",
       "  <tbody>\n",
       "    <tr>\n",
       "      <th>A</th>\n",
       "      <td></td>\n",
       "      <td></td>\n",
       "      <td></td>\n",
       "      <td></td>\n",
       "      <td></td>\n",
       "      <td></td>\n",
       "      <td></td>\n",
       "      <td></td>\n",
       "      <td></td>\n",
       "      <td></td>\n",
       "    </tr>\n",
       "    <tr>\n",
       "      <th>B</th>\n",
       "      <td>230</td>\n",
       "      <td></td>\n",
       "      <td>200</td>\n",
       "      <td>160</td>\n",
       "      <td></td>\n",
       "      <td></td>\n",
       "      <td></td>\n",
       "      <td></td>\n",
       "      <td></td>\n",
       "      <td></td>\n",
       "    </tr>\n",
       "    <tr>\n",
       "      <th>C</th>\n",
       "      <td>240</td>\n",
       "      <td>180</td>\n",
       "      <td></td>\n",
       "      <td></td>\n",
       "      <td>140</td>\n",
       "      <td></td>\n",
       "      <td></td>\n",
       "      <td></td>\n",
       "      <td></td>\n",
       "      <td></td>\n",
       "    </tr>\n",
       "    <tr>\n",
       "      <th>D</th>\n",
       "      <td></td>\n",
       "      <td>250</td>\n",
       "      <td></td>\n",
       "      <td></td>\n",
       "      <td></td>\n",
       "      <td>110</td>\n",
       "      <td></td>\n",
       "      <td></td>\n",
       "      <td></td>\n",
       "      <td></td>\n",
       "    </tr>\n",
       "    <tr>\n",
       "      <th>E</th>\n",
       "      <td></td>\n",
       "      <td></td>\n",
       "      <td></td>\n",
       "      <td>300</td>\n",
       "      <td></td>\n",
       "      <td></td>\n",
       "      <td>400</td>\n",
       "      <td></td>\n",
       "      <td></td>\n",
       "      <td></td>\n",
       "    </tr>\n",
       "    <tr>\n",
       "      <th>F</th>\n",
       "      <td></td>\n",
       "      <td></td>\n",
       "      <td>100</td>\n",
       "      <td>80</td>\n",
       "      <td></td>\n",
       "      <td></td>\n",
       "      <td>130</td>\n",
       "      <td></td>\n",
       "      <td>110</td>\n",
       "      <td></td>\n",
       "    </tr>\n",
       "    <tr>\n",
       "      <th>G</th>\n",
       "      <td></td>\n",
       "      <td></td>\n",
       "      <td></td>\n",
       "      <td></td>\n",
       "      <td></td>\n",
       "      <td>180</td>\n",
       "      <td></td>\n",
       "      <td>200</td>\n",
       "      <td></td>\n",
       "      <td></td>\n",
       "    </tr>\n",
       "    <tr>\n",
       "      <th>H</th>\n",
       "      <td></td>\n",
       "      <td></td>\n",
       "      <td></td>\n",
       "      <td></td>\n",
       "      <td></td>\n",
       "      <td></td>\n",
       "      <td>90</td>\n",
       "      <td></td>\n",
       "      <td>100</td>\n",
       "      <td></td>\n",
       "    </tr>\n",
       "    <tr>\n",
       "      <th>I</th>\n",
       "      <td></td>\n",
       "      <td></td>\n",
       "      <td></td>\n",
       "      <td></td>\n",
       "      <td></td>\n",
       "      <td>60</td>\n",
       "      <td></td>\n",
       "      <td>90</td>\n",
       "      <td></td>\n",
       "      <td>90</td>\n",
       "    </tr>\n",
       "    <tr>\n",
       "      <th>J</th>\n",
       "      <td>120</td>\n",
       "      <td></td>\n",
       "      <td></td>\n",
       "      <td></td>\n",
       "      <td></td>\n",
       "      <td></td>\n",
       "      <td></td>\n",
       "      <td></td>\n",
       "      <td>110</td>\n",
       "      <td></td>\n",
       "    </tr>\n",
       "  </tbody>\n",
       "</table>\n",
       "</div>"
      ],
      "text/plain": [
       "     A    B    C    D    E    F    G    H    I   J\n",
       "A                                                 \n",
       "B  230       200  160                             \n",
       "C  240  180            140                        \n",
       "D       250                 110                   \n",
       "E                 300            400              \n",
       "F            100   80            130       110    \n",
       "G                           180       200         \n",
       "H                                 90       100    \n",
       "I                            60        90       90\n",
       "J  120                                     110    "
      ]
     },
     "execution_count": 10,
     "metadata": {},
     "output_type": "execute_result"
    }
   ],
   "source": [
    "max_flow_df.fillna(' ')"
   ]
  },
  {
   "cell_type": "code",
   "execution_count": 11,
   "metadata": {
    "ExecuteTime": {
     "end_time": "2020-03-26T09:48:08.549954Z",
     "start_time": "2020-03-26T09:48:08.539948Z"
    }
   },
   "outputs": [],
   "source": [
    "prob += pulp.lpSum([x[i,Sink] for i in max_flow_df[Sink].dropna().keys()])"
   ]
  },
  {
   "cell_type": "markdown",
   "metadata": {},
   "source": [
    "## Find the optimal solution"
   ]
  },
  {
   "cell_type": "code",
   "execution_count": 12,
   "metadata": {
    "ExecuteTime": {
     "end_time": "2020-03-26T09:48:08.692973Z",
     "start_time": "2020-03-26T09:48:08.551952Z"
    }
   },
   "outputs": [
    {
     "name": "stdout",
     "output_type": "stream",
     "text": [
      "The solver found a solution that is *Optimal*, where the total amount of beer reveiced was 440.0 liters\n"
     ]
    }
   ],
   "source": [
    "prob.solve()\n",
    "status = pulp.LpStatus[prob.status]\n",
    "obj_value = prob.objective.value()\n",
    "\n",
    "print(f\"The solver found a solution that is *{status}*, where the total amount of beer reveiced was {obj_value:,.1f} liters\")"
   ]
  },
  {
   "cell_type": "code",
   "execution_count": 13,
   "metadata": {
    "ExecuteTime": {
     "end_time": "2020-03-26T09:48:08.718977Z",
     "start_time": "2020-03-26T09:48:08.694974Z"
    }
   },
   "outputs": [
    {
     "data": {
      "text/html": [
       "<div>\n",
       "<style scoped>\n",
       "    .dataframe tbody tr th:only-of-type {\n",
       "        vertical-align: middle;\n",
       "    }\n",
       "\n",
       "    .dataframe tbody tr th {\n",
       "        vertical-align: top;\n",
       "    }\n",
       "\n",
       "    .dataframe thead th {\n",
       "        text-align: right;\n",
       "    }\n",
       "</style>\n",
       "<table border=\"1\" class=\"dataframe\">\n",
       "  <thead>\n",
       "    <tr style=\"text-align: right;\">\n",
       "      <th></th>\n",
       "      <th>A</th>\n",
       "      <th>B</th>\n",
       "      <th>C</th>\n",
       "      <th>D</th>\n",
       "      <th>E</th>\n",
       "      <th>F</th>\n",
       "      <th>G</th>\n",
       "      <th>H</th>\n",
       "      <th>I</th>\n",
       "      <th>J</th>\n",
       "    </tr>\n",
       "  </thead>\n",
       "  <tbody>\n",
       "    <tr>\n",
       "      <th>A</th>\n",
       "      <td></td>\n",
       "      <td></td>\n",
       "      <td></td>\n",
       "      <td></td>\n",
       "      <td></td>\n",
       "      <td></td>\n",
       "      <td></td>\n",
       "      <td></td>\n",
       "      <td></td>\n",
       "      <td></td>\n",
       "    </tr>\n",
       "    <tr>\n",
       "      <th>B</th>\n",
       "      <td>230</td>\n",
       "      <td></td>\n",
       "      <td>20</td>\n",
       "      <td>0</td>\n",
       "      <td></td>\n",
       "      <td></td>\n",
       "      <td></td>\n",
       "      <td></td>\n",
       "      <td></td>\n",
       "      <td></td>\n",
       "    </tr>\n",
       "    <tr>\n",
       "      <th>C</th>\n",
       "      <td>120</td>\n",
       "      <td>0</td>\n",
       "      <td></td>\n",
       "      <td></td>\n",
       "      <td>0</td>\n",
       "      <td></td>\n",
       "      <td></td>\n",
       "      <td></td>\n",
       "      <td></td>\n",
       "      <td></td>\n",
       "    </tr>\n",
       "    <tr>\n",
       "      <th>D</th>\n",
       "      <td></td>\n",
       "      <td>250</td>\n",
       "      <td></td>\n",
       "      <td></td>\n",
       "      <td></td>\n",
       "      <td>50</td>\n",
       "      <td></td>\n",
       "      <td></td>\n",
       "      <td></td>\n",
       "      <td></td>\n",
       "    </tr>\n",
       "    <tr>\n",
       "      <th>E</th>\n",
       "      <td></td>\n",
       "      <td></td>\n",
       "      <td></td>\n",
       "      <td>300</td>\n",
       "      <td></td>\n",
       "      <td></td>\n",
       "      <td>140</td>\n",
       "      <td></td>\n",
       "      <td></td>\n",
       "      <td></td>\n",
       "    </tr>\n",
       "    <tr>\n",
       "      <th>F</th>\n",
       "      <td></td>\n",
       "      <td></td>\n",
       "      <td>100</td>\n",
       "      <td>0</td>\n",
       "      <td></td>\n",
       "      <td></td>\n",
       "      <td>0</td>\n",
       "      <td></td>\n",
       "      <td>0</td>\n",
       "      <td></td>\n",
       "    </tr>\n",
       "    <tr>\n",
       "      <th>G</th>\n",
       "      <td></td>\n",
       "      <td></td>\n",
       "      <td></td>\n",
       "      <td></td>\n",
       "      <td></td>\n",
       "      <td>50</td>\n",
       "      <td></td>\n",
       "      <td>90</td>\n",
       "      <td></td>\n",
       "      <td></td>\n",
       "    </tr>\n",
       "    <tr>\n",
       "      <th>H</th>\n",
       "      <td></td>\n",
       "      <td></td>\n",
       "      <td></td>\n",
       "      <td></td>\n",
       "      <td></td>\n",
       "      <td></td>\n",
       "      <td>0</td>\n",
       "      <td></td>\n",
       "      <td>90</td>\n",
       "      <td></td>\n",
       "    </tr>\n",
       "    <tr>\n",
       "      <th>I</th>\n",
       "      <td></td>\n",
       "      <td></td>\n",
       "      <td></td>\n",
       "      <td></td>\n",
       "      <td></td>\n",
       "      <td>0</td>\n",
       "      <td></td>\n",
       "      <td>0</td>\n",
       "      <td></td>\n",
       "      <td>90</td>\n",
       "    </tr>\n",
       "    <tr>\n",
       "      <th>J</th>\n",
       "      <td>90</td>\n",
       "      <td></td>\n",
       "      <td></td>\n",
       "      <td></td>\n",
       "      <td></td>\n",
       "      <td></td>\n",
       "      <td></td>\n",
       "      <td></td>\n",
       "      <td>0</td>\n",
       "      <td></td>\n",
       "    </tr>\n",
       "  </tbody>\n",
       "</table>\n",
       "</div>"
      ],
      "text/plain": [
       "     A    B    C    D  E   F    G   H   I   J\n",
       "A                                            \n",
       "B  230        20    0                        \n",
       "C  120    0            0                     \n",
       "D       250               50                 \n",
       "E                 300         140            \n",
       "F            100    0           0       0    \n",
       "G                         50       90        \n",
       "H                               0      90    \n",
       "I                          0        0      90\n",
       "J   90                                  0    "
      ]
     },
     "execution_count": 13,
     "metadata": {},
     "output_type": "execute_result"
    }
   ],
   "source": [
    "results = pd.DataFrame.from_dict(data={i: {j: x[i,j].value() for j in max_flow[i]} for i in max_flow}, orient='index')\n",
    "results = pd.concat([pd.DataFrame([], index=['A']), results], sort=True)\n",
    "\n",
    "results.fillna('')"
   ]
  },
  {
   "cell_type": "markdown",
   "metadata": {},
   "source": [
    "The final solutions is represented in the table above, where each number represents how much beer will be transported from node $i$ to node $j$. The same result is summarized in the image below. Notice that for this example there are multiple global optimums, and your results when running this notebook might be slightly different than this solution (though the objective value should stay the same). The reason for this is because there exists other, equally good solutions for this problem, and it can be kind of random what solution your solver finds first. An equally good solution can be observed at node `C`, where our solution chooses to send 20 liters of beer from `C` to `B` before sending it to node `A`. You would have an equally good solution if node `C` just sent those 20 liters directly to `A`.\n",
    "\n",
    "When stating that the alternative solution above is \"equally good\", it means that it generates an equally good objective value. However, in the case of transpoting units through a physical network, it is often desirable to also minimize either the number of nodes the units pass through or the totalt work that has to be done to process the total network flow. So there might axists solutions that are better or worse for the actual problem you want to solve, but give a similar, or even worse, objective value as a result of how you have formulated your problem. If this is the case, you would normally have to add more constraints or tweak your objective function to make the formulation better support your desired behaviour of the system.\n",
    "\n",
    "<img src=\"04 - The Maximal Flow Problem image 02.png\">"
   ]
  },
  {
   "cell_type": "code",
   "execution_count": null,
   "metadata": {},
   "outputs": [],
   "source": []
  }
 ],
 "metadata": {
  "kernelspec": {
   "display_name": "Python 3",
   "language": "python",
   "name": "python3"
  },
  "language_info": {
   "codemirror_mode": {
    "name": "ipython",
    "version": 3
   },
   "file_extension": ".py",
   "mimetype": "text/x-python",
   "name": "python",
   "nbconvert_exporter": "python",
   "pygments_lexer": "ipython3",
   "version": "3.6.8"
  },
  "toc": {
   "base_numbering": 1,
   "nav_menu": {},
   "number_sections": true,
   "sideBar": true,
   "skip_h1_title": false,
   "title_cell": "Table of Contents",
   "title_sidebar": "Contents",
   "toc_cell": false,
   "toc_position": {},
   "toc_section_display": true,
   "toc_window_display": false
  }
 },
 "nbformat": 4,
 "nbformat_minor": 2
}
