{
 "cells": [
  {
   "cell_type": "code",
   "execution_count": 44,
   "metadata": {},
   "outputs": [],
   "source": [
    "import matplotlib.pyplot as plt\n",
    "import numpy\n",
    "import onnx\n",
    "import onnxruntime as rt\n",
    "import pandas as pd\n",
    "import pickle\n",
    "import pyomo.environ as pyo\n",
    "from omlt import OmltBlock\n",
    "from omlt.gbt import GBTBigMFormulation, GradientBoostedTreeModel"
   ]
  },
  {
   "cell_type": "code",
   "execution_count": 45,
   "metadata": {},
   "outputs": [
    {
     "name": "stdout",
     "output_type": "stream",
     "text": [
      "Base score of the gradient-boosted trees: 4363.578666666666\n"
     ]
    }
   ],
   "source": [
    "with open(\"base_score\", \"r\") as f:\n",
    "    BASE_SCORE = float(f.read())  # Mean value of labeled training data, see previous notebook\n",
    "print(f\"Base score of the gradient-boosted trees: {BASE_SCORE}\")"
   ]
  },
  {
   "cell_type": "code",
   "execution_count": 46,
   "metadata": {},
   "outputs": [
    {
     "data": {
      "text/html": [
       "<div>\n",
       "<style scoped>\n",
       "    .dataframe tbody tr th:only-of-type {\n",
       "        vertical-align: middle;\n",
       "    }\n",
       "\n",
       "    .dataframe tbody tr th {\n",
       "        vertical-align: top;\n",
       "    }\n",
       "\n",
       "    .dataframe thead th {\n",
       "        text-align: right;\n",
       "    }\n",
       "</style>\n",
       "<table border=\"1\" class=\"dataframe\">\n",
       "  <thead>\n",
       "    <tr style=\"text-align: right;\">\n",
       "      <th></th>\n",
       "      <th>average_speed_kph</th>\n",
       "      <th>distance</th>\n",
       "      <th>elevation_gain</th>\n",
       "      <th>expected_precipitation</th>\n",
       "      <th>time_of_departure_min</th>\n",
       "    </tr>\n",
       "  </thead>\n",
       "  <tbody>\n",
       "    <tr>\n",
       "      <th>0</th>\n",
       "      <td>50</td>\n",
       "      <td>2000</td>\n",
       "      <td>0</td>\n",
       "      <td>0</td>\n",
       "      <td>720</td>\n",
       "    </tr>\n",
       "    <tr>\n",
       "      <th>1</th>\n",
       "      <td>50</td>\n",
       "      <td>5000</td>\n",
       "      <td>0</td>\n",
       "      <td>0</td>\n",
       "      <td>720</td>\n",
       "    </tr>\n",
       "    <tr>\n",
       "      <th>2</th>\n",
       "      <td>80</td>\n",
       "      <td>2000</td>\n",
       "      <td>0</td>\n",
       "      <td>0</td>\n",
       "      <td>720</td>\n",
       "    </tr>\n",
       "    <tr>\n",
       "      <th>3</th>\n",
       "      <td>50</td>\n",
       "      <td>2000</td>\n",
       "      <td>100</td>\n",
       "      <td>0</td>\n",
       "      <td>720</td>\n",
       "    </tr>\n",
       "    <tr>\n",
       "      <th>4</th>\n",
       "      <td>50</td>\n",
       "      <td>2000</td>\n",
       "      <td>0</td>\n",
       "      <td>0</td>\n",
       "      <td>0</td>\n",
       "    </tr>\n",
       "    <tr>\n",
       "      <th>5</th>\n",
       "      <td>50</td>\n",
       "      <td>2000</td>\n",
       "      <td>0</td>\n",
       "      <td>5</td>\n",
       "      <td>720</td>\n",
       "    </tr>\n",
       "  </tbody>\n",
       "</table>\n",
       "</div>"
      ],
      "text/plain": [
       "   average_speed_kph  distance  elevation_gain  expected_precipitation  \\\n",
       "0                 50      2000               0                       0   \n",
       "1                 50      5000               0                       0   \n",
       "2                 80      2000               0                       0   \n",
       "3                 50      2000             100                       0   \n",
       "4                 50      2000               0                       0   \n",
       "5                 50      2000               0                       5   \n",
       "\n",
       "   time_of_departure_min  \n",
       "0                    720  \n",
       "1                    720  \n",
       "2                    720  \n",
       "3                    720  \n",
       "4                      0  \n",
       "5                    720  "
      ]
     },
     "execution_count": 46,
     "metadata": {},
     "output_type": "execute_result"
    }
   ],
   "source": [
    "# Example input\n",
    "data = dict(\n",
    "    average_speed_kph = [50, 50, 80, 50, 50, 50],\n",
    "    distance = [2000, 5000, 2000, 2000, 2000, 2000],\n",
    "    elevation_gain = [0, 0, 0, 100, 0, 0],\n",
    "    expected_precipitation = [0, 0, 0, 0, 0, 5],\n",
    "    time_of_departure_min = [12*60, 12*60, 12*60, 12*60, 0, 12*60],\n",
    ")\n",
    "\n",
    "X_test = pd.DataFrame.from_dict(data)\n",
    "X_test"
   ]
  },
  {
   "cell_type": "code",
   "execution_count": 47,
   "metadata": {},
   "outputs": [],
   "source": [
    "# Read pickled model\n",
    "with open('model.pkl', 'rb') as f:\n",
    "    pkl_model = pickle.loads(f.read())\n",
    "\n",
    "# Read ONNX model\n",
    "onx_sess = rt.InferenceSession(\"model.onnx\", providers=rt.get_available_providers())\n"
   ]
  },
  {
   "cell_type": "code",
   "execution_count": 48,
   "metadata": {},
   "outputs": [],
   "source": [
    "# Predictions from pickle model\n",
    "y_pkl = pd.Series(pkl_model.predict(X_test), name=\"Predictions from pickle model\")"
   ]
  },
  {
   "cell_type": "code",
   "execution_count": 49,
   "metadata": {},
   "outputs": [],
   "source": [
    "# Predictions from ONNX model\n",
    "input_name = onx_sess.get_inputs()[0].name\n",
    "pred_onx = onx_sess.run(None, {input_name: X_test.to_numpy().astype(numpy.float32)})[0]\n",
    "y_onx = pd.Series(pred_onx.ravel(), name=\"Predictions from ONNX model\")"
   ]
  },
  {
   "cell_type": "code",
   "execution_count": 50,
   "metadata": {},
   "outputs": [
    {
     "name": "stdout",
     "output_type": "stream",
     "text": [
      "WARNING (W1002): Setting Var 'gbt.scaled_inputs[0]' to a numeric value `0`\n",
      "    outside the bounds (50, 50).\n",
      "    See also https://pyomo.readthedocs.io/en/stable/errors.html#w1002\n",
      "WARNING (W1002): Setting Var 'gbt.scaled_inputs[0]' to a numeric value `0`\n",
      "    outside the bounds (50, 50).\n",
      "    See also https://pyomo.readthedocs.io/en/stable/errors.html#w1002\n",
      "WARNING (W1002): Setting Var 'gbt.scaled_inputs[1]' to a numeric value `0`\n",
      "    outside the bounds (2000, 2000).\n",
      "    See also https://pyomo.readthedocs.io/en/stable/errors.html#w1002\n",
      "WARNING (W1002): Setting Var 'gbt.scaled_inputs[4]' to a numeric value `0`\n",
      "    outside the bounds (720, 720).\n",
      "    See also https://pyomo.readthedocs.io/en/stable/errors.html#w1002\n",
      "WARNING: Constant objective detected, replacing with a placeholder to prevent\n",
      "    solver failure.\n",
      "WARNING (W1002): Setting Var 'gbt.scaled_inputs[0]' to a numeric value `0`\n",
      "    outside the bounds (50, 50).\n",
      "    See also https://pyomo.readthedocs.io/en/stable/errors.html#w1002\n",
      "WARNING (W1002): Setting Var 'gbt.scaled_inputs[0]' to a numeric value `0`\n",
      "    outside the bounds (50, 50).\n",
      "    See also https://pyomo.readthedocs.io/en/stable/errors.html#w1002\n",
      "WARNING (W1002): Setting Var 'gbt.scaled_inputs[1]' to a numeric value `0`\n",
      "    outside the bounds (5000, 5000).\n",
      "    See also https://pyomo.readthedocs.io/en/stable/errors.html#w1002\n",
      "WARNING (W1002): Setting Var 'gbt.scaled_inputs[4]' to a numeric value `0`\n",
      "    outside the bounds (720, 720).\n",
      "    See also https://pyomo.readthedocs.io/en/stable/errors.html#w1002\n",
      "WARNING: Constant objective detected, replacing with a placeholder to prevent\n",
      "    solver failure.\n",
      "WARNING (W1002): Setting Var 'gbt.scaled_inputs[0]' to a numeric value `0`\n",
      "    outside the bounds (80, 80).\n",
      "    See also https://pyomo.readthedocs.io/en/stable/errors.html#w1002\n",
      "WARNING (W1002): Setting Var 'gbt.scaled_inputs[0]' to a numeric value `0`\n",
      "    outside the bounds (80, 80).\n",
      "    See also https://pyomo.readthedocs.io/en/stable/errors.html#w1002\n",
      "WARNING (W1002): Setting Var 'gbt.scaled_inputs[1]' to a numeric value `0`\n",
      "    outside the bounds (2000, 2000).\n",
      "    See also https://pyomo.readthedocs.io/en/stable/errors.html#w1002\n",
      "WARNING (W1002): Setting Var 'gbt.scaled_inputs[4]' to a numeric value `0`\n",
      "    outside the bounds (720, 720).\n",
      "    See also https://pyomo.readthedocs.io/en/stable/errors.html#w1002\n",
      "WARNING: Constant objective detected, replacing with a placeholder to prevent\n",
      "    solver failure.\n",
      "WARNING (W1002): Setting Var 'gbt.scaled_inputs[0]' to a numeric value `0`\n",
      "    outside the bounds (50, 50).\n",
      "    See also https://pyomo.readthedocs.io/en/stable/errors.html#w1002\n",
      "WARNING (W1002): Setting Var 'gbt.scaled_inputs[0]' to a numeric value `0`\n",
      "    outside the bounds (50, 50).\n",
      "    See also https://pyomo.readthedocs.io/en/stable/errors.html#w1002\n",
      "WARNING (W1002): Setting Var 'gbt.scaled_inputs[1]' to a numeric value `0`\n",
      "    outside the bounds (2000, 2000).\n",
      "    See also https://pyomo.readthedocs.io/en/stable/errors.html#w1002\n",
      "WARNING (W1002): Setting Var 'gbt.scaled_inputs[2]' to a numeric value `0`\n",
      "    outside the bounds (100, 100).\n",
      "    See also https://pyomo.readthedocs.io/en/stable/errors.html#w1002\n",
      "WARNING (W1002): Setting Var 'gbt.scaled_inputs[4]' to a numeric value `0`\n",
      "    outside the bounds (720, 720).\n",
      "    See also https://pyomo.readthedocs.io/en/stable/errors.html#w1002\n",
      "WARNING: Constant objective detected, replacing with a placeholder to prevent\n",
      "    solver failure.\n",
      "WARNING (W1002): Setting Var 'gbt.scaled_inputs[0]' to a numeric value `0`\n",
      "    outside the bounds (50, 50).\n",
      "    See also https://pyomo.readthedocs.io/en/stable/errors.html#w1002\n",
      "WARNING (W1002): Setting Var 'gbt.scaled_inputs[0]' to a numeric value `0`\n",
      "    outside the bounds (50, 50).\n",
      "    See also https://pyomo.readthedocs.io/en/stable/errors.html#w1002\n",
      "WARNING (W1002): Setting Var 'gbt.scaled_inputs[1]' to a numeric value `0`\n",
      "    outside the bounds (2000, 2000).\n",
      "    See also https://pyomo.readthedocs.io/en/stable/errors.html#w1002\n",
      "WARNING: Constant objective detected, replacing with a placeholder to prevent\n",
      "    solver failure.\n",
      "WARNING (W1002): Setting Var 'gbt.scaled_inputs[0]' to a numeric value `0`\n",
      "    outside the bounds (50, 50).\n",
      "    See also https://pyomo.readthedocs.io/en/stable/errors.html#w1002\n",
      "WARNING (W1002): Setting Var 'gbt.scaled_inputs[0]' to a numeric value `0`\n",
      "    outside the bounds (50, 50).\n",
      "    See also https://pyomo.readthedocs.io/en/stable/errors.html#w1002\n",
      "WARNING (W1002): Setting Var 'gbt.scaled_inputs[1]' to a numeric value `0`\n",
      "    outside the bounds (2000, 2000).\n",
      "    See also https://pyomo.readthedocs.io/en/stable/errors.html#w1002\n",
      "WARNING (W1002): Setting Var 'gbt.scaled_inputs[3]' to a numeric value `0`\n",
      "    outside the bounds (5, 5).\n",
      "    See also https://pyomo.readthedocs.io/en/stable/errors.html#w1002\n",
      "WARNING (W1002): Setting Var 'gbt.scaled_inputs[4]' to a numeric value `0`\n",
      "    outside the bounds (720, 720).\n",
      "    See also https://pyomo.readthedocs.io/en/stable/errors.html#w1002\n",
      "WARNING: Constant objective detected, replacing with a placeholder to prevent\n",
      "    solver failure.\n"
     ]
    }
   ],
   "source": [
    "onnx_model = onnx.load('model.onnx')\n",
    "y_opt = []\n",
    "\n",
    "for _, row in X_test.iterrows():\n",
    "    input_bounds = {idx: (x, x) for idx, x in enumerate(row)}\n",
    "\n",
    "    # Create a pyomo model with variables x and y\n",
    "    opt_model = pyo.ConcreteModel('Random Forest')\n",
    "\n",
    "    # Import ML-model as OPT-formulation\n",
    "    opt_model.gbt = OmltBlock()\n",
    "    gbt_model = GradientBoostedTreeModel(onnx_model, \n",
    "                                         scaled_input_bounds=input_bounds)\n",
    "    \n",
    "    formulation = GBTBigMFormulation(gbt_model)\n",
    "    opt_model.gbt.build_formulation(formulation)\n",
    "\n",
    "    opt_model.obj = pyo.Objective(expr=0)\n",
    "  \n",
    "    # opt_model.display()\n",
    "\n",
    "    # solver = pyo.SolverFactory('cbc')\n",
    "    solver = pyo.SolverFactory('cbc')\n",
    "    status = solver.solve(opt_model, tee=False)   \n",
    "    \n",
    "    \n",
    "    # print(f\"inputs: {[pyo.value(opt_model.gbt.inputs[i]) for i in range(len(opt_model.gbt.inputs))]}\")\n",
    "    # print(f\"outputs: {[pyo.value(opt_model.gbt.outputs[i]) for i in range(len(opt_model.gbt.outputs))]}\")\n",
    "    y_opt.append(opt_model.gbt.outputs[0].value + BASE_SCORE)\n",
    "\n",
    "y_opt = pd.Series(y_opt, name=\"Predictions from opt. formulation\")"
   ]
  },
  {
   "cell_type": "code",
   "execution_count": 58,
   "metadata": {},
   "outputs": [
    {
     "data": {
      "text/plain": [
       "<matplotlib.legend.Legend at 0x7f0e6611f520>"
      ]
     },
     "execution_count": 58,
     "metadata": {},
     "output_type": "execute_result"
    },
    {
     "data": {
      "image/png": "[encoded data removed]",
      "text/plain": [
       "<Figure size 720x360 with 1 Axes>"
      ]
     },
     "metadata": {
      "needs_background": "light"
     },
     "output_type": "display_data"
    }
   ],
   "source": [
    "plt.figure(figsize=(10,5))\n",
    "plt.scatter(y_pkl.index, y_pkl, s=300, color='#000000')\n",
    "plt.scatter(y_onx.index, y_onx, s=150, color='#999999')\n",
    "plt.scatter(y_opt.index, y_opt, s=30, color='#FF0000')\n",
    "plt.legend(['Pickeled model', 'ONNX model', 'Optimization formulation'], )"
   ]
  }
 ],
 "metadata": {
  "kernelspec": {
   "display_name": "Python 3.8.13 ('.venv': poetry)",
   "language": "python",
   "name": "python3"
  },
  "language_info": {
   "codemirror_mode": {
    "name": "ipython",
    "version": 3
   },
   "file_extension": ".py",
   "mimetype": "text/x-python",
   "name": "python",
   "nbconvert_exporter": "python",
   "pygments_lexer": "ipython3",
   "version": "3.8.13"
  },
  "orig_nbformat": 4,
  "vscode": {
   "interpreter": {
    "hash": "36364338adbcb7e137bf9edb07ced374cda2ea2ce75a835abd7a746a9acda6b7"
   }
  }
 },
 "nbformat": 4,
 "nbformat_minor": 2
}
