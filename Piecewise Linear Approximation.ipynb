{
 "cells": [
  {
   "cell_type": "code",
   "execution_count": 1,
   "metadata": {},
   "outputs": [],
   "source": [
    "import pulp\n",
    "import matplotlib.pyplot as plt\n",
    "import numpy as np"
   ]
  },
  {
   "cell_type": "markdown",
   "metadata": {},
   "source": [
    "# Piecewise Linear Approximation\n",
    "(The Convex Combination Method)"
   ]
  },
  {
   "cell_type": "markdown",
   "metadata": {},
   "source": [
    "It is often tha case that the objective function of a constraint would better be described by a nonlinear function, while LP requires us to formulate everything as linear relationships. If, however, it is the case that this nonlinear relation can be describede as a separable function, we can utilize a technique that is called Piecewise Linear Approximation, which divides the the nonlinear dunction into smaller, linearly approximated segments. Using this technique, it may be possible to generate an integer programming model, or sometimes even a linear programming model\n",
    "\n",
    "A separable function is a function where all the variabels can be separated from eachother. This means that no variable is interacting nonlinearly with another variable, only itselfs.\n",
    "\n",
    "An example of a separable function:\n",
    "\n",
    "$$x_1^2 + \\frac{1}{x_2} = f_1(x_1) + f_2(x_2)$$\n",
    "\n",
    "An example of a non-separable function:\n",
    "\n",
    "$$x_1 x_2 + \\frac{1}{x_1 + x_2} = f_1(x_1, x_2) + f_2(x_1, x_2)$$"
   ]
  },
  {
   "cell_type": "markdown",
   "metadata": {},
   "source": [
    "## Convex/concave nonlinear functions\n",
    "If the nonlinear function is convex for a minimization problems (or concav for maximizaztion), only the following constraints are needed. There is not need to explicitly specify that the function needs to be on the line, since the, in this case, minimization will force the value down on the convex line.\n",
    "\n",
    "$$\n",
    "\\begin{align*}\n",
    "\\sum_i^\\Lambda{\\lambda_i x_i} &= x & i \\in I\\\\\n",
    "\\sum_i^\\Lambda{\\lambda_i f(x_i)} &= y & i \\in I \\\\\n",
    "\\sum_i^\\Lambda{\\lambda_i} &= 1 & i \\in I \\\\\n",
    "\\end{align*}\n",
    "$$\n",
    "\n",
    "- $I$ is a set of the same size as the number of samples from the non-linear function\n",
    "- $(x_i,y_i)$ are constants that are sampled in advance from a nonlinear function\n",
    "- $\\lambda_i$ is a continous variable in the range $[0,1]$ that describes the percentage of which a how much each point $(x_i,y_i)$ are should contribute to the final value of $(x,y)$\n",
    "- $x$ and $y$ are the varaibles that the optimization problem are using"
   ]
  },
  {
   "cell_type": "code",
   "execution_count": 2,
   "metadata": {},
   "outputs": [
    {
     "data": {
      "text/plain": [
       "[<matplotlib.lines.Line2D at 0x1d31eca1e80>]"
      ]
     },
     "execution_count": 2,
     "metadata": {},
     "output_type": "execute_result"
    },
    {
     "data": {
      "image/png": "[encoded data removed]",
      "text/plain": [
       "<Figure size 432x288 with 1 Axes>"
      ]
     },
     "metadata": {
      "needs_background": "light"
     },
     "output_type": "display_data"
    }
   ],
   "source": [
    "x_min = 0\n",
    "x_max = 6\n",
    "x_samples = 4\n",
    "\n",
    "# Nonlinear function\n",
    "f = lambda x: (x-2)**2\n",
    "\n",
    "# Sampling the nonlinear function\n",
    "xs = np.linspace(x_min,x_max,x_samples)\n",
    "ys = np.array(f(xs))\n",
    "\n",
    "x_ls = np.linspace(x_min,x_max,100)\n",
    "plt.plot(x_ls,f(x_ls))\n",
    "plt.plot(xs,ys)"
   ]
  },
  {
   "cell_type": "code",
   "execution_count": 3,
   "metadata": {},
   "outputs": [],
   "source": [
    "x = pulp.LpVariable('x', lowBound=x_min, upBound=x_max)\n",
    "y = pulp.LpVariable('y')\n",
    "l = [pulp.LpVariable(f'lambda_{i}', lowBound=0, upBound=1) for i in range(x_samples)]\n",
    "#w = [pulp.LpVariable(f'w_{i}', cat='Binary') for i in range(x_samples-1)]"
   ]
  },
  {
   "cell_type": "code",
   "execution_count": 4,
   "metadata": {},
   "outputs": [],
   "source": [
    "m = pulp.LpProblem(\"Linear Piecewise Approximation\", sense=pulp.LpMinimize)\n",
    "\n",
    "# Minimize\n",
    "m += y\n",
    "\n",
    "# Subject to\n",
    "m += x == np.sum([xs[i] * l[i] for i in range(x_samples)])\n",
    "m += y == np.sum([ys[i] * l[i] for i in range(x_samples)])\n",
    "m += np.sum(l) == 1"
   ]
  },
  {
   "cell_type": "code",
   "execution_count": 5,
   "metadata": {},
   "outputs": [
    {
     "data": {
      "text/plain": [
       "Linear Piecewise Approximation:\n",
       "MINIMIZE\n",
       "1*y + 0\n",
       "SUBJECT TO\n",
       "_C1: - 2 lambda_1 - 4 lambda_2 - 6 lambda_3 + x = 0\n",
       "\n",
       "_C2: - 4 lambda_0 - 4 lambda_2 - 16 lambda_3 + y = 0\n",
       "\n",
       "_C3: lambda_0 + lambda_1 + lambda_2 + lambda_3 = 1\n",
       "\n",
       "VARIABLES\n",
       "lambda_0 <= 1 Continuous\n",
       "lambda_1 <= 1 Continuous\n",
       "lambda_2 <= 1 Continuous\n",
       "lambda_3 <= 1 Continuous\n",
       "x <= 6 Continuous\n",
       "y free Continuous"
      ]
     },
     "execution_count": 5,
     "metadata": {},
     "output_type": "execute_result"
    }
   ],
   "source": [
    "m"
   ]
  },
  {
   "cell_type": "code",
   "execution_count": 6,
   "metadata": {},
   "outputs": [
    {
     "data": {
      "text/plain": [
       "'Optimal'"
      ]
     },
     "execution_count": 6,
     "metadata": {},
     "output_type": "execute_result"
    }
   ],
   "source": [
    "status = m.solve()\n",
    "pulp.LpStatus[status]"
   ]
  },
  {
   "cell_type": "code",
   "execution_count": 7,
   "metadata": {},
   "outputs": [
    {
     "data": {
      "text/plain": [
       "(2.0, 0.0)"
      ]
     },
     "execution_count": 7,
     "metadata": {},
     "output_type": "execute_result"
    }
   ],
   "source": [
    "x.value(), y.value()"
   ]
  },
  {
   "cell_type": "code",
   "execution_count": 8,
   "metadata": {},
   "outputs": [
    {
     "data": {
      "text/plain": [
       "[<matplotlib.lines.Line2D at 0x1d320dd4710>]"
      ]
     },
     "execution_count": 8,
     "metadata": {},
     "output_type": "execute_result"
    },
    {
     "data": {
      "image/png": "[encoded data removed]",
      "text/plain": [
       "<Figure size 432x288 with 1 Axes>"
      ]
     },
     "metadata": {
      "needs_background": "light"
     },
     "output_type": "display_data"
    }
   ],
   "source": [
    "plt.plot(x_ls,f(x_ls))\n",
    "plt.plot(xs,ys)\n",
    "plt.plot(x.value(), y.value(), 'ro')"
   ]
  },
  {
   "cell_type": "markdown",
   "metadata": {},
   "source": [
    "## Non-convex (or -concave), nonlinear functions\n",
    "If the nonlinear function is non-convex, additional requirements must be added to ensure that at most two adjacent $\\lambda$'s are greater than zero. This is done by adding binary variables, which transforms the problem from an LP to a MILP problem.\n",
    "$$\n",
    "\\begin{align*}\n",
    "\\sum_i^\\Lambda{\\lambda_i x_i} &= x \\\\\n",
    "\\sum_i^\\Lambda{\\lambda_i f(x_i)} &= f(x) \\\\\n",
    "\\sum_i^\\Lambda{\\lambda_i} &= 1 \\\\\n",
    "\\sum_i^{\\Lambda-1}{w_i} &= 1 \\\\\n",
    "w_i &\\leq \\lambda_i + \\lambda_{i+1} & i \\in [0,1,\\ldots,I-1]\n",
    "\\end{align*}\n",
    "$$"
   ]
  },
  {
   "cell_type": "markdown",
   "metadata": {},
   "source": [
    "- $I$ is a set of the same size as the number of samples from the non-linear function\n",
    "- $(x_i,y_i)$ are constants that are sampled in advance from a nonlinear function\n",
    "- $\\lambda_i$ is a continous variable in the range $[0,1]$ that describes the percentage of which a how much each point $(x_i,y_i)$ are should contribute to the final value of $(x,y)$\n",
    "- $x$ and $y$ are the varaibles that the optimization problem are using\n",
    "- $w_i$ is a binary variable that forces the point $(x,y)$ to lie on the line between two neighbouring points, weigthed by $(\\lambda_i, \\lambda_{i+1})$"
   ]
  },
  {
   "cell_type": "code",
   "execution_count": 9,
   "metadata": {},
   "outputs": [
    {
     "data": {
      "text/plain": [
       "[<matplotlib.lines.Line2D at 0x1d320e07470>]"
      ]
     },
     "execution_count": 9,
     "metadata": {},
     "output_type": "execute_result"
    },
    {
     "data": {
      "image/png": "[encoded data removed]",
      "text/plain": [
       "<Figure size 432x288 with 1 Axes>"
      ]
     },
     "metadata": {
      "needs_background": "light"
     },
     "output_type": "display_data"
    }
   ],
   "source": [
    "x_min = 0\n",
    "x_max = 6\n",
    "x_samples = 4\n",
    "\n",
    "# Nonlinear function\n",
    "f = lambda x: np.sin(x)\n",
    "\n",
    "# Sampling the nonlinear function\n",
    "xs = np.linspace(x_min,x_max,x_samples)\n",
    "ys = np.array(f(xs))\n",
    "\n",
    "x_ls = np.linspace(x_min,x_max,100)\n",
    "\n",
    "plt.plot(x_ls,f(x_ls))\n",
    "plt.plot(xs,ys)"
   ]
  },
  {
   "cell_type": "code",
   "execution_count": 10,
   "metadata": {},
   "outputs": [],
   "source": [
    "x = pulp.LpVariable('x', lowBound=x_min, upBound=x_max)\n",
    "y = pulp.LpVariable('y')\n",
    "l = [pulp.LpVariable(f'lambda_{i}', lowBound=0, upBound=1) for i in range(x_samples)]\n",
    "w = [pulp.LpVariable(f'w_{i}', cat='Binary') for i in range(x_samples-1)]"
   ]
  },
  {
   "cell_type": "code",
   "execution_count": 11,
   "metadata": {},
   "outputs": [],
   "source": [
    "m = pulp.LpProblem(\"Linear Piecewise Approximation\", sense=pulp.LpMinimize)"
   ]
  },
  {
   "cell_type": "code",
   "execution_count": 12,
   "metadata": {},
   "outputs": [],
   "source": [
    "m += x == np.sum([xs[i] * l[i] for i in range(x_samples)])\n",
    "m += y == np.sum([ys[i] * l[i] for i in range(x_samples)])\n",
    "m += np.sum(l) == 1\n",
    "m += np.sum(w) == 1\n",
    "for i in range(x_samples-1): m += w[i] <= l[i] + l[i+1]"
   ]
  },
  {
   "cell_type": "code",
   "execution_count": 13,
   "metadata": {},
   "outputs": [],
   "source": [
    "m += y"
   ]
  },
  {
   "cell_type": "code",
   "execution_count": 14,
   "metadata": {},
   "outputs": [
    {
     "data": {
      "text/plain": [
       "Linear Piecewise Approximation:\n",
       "MINIMIZE\n",
       "1*y + 0\n",
       "SUBJECT TO\n",
       "_C1: - 2 lambda_1 - 4 lambda_2 - 6 lambda_3 + x = 0\n",
       "\n",
       "_C2: - 0.909297426826 lambda_1 + 0.756802495308 lambda_2\n",
       " + 0.279415498199 lambda_3 + y = 0\n",
       "\n",
       "_C3: lambda_0 + lambda_1 + lambda_2 + lambda_3 = 1\n",
       "\n",
       "_C4: w_0 + w_1 + w_2 = 1\n",
       "\n",
       "_C5: - lambda_0 - lambda_1 + w_0 <= 0\n",
       "\n",
       "_C6: - lambda_1 - lambda_2 + w_1 <= 0\n",
       "\n",
       "_C7: - lambda_2 - lambda_3 + w_2 <= 0\n",
       "\n",
       "VARIABLES\n",
       "lambda_0 <= 1 Continuous\n",
       "lambda_1 <= 1 Continuous\n",
       "lambda_2 <= 1 Continuous\n",
       "lambda_3 <= 1 Continuous\n",
       "0 <= w_0 <= 1 Integer\n",
       "0 <= w_1 <= 1 Integer\n",
       "0 <= w_2 <= 1 Integer\n",
       "x <= 6 Continuous\n",
       "y free Continuous"
      ]
     },
     "execution_count": 14,
     "metadata": {},
     "output_type": "execute_result"
    }
   ],
   "source": [
    "m"
   ]
  },
  {
   "cell_type": "code",
   "execution_count": 15,
   "metadata": {},
   "outputs": [
    {
     "data": {
      "text/plain": [
       "'Optimal'"
      ]
     },
     "execution_count": 15,
     "metadata": {},
     "output_type": "execute_result"
    }
   ],
   "source": [
    "status = m.solve()\n",
    "pulp.LpStatus[status]"
   ]
  },
  {
   "cell_type": "code",
   "execution_count": 16,
   "metadata": {},
   "outputs": [
    {
     "data": {
      "text/plain": [
       "(4.0, -0.7568025)"
      ]
     },
     "execution_count": 16,
     "metadata": {},
     "output_type": "execute_result"
    }
   ],
   "source": [
    "x.value(), y.value()"
   ]
  },
  {
   "cell_type": "code",
   "execution_count": 17,
   "metadata": {},
   "outputs": [
    {
     "data": {
      "text/plain": [
       "[<matplotlib.lines.Line2D at 0x1d320ebef28>]"
      ]
     },
     "execution_count": 17,
     "metadata": {},
     "output_type": "execute_result"
    },
    {
     "data": {
      "image/png": "[encoded data removed]",
      "text/plain": [
       "<Figure size 432x288 with 1 Axes>"
      ]
     },
     "metadata": {
      "needs_background": "light"
     },
     "output_type": "display_data"
    }
   ],
   "source": [
    "plt.plot(x_ls,f(x_ls))\n",
    "plt.plot(xs,ys)\n",
    "plt.plot(x.value(), y.value(), 'ro')"
   ]
  },
  {
   "cell_type": "code",
   "execution_count": null,
   "metadata": {},
   "outputs": [],
   "source": []
  }
 ],
 "metadata": {
  "kernelspec": {
   "display_name": "Python 3",
   "language": "python",
   "name": "python3"
  },
  "language_info": {
   "codemirror_mode": {
    "name": "ipython",
    "version": 3
   },
   "file_extension": ".py",
   "mimetype": "text/x-python",
   "name": "python",
   "nbconvert_exporter": "python",
   "pygments_lexer": "ipython3",
   "version": "3.6.8"
  },
  "toc": {
   "base_numbering": 1,
   "nav_menu": {},
   "number_sections": true,
   "sideBar": true,
   "skip_h1_title": false,
   "title_cell": "Table of Contents",
   "title_sidebar": "Contents",
   "toc_cell": false,
   "toc_position": {},
   "toc_section_display": true,
   "toc_window_display": false
  },
  "varInspector": {
   "cols": {
    "lenName": 16,
    "lenType": 16,
    "lenVar": 40
   },
   "kernels_config": {
    "python": {
     "delete_cmd_postfix": "",
     "delete_cmd_prefix": "del ",
     "library": "var_list.py",
     "varRefreshCmd": "print(var_dic_list())"
    },
    "r": {
     "delete_cmd_postfix": ") ",
     "delete_cmd_prefix": "rm(",
     "library": "var_list.r",
     "varRefreshCmd": "cat(var_dic_list()) "
    }
   },
   "types_to_exclude": [
    "module",
    "function",
    "builtin_function_or_method",
    "instance",
    "_Feature"
   ],
   "window_display": false
  }
 },
 "nbformat": 4,
 "nbformat_minor": 2
}
