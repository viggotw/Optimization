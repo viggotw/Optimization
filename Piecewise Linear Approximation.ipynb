{
 "cells": [
  {
   "cell_type": "code",
   "execution_count": 1,
   "metadata": {
    "ExecuteTime": {
     "end_time": "2020-02-21T14:44:06.784369Z",
     "start_time": "2020-02-21T14:44:05.772845Z"
    }
   },
   "outputs": [],
   "source": [
    "import pulp\n",
    "import matplotlib.pyplot as plt\n",
    "import numpy as np"
   ]
  },
  {
   "cell_type": "markdown",
   "metadata": {},
   "source": [
    "# Piecewise Linear Approximation\n",
    "(The Convex Combination Method)"
   ]
  },
  {
   "cell_type": "markdown",
   "metadata": {},
   "source": [
    "It is often tha case that the objective function of a constraint would better be described by a nonlinear function, while LP requires us to formulate everything as linear relationships. If, however, it is the case that this nonlinear relation can be describede as a separable function, we can utilize a technique that is called Piecewise Linear Approximation, which divides the the nonlinear dunction into smaller, linearly approximated segments. Using this technique, it may be possible to generate an integer programming model, or sometimes even a linear programming model\n",
    "\n",
    "A separable function is a function where all the variabels can be separated from eachother. This means that no variable is interacting nonlinearly with another variable, only itselfs.\n",
    "\n",
    "An example of a separable function:\n",
    "\n",
    "$$x_1^2 + \\frac{1}{x_2} = f_1(x_1) + f_2(x_2)$$\n",
    "\n",
    "An example of a non-separable function:\n",
    "\n",
    "$$x_1 x_2 + \\frac{1}{x_1 + x_2} = f_1(x_1, x_2) + f_2(x_1, x_2)$$"
   ]
  },
  {
   "cell_type": "markdown",
   "metadata": {},
   "source": [
    "## Convex/concave nonlinear functions\n",
    "If the nonlinear function is convex for a minimization problems (or concav for maximizaztion), only the following constraints are needed. There is not need to explicitly specify that the function needs to be on the line, since the, in this case, minimization will force the value down on the convex line.\n",
    "\n",
    "$$\n",
    "\\begin{align*}\n",
    "\\sum_i^\\Lambda{\\lambda_i x_i} &= x & i \\in I\\\\\n",
    "\\sum_i^\\Lambda{\\lambda_i f(x_i)} &= y & i \\in I \\\\\n",
    "\\sum_i^\\Lambda{\\lambda_i} &= 1 & i \\in I \\\\\n",
    "\\end{align*}\n",
    "$$\n",
    "\n",
    "- $I$ is a set of the same size as the number of samples from the non-linear function\n",
    "- $(x_i,y_i)$ are constants that are sampled in advance from a nonlinear function\n",
    "- $\\lambda_i$ is a continous variable in the range $[0,1]$ that describes the percentage of which a how much each point $(x_i,y_i)$ are should contribute to the final value of $(x,y)$\n",
    "- $x$ and $y$ are the varaibles that the optimization problem are using"
   ]
  },
  {
   "cell_type": "code",
   "execution_count": 2,
   "metadata": {
    "ExecuteTime": {
     "end_time": "2020-02-21T14:44:06.950368Z",
     "start_time": "2020-02-21T14:44:06.786369Z"
    }
   },
   "outputs": [
    {
     "data": {
      "text/plain": [
       "[<matplotlib.lines.Line2D at 0x2369b5ed5c0>]"
      ]
     },
     "execution_count": 2,
     "metadata": {},
     "output_type": "execute_result"
    },
    {
     "data": {
      "image/png": "[encoded data removed]",
      "text/plain": [
       "<Figure size 432x288 with 1 Axes>"
      ]
     },
     "metadata": {
      "needs_background": "light"
     },
     "output_type": "display_data"
    }
   ],
   "source": [
    "x_min = 0\n",
    "x_max = 6\n",
    "x_samples = 4\n",
    "\n",
    "# Nonlinear function\n",
    "f = lambda x: (x-2)**2\n",
    "\n",
    "# Sampling the nonlinear function\n",
    "xs = np.linspace(x_min,x_max,x_samples)\n",
    "ys = np.array(f(xs))\n",
    "\n",
    "x_ls = np.linspace(x_min,x_max,100)\n",
    "plt.plot(x_ls,f(x_ls))\n",
    "plt.plot(xs,ys)"
   ]
  },
  {
   "cell_type": "code",
   "execution_count": 3,
   "metadata": {
    "ExecuteTime": {
     "end_time": "2020-02-21T14:44:06.956403Z",
     "start_time": "2020-02-21T14:44:06.952369Z"
    }
   },
   "outputs": [],
   "source": [
    "x = pulp.LpVariable('x', lowBound=x_min, upBound=x_max)\n",
    "y = pulp.LpVariable('y')\n",
    "l = [pulp.LpVariable(f'lambda_{i}', lowBound=0, upBound=1) for i in range(x_samples)]\n",
    "#w = [pulp.LpVariable(f'w_{i}', cat='Binary') for i in range(x_samples-1)]"
   ]
  },
  {
   "cell_type": "code",
   "execution_count": 4,
   "metadata": {
    "ExecuteTime": {
     "end_time": "2020-02-21T14:44:06.999368Z",
     "start_time": "2020-02-21T14:44:06.958368Z"
    }
   },
   "outputs": [
    {
     "name": "stderr",
     "output_type": "stream",
     "text": [
      "C:\\ProgramData\\Anaconda3\\envs\\Optimization\\lib\\site-packages\\pulp\\pulp.py:1137: UserWarning: Spaces are not permitted in the name. Converted to '_'\n",
      "  warnings.warn(\"Spaces are not permitted in the name. Converted to '_'\")\n"
     ]
    }
   ],
   "source": [
    "m = pulp.LpProblem(\"Linear Piecewise Approximation\", sense=pulp.LpMinimize)\n",
    "\n",
    "# Minimize\n",
    "m += y\n",
    "\n",
    "# Subject to\n",
    "m += x == np.sum([xs[i] * l[i] for i in range(x_samples)])\n",
    "m += y == np.sum([ys[i] * l[i] for i in range(x_samples)])\n",
    "m += np.sum(l) == 1"
   ]
  },
  {
   "cell_type": "code",
   "execution_count": 5,
   "metadata": {
    "ExecuteTime": {
     "end_time": "2020-02-21T14:44:07.007368Z",
     "start_time": "2020-02-21T14:44:07.000371Z"
    }
   },
   "outputs": [
    {
     "data": {
      "text/plain": [
       "Linear_Piecewise_Approximation:\n",
       "MINIMIZE\n",
       "1*y + 0\n",
       "SUBJECT TO\n",
       "_C1: - 2 lambda_1 - 4 lambda_2 - 6 lambda_3 + x = 0\n",
       "\n",
       "_C2: - 4 lambda_0 - 4 lambda_2 - 16 lambda_3 + y = 0\n",
       "\n",
       "_C3: lambda_0 + lambda_1 + lambda_2 + lambda_3 = 1\n",
       "\n",
       "VARIABLES\n",
       "lambda_0 <= 1 Continuous\n",
       "lambda_1 <= 1 Continuous\n",
       "lambda_2 <= 1 Continuous\n",
       "lambda_3 <= 1 Continuous\n",
       "x <= 6 Continuous\n",
       "y free Continuous"
      ]
     },
     "execution_count": 5,
     "metadata": {},
     "output_type": "execute_result"
    }
   ],
   "source": [
    "m"
   ]
  },
  {
   "cell_type": "code",
   "execution_count": 6,
   "metadata": {
    "ExecuteTime": {
     "end_time": "2020-02-21T14:44:07.100368Z",
     "start_time": "2020-02-21T14:44:07.009382Z"
    }
   },
   "outputs": [
    {
     "ename": "KeyError",
     "evalue": "'Optimal'",
     "output_type": "error",
     "traceback": [
      "\u001b[1;31m---------------------------------------------------------------------------\u001b[0m",
      "\u001b[1;31mKeyError\u001b[0m                                  Traceback (most recent call last)",
      "\u001b[1;32m<ipython-input-6-5dd4682df179>\u001b[0m in \u001b[0;36m<module>\u001b[1;34m\u001b[0m\n\u001b[0;32m      1\u001b[0m \u001b[0mstatus\u001b[0m \u001b[1;33m=\u001b[0m \u001b[0mm\u001b[0m\u001b[1;33m.\u001b[0m\u001b[0msolve\u001b[0m\u001b[1;33m(\u001b[0m\u001b[1;33m)\u001b[0m\u001b[1;33m\u001b[0m\u001b[1;33m\u001b[0m\u001b[0m\n\u001b[1;32m----> 2\u001b[1;33m \u001b[0mpulp\u001b[0m\u001b[1;33m.\u001b[0m\u001b[0mLpStatus\u001b[0m\u001b[1;33m[\u001b[0m\u001b[0mstatus\u001b[0m\u001b[1;33m]\u001b[0m\u001b[1;33m\u001b[0m\u001b[1;33m\u001b[0m\u001b[0m\n\u001b[0m",
      "\u001b[1;31mKeyError\u001b[0m: 'Optimal'"
     ]
    }
   ],
   "source": [
    "status = m.solve()\n",
    "pulp.LpStatus[status]"
   ]
  },
  {
   "cell_type": "code",
   "execution_count": null,
   "metadata": {
    "ExecuteTime": {
     "end_time": "2020-02-21T14:44:07.103370Z",
     "start_time": "2020-02-21T14:44:05.790Z"
    }
   },
   "outputs": [],
   "source": [
    "x.value(), y.value()"
   ]
  },
  {
   "cell_type": "code",
   "execution_count": null,
   "metadata": {
    "ExecuteTime": {
     "end_time": "2020-02-21T14:44:07.104369Z",
     "start_time": "2020-02-21T14:44:05.791Z"
    }
   },
   "outputs": [],
   "source": [
    "plt.plot(x_ls,f(x_ls))\n",
    "plt.plot(xs,ys)\n",
    "plt.plot(x.value(), y.value(), 'ro')"
   ]
  },
  {
   "cell_type": "markdown",
   "metadata": {},
   "source": [
    "## Non-convex (or non-concave), nonlinear functions\n",
    "If the nonlinear function is non-convex, additional requirements must be added to ensure that at most two adjacent $\\lambda$'s are greater than zero. This is done by adding binary variables, which transforms the problem from an LP to a MILP problem.\n",
    "$$\n",
    "\\begin{align*}\n",
    "\\sum_i^\\Lambda{\\lambda_i x_i} &= x \\\\\n",
    "\\sum_i^\\Lambda{\\lambda_i f(x_i)} &= f(x) \\\\\n",
    "\\sum_i^\\Lambda{\\lambda_i} &= 1 \\\\\n",
    "\\sum_i^{\\Lambda-1}{w_i} &= 1 \\\\\n",
    "w_i &\\leq \\lambda_i + \\lambda_{i+1} & i \\in [0,1,\\ldots,I-1]\n",
    "\\end{align*}\n",
    "$$"
   ]
  },
  {
   "cell_type": "markdown",
   "metadata": {},
   "source": [
    "- $I$ is a set of the same size as the number of samples from the non-linear function\n",
    "- $(x_i,y_i)$ are constants that are sampled in advance from a nonlinear function\n",
    "- $\\lambda_i$ is a continous variable in the range $[0,1]$ that describes the percentage of which a how much each point $(x_i,y_i)$ are should contribute to the final value of $(x,y)$\n",
    "- $x$ and $y$ are the varaibles that the optimization problem are using\n",
    "- $w_i$ is a binary variable that forces the point $(x,y)$ to lie on the line between two neighbouring points, weigthed by $(\\lambda_i, \\lambda_{i+1})$"
   ]
  },
  {
   "cell_type": "code",
   "execution_count": null,
   "metadata": {
    "ExecuteTime": {
     "end_time": "2020-02-21T14:44:07.105368Z",
     "start_time": "2020-02-21T14:44:05.794Z"
    }
   },
   "outputs": [],
   "source": [
    "x_min = 0\n",
    "x_max = 6\n",
    "x_samples = 4\n",
    "\n",
    "# Nonlinear function\n",
    "f = lambda x: np.sin(x)\n",
    "\n",
    "# Sampling the nonlinear function\n",
    "xs = np.linspace(x_min,x_max,x_samples)\n",
    "ys = np.array(f(xs))\n",
    "\n",
    "x_ls = np.linspace(x_min,x_max,100)\n",
    "\n",
    "plt.plot(x_ls,f(x_ls))\n",
    "plt.plot(xs,ys)"
   ]
  },
  {
   "cell_type": "code",
   "execution_count": null,
   "metadata": {
    "ExecuteTime": {
     "end_time": "2020-02-21T14:44:07.106369Z",
     "start_time": "2020-02-21T14:44:05.795Z"
    }
   },
   "outputs": [],
   "source": [
    "x = pulp.LpVariable('x', lowBound=x_min, upBound=x_max)\n",
    "y = pulp.LpVariable('y')\n",
    "l = [pulp.LpVariable(f'lambda_{i}', lowBound=0, upBound=1) for i in range(x_samples)]\n",
    "w = [pulp.LpVariable(f'w_{i}', cat='Binary') for i in range(x_samples-1)]"
   ]
  },
  {
   "cell_type": "code",
   "execution_count": null,
   "metadata": {
    "ExecuteTime": {
     "end_time": "2020-02-21T14:44:07.107369Z",
     "start_time": "2020-02-21T14:44:05.797Z"
    }
   },
   "outputs": [],
   "source": [
    "m = pulp.LpProblem(\"Linear Piecewise Approximation\", sense=pulp.LpMinimize)"
   ]
  },
  {
   "cell_type": "code",
   "execution_count": null,
   "metadata": {
    "ExecuteTime": {
     "end_time": "2020-02-21T14:44:07.108369Z",
     "start_time": "2020-02-21T14:44:05.800Z"
    }
   },
   "outputs": [],
   "source": [
    "m += x == np.sum([xs[i] * l[i] for i in range(x_samples)])\n",
    "m += y == np.sum([ys[i] * l[i] for i in range(x_samples)])\n",
    "m += np.sum(l) == 1\n",
    "m += np.sum(w) == 1\n",
    "for i in range(x_samples-1): m += w[i] <= l[i] + l[i+1]"
   ]
  },
  {
   "cell_type": "code",
   "execution_count": null,
   "metadata": {
    "ExecuteTime": {
     "end_time": "2020-02-21T14:44:07.109369Z",
     "start_time": "2020-02-21T14:44:05.802Z"
    }
   },
   "outputs": [],
   "source": [
    "m += y"
   ]
  },
  {
   "cell_type": "code",
   "execution_count": null,
   "metadata": {
    "ExecuteTime": {
     "end_time": "2020-02-21T14:44:07.110369Z",
     "start_time": "2020-02-21T14:44:05.804Z"
    }
   },
   "outputs": [],
   "source": [
    "m"
   ]
  },
  {
   "cell_type": "code",
   "execution_count": null,
   "metadata": {
    "ExecuteTime": {
     "end_time": "2020-02-21T14:44:07.111369Z",
     "start_time": "2020-02-21T14:44:05.808Z"
    }
   },
   "outputs": [],
   "source": [
    "status = m.solve()\n",
    "pulp.LpStatus[status]"
   ]
  },
  {
   "cell_type": "code",
   "execution_count": null,
   "metadata": {
    "ExecuteTime": {
     "end_time": "2020-02-21T14:44:07.112369Z",
     "start_time": "2020-02-21T14:44:05.810Z"
    }
   },
   "outputs": [],
   "source": [
    "x.value(), y.value()"
   ]
  },
  {
   "cell_type": "code",
   "execution_count": null,
   "metadata": {
    "ExecuteTime": {
     "end_time": "2020-02-21T14:44:07.114368Z",
     "start_time": "2020-02-21T14:44:05.813Z"
    }
   },
   "outputs": [],
   "source": [
    "plt.plot(x_ls,f(x_ls))\n",
    "plt.plot(xs,ys)\n",
    "plt.plot(x.value(), y.value(), 'ro')"
   ]
  },
  {
   "cell_type": "markdown",
   "metadata": {},
   "source": [
    "## Nonlinear function with two inputs"
   ]
  },
  {
   "cell_type": "code",
   "execution_count": null,
   "metadata": {
    "ExecuteTime": {
     "end_time": "2020-02-21T14:44:07.115369Z",
     "start_time": "2020-02-21T14:44:05.816Z"
    }
   },
   "outputs": [],
   "source": [
    "from matplotlib import cm\n",
    "from mpl_toolkits.mplot3d import Axes3D\n",
    "\n",
    "# Nonlinear function with two inputs\n",
    "func = lambda x1, x2: ((x1-5)**2) + 2*x2\n",
    "\n",
    "x_min = 0\n",
    "x_max = 6\n",
    "x_samples = 4\n",
    "\n",
    "y_min = 0\n",
    "y_max = 6\n",
    "y_samples = 4"
   ]
  },
  {
   "cell_type": "code",
   "execution_count": null,
   "metadata": {
    "ExecuteTime": {
     "end_time": "2020-02-21T14:44:07.116368Z",
     "start_time": "2020-02-21T14:44:05.819Z"
    }
   },
   "outputs": [],
   "source": [
    "# Continous version of nonlinear function\n",
    "%matplotlib notebook\n",
    "\n",
    "x_linspace = np.linspace(x_min,x_max,1001)\n",
    "y_linspace = np.linspace(y_min,y_max,1001)\n",
    "X_linspace, Y_linspace = np.meshgrid(x_linspace, y_linspace)\n",
    "f_linspace = func(X_linspace, Y_linspace)\n",
    "\n",
    "fig = plt.figure()\n",
    "ax = plt.axes(projection=\"3d\")\n",
    "ax.scatter(5, 0, func(5,0), c='r', marker='o', s=100)\n",
    "ax.plot_surface(X_linspace, Y_linspace, f_linspace, cmap=cm.coolwarm, linewidth=0, antialiased=False, zorder = 0.5)"
   ]
  },
  {
   "cell_type": "code",
   "execution_count": null,
   "metadata": {
    "ExecuteTime": {
     "end_time": "2020-02-21T14:44:07.117368Z",
     "start_time": "2020-02-21T14:44:05.823Z"
    }
   },
   "outputs": [],
   "source": [
    "# Sampled version of nonlinear function\n",
    "%matplotlib notebook\n",
    "\n",
    "x_sampled = np.linspace(x_min,x_max,x_samples)\n",
    "y_sampled = np.linspace(y_min,y_max,y_samples)\n",
    "X_sampled, Y_sampled = np.meshgrid(x_sampled, y_sampled)\n",
    "\n",
    "f_sampled = func(X_sampled, Y_sampled)\n",
    "\n",
    "fig = plt.figure()\n",
    "ax = plt.axes(projection=\"3d\")\n",
    "ax.plot_surface(X_sampled,  Y_sampled,  f_sampled,  cmap=cm.coolwarm, linewidth=0, antialiased=False, zorder = 0.3)\n",
    "#ax.scatter(5, 0, f_sampled(5,0), c='r', marker='o', s=100)"
   ]
  },
  {
   "cell_type": "code",
   "execution_count": null,
   "metadata": {
    "ExecuteTime": {
     "end_time": "2020-02-21T14:44:07.118368Z",
     "start_time": "2020-02-21T14:44:05.825Z"
    }
   },
   "outputs": [],
   "source": [
    "f = pulp.LpVariable('f')\n",
    "\n",
    "x = pulp.LpVariable('x', lowBound=x_min, upBound=x_max)\n",
    "y = pulp.LpVariable('y', lowBound=y_min, upBound=y_max)\n",
    "\n",
    "λ = np.array([[pulp.LpVariable(f'lambda_{i}_{j}', lowBound=0, upBound=1) for i in range(x_samples)] for j in range(y_samples)])\n",
    "\n",
    "nx = np.array([pulp.LpVariable(f'n_x{i}', lowBound=0, upBound=1) for i in range(x_samples)])\n",
    "ny = np.array([pulp.LpVariable(f'n_y{j}', lowBound=0, upBound=1) for j in range(y_samples)])"
   ]
  },
  {
   "cell_type": "code",
   "execution_count": null,
   "metadata": {
    "ExecuteTime": {
     "end_time": "2020-02-21T14:44:07.119369Z",
     "start_time": "2020-02-21T14:44:05.826Z"
    }
   },
   "outputs": [],
   "source": [
    "m = pulp.LpProblem(\"Linear 3D Piecewise Approximation\", sense=pulp.LpMinimize)\n",
    "\n",
    "# Minimize\n",
    "m += f\n",
    "\n",
    "# Subject to\n",
    "m += f == pulp.lpSum(f_sampled*λ)\n",
    "m += x == pulp.lpSum(np.matmul(λ.T, x_sampled))\n",
    "m += y == pulp.lpSum(np.matmul(λ.T, y_sampled))\n",
    "m += 1 == pulp.lpSum(λ)\n",
    "\n",
    "for i in range(x_samples):\n",
    "    m += nx[i] == pulp.lpSum(λ[i,:])\n",
    "    \n",
    "for j in range(y_samples):\n",
    "    m += ny[j] == pulp.lpSum(λ[:,j])"
   ]
  },
  {
   "cell_type": "code",
   "execution_count": null,
   "metadata": {
    "ExecuteTime": {
     "end_time": "2020-02-21T14:44:07.121377Z",
     "start_time": "2020-02-21T14:44:05.828Z"
    }
   },
   "outputs": [],
   "source": [
    "m.solve()"
   ]
  },
  {
   "cell_type": "code",
   "execution_count": null,
   "metadata": {
    "ExecuteTime": {
     "end_time": "2020-02-21T14:44:07.122369Z",
     "start_time": "2020-02-21T14:44:05.830Z"
    }
   },
   "outputs": [],
   "source": [
    "x.value(), y.value()"
   ]
  },
  {
   "cell_type": "code",
   "execution_count": null,
   "metadata": {
    "ExecuteTime": {
     "end_time": "2020-02-21T14:44:07.123370Z",
     "start_time": "2020-02-21T14:44:05.831Z"
    }
   },
   "outputs": [],
   "source": [
    "f_sampled"
   ]
  },
  {
   "cell_type": "code",
   "execution_count": null,
   "metadata": {
    "ExecuteTime": {
     "end_time": "2020-02-21T14:44:07.124371Z",
     "start_time": "2020-02-21T14:44:05.833Z"
    }
   },
   "outputs": [],
   "source": [
    "func(5,0)"
   ]
  },
  {
   "cell_type": "code",
   "execution_count": null,
   "metadata": {},
   "outputs": [],
   "source": []
  }
 ],
 "metadata": {
  "kernelspec": {
   "display_name": "Python 3",
   "language": "python",
   "name": "python3"
  },
  "language_info": {
   "codemirror_mode": {
    "name": "ipython",
    "version": 3
   },
   "file_extension": ".py",
   "mimetype": "text/x-python",
   "name": "python",
   "nbconvert_exporter": "python",
   "pygments_lexer": "ipython3",
   "version": "3.6.8"
  },
  "toc": {
   "base_numbering": 1,
   "nav_menu": {},
   "number_sections": true,
   "sideBar": true,
   "skip_h1_title": false,
   "title_cell": "Table of Contents",
   "title_sidebar": "Contents",
   "toc_cell": false,
   "toc_position": {},
   "toc_section_display": true,
   "toc_window_display": false
  },
  "varInspector": {
   "cols": {
    "lenName": 16,
    "lenType": 16,
    "lenVar": 40
   },
   "kernels_config": {
    "python": {
     "delete_cmd_postfix": "",
     "delete_cmd_prefix": "del ",
     "library": "var_list.py",
     "varRefreshCmd": "print(var_dic_list())"
    },
    "r": {
     "delete_cmd_postfix": ") ",
     "delete_cmd_prefix": "rm(",
     "library": "var_list.r",
     "varRefreshCmd": "cat(var_dic_list()) "
    }
   },
   "types_to_exclude": [
    "module",
    "function",
    "builtin_function_or_method",
    "instance",
    "_Feature"
   ],
   "window_display": false
  }
 },
 "nbformat": 4,
 "nbformat_minor": 2
}
