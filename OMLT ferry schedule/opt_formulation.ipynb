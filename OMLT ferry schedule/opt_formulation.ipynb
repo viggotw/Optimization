{
 "cells": [
  {
   "cell_type": "code",
   "execution_count": 1,
   "metadata": {},
   "outputs": [],
   "source": [
    "import pyomo.environ as pyo\n",
    "import matplotlib.pyplot as plt"
   ]
  },
  {
   "cell_type": "markdown",
   "metadata": {},
   "source": [
    "## Formulating the optimization problem"
   ]
  },
  {
   "cell_type": "markdown",
   "metadata": {},
   "source": [
    "$$\n",
    "\\begin{align*}\n",
    "e &:= \\text{energy on battery} \\\\\n",
    "t &:= \\text{point in time} \\\\\n",
    "cost &:= \\text{cost of charging}\n",
    "\\end{align*}\n",
    "$$"
   ]
  },
  {
   "cell_type": "markdown",
   "metadata": {},
   "source": [
    "$$\n",
    "\\begin{split}\n",
    "\\textrm{minimize } & \\sum_{i=1}^{i=N}{cost_i}\\\\\n",
    "\\textrm{subject to:} &\\\\ \n",
    "\\end{split}\n",
    "\n",
    "\\newline\n",
    "\n",
    "\\begin{align*}\n",
    "e_{i+1} &= e_i - f(t_{i+1}, t_i, ...) &\\text{ if } (t_{i+1} - t_i) \\in \\text{TRANSIT} \\\\\n",
    "e_{i+1} &= e_i + \\bar{P} \\cdot (t_{i+1} - t_i) &\\text{ if } (t_{i+1} - t_i) \\in \\text{DOCKED} \\\\\n",
    "e_0 &= E_{init} \\\\\n",
    "cost_i &= C_i \\cdot \\bar{P} \\cdot (t_{i+1} - t_i) &\\text{ if } (t_{i+1} - t_i) \\in \\text{DOCKED} \\\\\n",
    "T_i^- &\\le t_i \\le T_i^+ &\\forall i \\in N \\\\\n",
    "t_{i+1} - t_i &\\ge \\frac{D}{\\bar{V}_{max}} &\\forall i \\in N-1 \\\\\n",
    "E_{min} &\\le e_i \\le E_{max} &\\forall i \\in N \\\\\n",
    "\\end{align*}\n",
    "$$"
   ]
  },
  {
   "cell_type": "code",
   "execution_count": 811,
   "metadata": {},
   "outputs": [
    {
     "name": "stdout",
     "output_type": "stream",
     "text": [
      "Time schedule (arrival times): [0, 3600, 7200, 10800, 14400, 18000, 21600]\n",
      "Min travel time: 1,538 seconds (0.43 hours)\n",
      "Max travel time wo/ stop: 15,480 sec (4.3 hours))\n",
      "Max travel distance wo/ charging: 100,620 meters\n"
     ]
    }
   ],
   "source": [
    "# Parameters\n",
    "NUM_DEPARTURES = 6\n",
    "N = 2 * NUM_DEPARTURES  # Number of 'time tokens' in the optimization problem\n",
    "D = 10_000  # [meters]\n",
    "TOO_EARLY_ARRIVAL_MAX = 15 * 60  # [seconds]\n",
    "E_max = 4.3e6 # [Wh]\n",
    "E_min = 0.2 * E_max # [Wh]\n",
    "E_init = 0.5*E_max # [Wh]\n",
    "E_end = 0.5*E_max # [Wh]\n",
    "P = 1e6 # [W]\n",
    "V_max = 6.5  # mean average speed [meters/second]\n",
    "\n",
    "assert 0 < E_min < E_max\n",
    "assert E_min <= E_init <= E_max\n",
    "assert E_min <= E_end <= E_max\n",
    "\n",
    "TS = [(lambda x: x*3600)(x) for x in range(NUM_DEPARTURES+1)]\n",
    "print(\"Time schedule (arrival times):\", TS)\n",
    "\n",
    "print(f\"Min travel time: {D/V_max:,.0f} seconds ({D/(3600*V_max):,.2f} hours)\")\n",
    "print(f\"Max travel time wo/ stop: {3600*E_max/P:,.0f} sec ({E_max/P} hours))\")\n",
    "print(f\"Max travel distance wo/ charging: {V_max * (3600*E_max/P):,.0f} meters\")\n",
    "# print(f\"Max energy consumption: {P*\")"
   ]
  },
  {
   "cell_type": "code",
   "execution_count": 812,
   "metadata": {},
   "outputs": [],
   "source": [
    "# Create model\n",
    "m = pyo.ConcreteModel()\n",
    "m.name = \"Optimal Ferry Charging Schedule\"\n",
    "\n",
    "# Define variables\n",
    "## Time\n",
    "m.t = pyo.Var(range(N), within=pyo.NonNegativeReals)\n",
    "m.t[0].fix(0)\n",
    "\n",
    "# Energy\n",
    "m.e = pyo.Var(range(N), within=pyo.NonNegativeReals, bounds=(E_min, E_max))\n",
    "m.e[0].fix(E_init)\n",
    "m.e[N-1].fix(E_end)\n",
    "\n",
    "# Cost (Odd index numbers represent charging at the dock)\n",
    "m.cost = pyo.Var(range(1, N-1, 2), domain=pyo.NonNegativeReals)\n"
   ]
  },
  {
   "cell_type": "code",
   "execution_count": 813,
   "metadata": {},
   "outputs": [],
   "source": [
    "# Define constraints\n",
    "## Time\n",
    "def constraint_time_order(m, i):\n",
    "    return m.t[i+1] >= m.t[i]\n",
    "m.constraint_time_order = pyo.Constraint(range(N-1), rule=constraint_time_order)\n",
    "\n",
    "def constraint_arrival_bounds(m, i):\n",
    "    return m.t[i] <= TS[int(i/2)+1]\n",
    "m.constraint_arrival_bounds = pyo.Constraint(range(1, N, 2), rule=constraint_arrival_bounds)\n",
    "\n",
    "def constraint_min_timeslot_length(m, i):\n",
    "    return m.t[i+1] - m.t[i] >= D/V_max\n",
    "m.constraint_min_timeslot_length = pyo.Constraint(range(N-1), rule=constraint_min_timeslot_length)\n",
    "\n",
    "## Energy\n",
    "def constraint_energy_consumption(m, i):\n",
    "    return m.e[i+1] == m.e[i] - (P/3) * (m.t[i+1] - m.t[i])/3600  # TODO: Replace this with the predicted consumption\n",
    "m.constraint_energy_consumption = pyo.Constraint(range(0, N-1, 2), rule=constraint_energy_consumption)\n",
    "\n",
    "def constraint_energy_charging(m, i):\n",
    "    return m.e[i+1] == m.e[i] + 0.602*P * (m.t[i+1] - m.t[i])/3600\n",
    "m.constraint_energy_charging = pyo.Constraint(range(1, N-1, 2), rule=constraint_energy_charging)\n",
    "\n",
    "## Cost\n",
    "def constraint_cost(m, i):\n",
    "    return m.cost[i] == 10.0 * P * (m.t[i+1] - m.t[i])/3600\n",
    "m.constraint_cost = pyo.Constraint(range(1, N-1, 2), rule=constraint_cost)"
   ]
  },
  {
   "cell_type": "code",
   "execution_count": 814,
   "metadata": {},
   "outputs": [],
   "source": [
    "# Define objective function\n",
    "def objective(m):\n",
    "    return sum(m.cost[i] for i in range(1, N-1, 2))\n",
    "m.objective = pyo.Objective(rule=objective, sense=pyo.minimize)"
   ]
  },
  {
   "cell_type": "code",
   "execution_count": 815,
   "metadata": {},
   "outputs": [
    {
     "name": "stdout",
     "output_type": "stream",
     "text": [
      "# ==========================================================\n",
      "# = Solver Results                                         =\n",
      "# ==========================================================\n",
      "# ----------------------------------------------------------\n",
      "#   Problem Information\n",
      "# ----------------------------------------------------------\n",
      "Problem: \n",
      "- Name: unknown\n",
      "  Lower bound: 21367521.37\n",
      "  Upper bound: 21367521.37\n",
      "  Number of objectives: 1\n",
      "  Number of constraints: 45\n",
      "  Number of variables: 27\n",
      "  Number of nonzeros: 5\n",
      "  Sense: minimize\n",
      "# ----------------------------------------------------------\n",
      "#   Solver Information\n",
      "# ----------------------------------------------------------\n",
      "Solver: \n",
      "- Status: ok\n",
      "  User time: -1.0\n",
      "  System time: 0.0\n",
      "  Wallclock time: 0.0\n",
      "  Termination condition: optimal\n",
      "  Termination message: Model was solved to optimality (subject to tolerances), and an optimal solution is available.\n",
      "  Statistics: \n",
      "    Branch and bound: \n",
      "      Number of bounded subproblems: None\n",
      "      Number of created subproblems: None\n",
      "    Black box: \n",
      "      Number of iterations: 15\n",
      "  Error rc: 0\n",
      "  Time: 0.017490625381469727\n",
      "# ----------------------------------------------------------\n",
      "#   Solution Information\n",
      "# ----------------------------------------------------------\n",
      "Solution: \n",
      "- number of solutions: 0\n",
      "  number of solutions displayed: 0\n"
     ]
    }
   ],
   "source": [
    "results = pyo.SolverFactory('cbc').solve(m)\n",
    "results.write()"
   ]
  },
  {
   "cell_type": "code",
   "execution_count": 816,
   "metadata": {},
   "outputs": [],
   "source": [
    "points_in_time = list(m.t.extract_values().values())\n",
    "begin = [x for x in points_in_time[:N]]\n",
    "end = [x for x in points_in_time[1:]]\n",
    "\n",
    "energy = list(m.e.extract_values().values())\n",
    "\n",
    "cost = list(m.cost.extract_values().values())"
   ]
  },
  {
   "cell_type": "code",
   "execution_count": 833,
   "metadata": {},
   "outputs": [
    {
     "data": {
      "image/png": "[encoded data removed]",
      "text/plain": [
       "<Figure size 1080x576 with 2 Axes>"
      ]
     },
     "metadata": {
      "needs_background": "light"
     },
     "output_type": "display_data"
    }
   ],
   "source": [
    "figs, axs = plt.subplots(nrows=2, figsize=(15, 8))\n",
    "\n",
    "axs[0].fill_between(points_in_time, 0, energy, color='lightblue')\n",
    "axs[0].add_line(plt.Line2D([TS[0], TS[-1]], [E_max, E_max], color='darkred', linestyle='--'))\n",
    "axs[0].add_line(plt.Line2D([TS[0], TS[-1]], [E_min, E_min], color='darkred', linestyle='--'))\n",
    "axs[0].scatter([TS[0], TS[-1]], [E_init, E_end], color='darkred', s=100)\n",
    "\n",
    "axs[0].title.set_text(\"Energy on Ferry Battery\")\n",
    "axs[0].get_xaxis().set_visible(False)\n",
    "axs[0].set_xlim(TS[0],TS[-1])\n",
    "axs[0].set_ylim(0,E_max+1e5)\n",
    "\n",
    "c = 'lightblue'\n",
    "for x_1 , x_2 in zip(begin ,end):\n",
    "    axs[1].add_patch(plt.Rectangle((x_1,0),x_2-x_1,1, color=c))\n",
    "    if c == 'lightblue':\n",
    "        c = 'orange'\n",
    "    else:\n",
    "        c = 'lightblue'\n",
    "\n",
    "for t in TS:\n",
    "    axs[1].add_line(plt.Line2D([t, t], [0, 1], color='black', linestyle='--'))\n",
    "\n",
    "axs[1].title.set_text(\"Ferry Charging Schedule\")\n",
    "axs[1].set_xlabel(\"Time (seconds)\")\n",
    "axs[1].set_xlim(TS[0],TS[-1])\n",
    "axs[1].get_yaxis().set_visible(False)\n",
    "plt.show()"
   ]
  },
  {
   "cell_type": "code",
   "execution_count": 614,
   "metadata": {},
   "outputs": [
    {
     "data": {
      "text/plain": [
       "[0, 3600, 7200, 10800, 14400, 18000, 21600]"
      ]
     },
     "execution_count": 614,
     "metadata": {},
     "output_type": "execute_result"
    }
   ],
   "source": [
    "TS"
   ]
  },
  {
   "cell_type": "code",
   "execution_count": 504,
   "metadata": {},
   "outputs": [
    {
     "name": "stdout",
     "output_type": "stream",
     "text": [
      "Model Optimal Ferry Charging Schedule\n",
      "\n",
      "  Variables:\n",
      "    t : Size=12, Index=t_index\n",
      "        Key : Lower : Value     : Upper : Fixed : Stale : Domain\n",
      "          0 :     0 :         0 :  None :  True :  True : NonNegativeReals\n",
      "          1 :     0 :    6192.0 :  None : False : False : NonNegativeReals\n",
      "          2 :     0 : 7730.4615 :  None : False : False : NonNegativeReals\n",
      "          3 :     0 : 9268.9231 :  None : False : False : NonNegativeReals\n",
      "          4 :     0 : 11582.462 :  None : False : False : NonNegativeReals\n",
      "          5 :     0 :     21600 :  None :  True :  True : NonNegativeReals\n",
      "          6 :     0 :   33984.0 :  None : False : False : NonNegativeReals\n",
      "          7 :     0 :   71136.0 :  None : False : False : NonNegativeReals\n",
      "          8 :     0 :   83520.0 :  None : False : False : NonNegativeReals\n",
      "          9 :     0 :  120672.0 :  None : False : False : NonNegativeReals\n",
      "         10 :     0 : 123248.82 :  None : False : False : NonNegativeReals\n",
      "         11 :     0 : 124787.28 :  None : False : False : NonNegativeReals\n",
      "    e : Size=12, Index=e_index\n",
      "        Key : Lower : Value              : Upper     : Fixed : Stale : Domain\n",
      "          0 :     0 : 1433333.3333333333 : 4300000.0 :  True :  True : NonNegativeReals\n",
      "          1 :     0 :           860000.0 : 4300000.0 : False : False : NonNegativeReals\n",
      "          2 :     0 :          1287350.4 : 4300000.0 : False : False : NonNegativeReals\n",
      "          3 :     0 :          1144900.3 : 4300000.0 : False : False : NonNegativeReals\n",
      "          4 :     0 :          1787549.9 : 4300000.0 : False : False : NonNegativeReals\n",
      "          5 :     0 :           860000.0 : 4300000.0 : False : False : NonNegativeReals\n",
      "          6 :     0 :          4300000.0 : 4300000.0 : False : False : NonNegativeReals\n",
      "          7 :     0 :           860000.0 : 4300000.0 : False : False : NonNegativeReals\n",
      "          8 :     0 :          4300000.0 : 4300000.0 : False : False : NonNegativeReals\n",
      "          9 :     0 :           860000.0 : 4300000.0 : False : False : NonNegativeReals\n",
      "         10 :     0 :          1575783.5 : 4300000.0 : False : False : NonNegativeReals\n",
      "         11 :     0 : 1433333.3333333333 : 4300000.0 :  True :  True : NonNegativeReals\n",
      "    cost : Size=5, Index=cost_index\n",
      "        Key : Lower : Value      : Upper : Fixed : Stale : Domain\n",
      "          1 :     0 :  4273504.3 :  None : False : False : NonNegativeReals\n",
      "          3 :     0 :  6426495.7 :  None : False : False : NonNegativeReals\n",
      "          5 :     0 : 34400000.0 :  None : False : False : NonNegativeReals\n",
      "          7 :     0 : 34400000.0 :  None : False : False : NonNegativeReals\n",
      "          9 :     0 :  7157834.8 :  None : False : False : NonNegativeReals\n",
      "\n",
      "  Objectives:\n",
      "    objective : Size=1, Index=None, Active=True\n",
      "        Key  : Active : Value\n",
      "        None :   True : 10700000.0\n",
      "\n",
      "  Constraints:\n",
      "    constraint_time_order : Size=11\n",
      "        Key : Lower : Body                : Upper\n",
      "          0 :  None :             -6192.0 :   0.0\n",
      "          1 :  None : -1538.4615000000003 :   0.0\n",
      "          2 :  None : -1538.4615999999996 :   0.0\n",
      "          3 :  None : -2313.5388999999996 :   0.0\n",
      "          4 :  None :          -10017.538 :   0.0\n",
      "          5 :  None :            -12384.0 :   0.0\n",
      "          6 :  None :            -37152.0 :   0.0\n",
      "          7 :  None :            -12384.0 :   0.0\n",
      "          8 :  None :            -37152.0 :   0.0\n",
      "          9 :  None :  -2576.820000000007 :   0.0\n",
      "         10 :  None : -1538.4599999999919 :   0.0\n",
      "    consraint_time_bounds : Size=6\n",
      "        Key : Lower   : Body      : Upper\n",
      "          1 :     0.0 :    6192.0 :  None\n",
      "          3 :  3600.0 : 9268.9231 :  None\n",
      "          5 :  7200.0 :     21600 :  None\n",
      "          7 : 10800.0 :   71136.0 :  None\n",
      "          9 : 14400.0 :  120672.0 :  None\n",
      "         11 : 18000.0 : 124787.28 :  None\n",
      "    constraint_min_timeslot_length : Size=11\n",
      "        Key : Lower              : Body               : Upper\n",
      "          0 : 1538.4615384615386 :             6192.0 :  None\n",
      "          1 : 1538.4615384615386 : 1538.4615000000003 :  None\n",
      "          2 : 1538.4615384615386 : 1538.4615999999996 :  None\n",
      "          3 : 1538.4615384615386 : 2313.5388999999996 :  None\n",
      "          4 : 1538.4615384615386 :          10017.538 :  None\n",
      "          5 : 1538.4615384615386 :            12384.0 :  None\n",
      "          6 : 1538.4615384615386 :            37152.0 :  None\n",
      "          7 : 1538.4615384615386 :            12384.0 :  None\n",
      "          8 : 1538.4615384615386 :            37152.0 :  None\n",
      "          9 : 1538.4615384615386 :  2576.820000000007 :  None\n",
      "         10 : 1538.4615384615386 : 1538.4599999999919 :  None\n",
      "    constraint_energy_consumption : Size=6\n",
      "        Key : Lower : Body                 : Upper\n",
      "          0 :   0.0 :                  0.0 :   0.0\n",
      "          2 :   0.0 : 0.048148148227483034 :   0.0\n",
      "          4 :   0.0 : -0.08518518507480621 :   0.0\n",
      "          6 :   0.0 :                  0.0 :   0.0\n",
      "          8 :   0.0 :                  0.0 :   0.0\n",
      "         10 :   0.0 :  -0.1666666674427688 :   0.0\n",
      "    constraint_energy_bounds : Size=5\n",
      "        Key : Lower    : Body      : Upper\n",
      "          1 : 860000.0 :  860000.0 : 4300000.0\n",
      "          3 : 860000.0 : 1144900.3 : 4300000.0\n",
      "          5 : 860000.0 :  860000.0 : 4300000.0\n",
      "          7 : 860000.0 :  860000.0 : 4300000.0\n",
      "          9 : 860000.0 :  860000.0 : 4300000.0\n",
      "    constraint_energy_charging : Size=5\n",
      "        Key : Lower : Body                 : Upper\n",
      "          1 :   0.0 : -0.01666666683740914 :   0.0\n",
      "          3 :   0.0 : -0.09444444440305233 :   0.0\n",
      "          5 :   0.0 :                  0.0 :   0.0\n",
      "          7 :   0.0 :                  0.0 :   0.0\n",
      "          9 :   0.0 :   0.1666666646488011 :   0.0\n",
      "    constraint_cost : Size=5\n",
      "        Key : Lower : Body                : Upper\n",
      "          1 :   0.0 : 0.13333333190530539 :   0.0\n",
      "          3 :   0.0 : -1.2444444429129362 :   0.0\n",
      "          5 :   0.0 :                 0.0 :   0.0\n",
      "          7 :   0.0 :                 0.0 :   0.0\n",
      "          9 :   0.0 :   1.466666647233069 :   0.0\n"
     ]
    }
   ],
   "source": [
    "m.display()"
   ]
  },
  {
   "cell_type": "code",
   "execution_count": null,
   "metadata": {},
   "outputs": [],
   "source": []
  }
 ],
 "metadata": {
  "kernelspec": {
   "display_name": "Python 3.8.13 ('.venv': poetry)",
   "language": "python",
   "name": "python3"
  },
  "language_info": {
   "codemirror_mode": {
    "name": "ipython",
    "version": 3
   },
   "file_extension": ".py",
   "mimetype": "text/x-python",
   "name": "python",
   "nbconvert_exporter": "python",
   "pygments_lexer": "ipython3",
   "version": "3.8.13"
  },
  "orig_nbformat": 4,
  "vscode": {
   "interpreter": {
    "hash": "36364338adbcb7e137bf9edb07ced374cda2ea2ce75a835abd7a746a9acda6b7"
   }
  }
 },
 "nbformat": 4,
 "nbformat_minor": 2
}
