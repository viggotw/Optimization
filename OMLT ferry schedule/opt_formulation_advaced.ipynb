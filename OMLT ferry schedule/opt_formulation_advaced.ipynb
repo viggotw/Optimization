{
 "cells": [
  {
   "cell_type": "code",
   "execution_count": 11,
   "metadata": {},
   "outputs": [],
   "source": [
    "import pyomo.environ as pyo\n",
    "import matplotlib.pyplot as plt\n",
    "import datetime as dt"
   ]
  },
  {
   "cell_type": "markdown",
   "metadata": {},
   "source": [
    "## Formulating the optimization problem"
   ]
  },
  {
   "cell_type": "markdown",
   "metadata": {},
   "source": [
    "$$\n",
    "\\begin{align*}\n",
    "e &:= \\text{energy on battery} \\\\\n",
    "t &:= \\text{point in time} \\\\\n",
    "cost &:= \\text{cost of charging}\n",
    "\\end{align*}\n",
    "$$"
   ]
  },
  {
   "cell_type": "markdown",
   "metadata": {},
   "source": [
    "$$\n",
    "\\begin{split}\n",
    "\\textrm{minimize } & \\sum_{i=1}^{i=N}{cost_i}\\\\\n",
    "\\textrm{subject to:} &\\\\ \n",
    "\\end{split}\n",
    "\n",
    "\\newline\n",
    "\n",
    "\\begin{align*}\n",
    "e_{i+1} &= e_i - f(t_{i+1}, t_i, ...) &\\text{ if } (t_{i+1} - t_i) \\in \\text{TRANSIT} \\\\\n",
    "e_{i+1} &= e_i + \\bar{P} \\cdot (t_{i+1} - t_i) &\\text{ if } (t_{i+1} - t_i) \\in \\text{DOCKED} \\\\\n",
    "e_0 &= E_{init} \\\\\n",
    "cost_i &= C_i \\cdot \\bar{P} \\cdot (t_{i+1} - t_i) &\\text{ if } (t_{i+1} - t_i) \\in \\text{DOCKED} \\\\\n",
    "T_i^- &\\le t_i \\le T_i^+ &\\forall i \\in N \\\\\n",
    "t_{i+1} - t_i &\\ge \\frac{D}{\\bar{V}_{max}} &\\forall i \\in N-1 \\\\\n",
    "E_{min} &\\le e_i \\le E_{max} &\\forall i \\in N \\\\\n",
    "\\end{align*}\n",
    "$$"
   ]
  },
  {
   "cell_type": "code",
   "execution_count": 43,
   "metadata": {},
   "outputs": [
    {
     "name": "stdout",
     "output_type": "stream",
     "text": [
      "Time schedule (arrival times): [0.0, 5400.0, 10800.0, 16200.0, 21600.0, 27000.0, 32400.0]\n",
      "Min travel time: 2,308 seconds (0.64 hours)\n",
      "Max travel time wo/ stop: 7,740 sec (2.15 hours))\n",
      "Max travel distance wo/ charging: 50,310 meters\n"
     ]
    }
   ],
   "source": [
    "# Parameters\n",
    "NUM_DEPARTURES = 6\n",
    "state = {'transit':0, 'idle1':1, 'charge':2, 'idle2': 3}\n",
    "final_state = 'charge'\n",
    "num_states = len(state)\n",
    "N = num_states * NUM_DEPARTURES - (num_states - state[final_state] - 1)  # Number of 'time tokens' in the optimization problem. Last state corresponds to \"final transit ends\"\n",
    "D = 15_000  # Distance between harbors [meters]\n",
    "MIN_DOCKING_STAY = 5 * 60  # [seconds]\n",
    "MIN_IDLE_TIME = 2 * 60  # [seconds]\n",
    "E_max = 4.3e6 # [Wh]\n",
    "E_min = 0.2 * E_max # [Wh]\n",
    "E_init = 0.7*E_max # [Wh]\n",
    "E_end = 0.7*E_max # [Wh]\n",
    "P = 2e6 # [W]\n",
    "V_max = 6.5  # mean average speed [meters/second]\n",
    "\n",
    "assert 0 < E_min < E_max\n",
    "assert E_min <= E_init <= E_max\n",
    "assert E_min <= E_end <= E_max\n",
    "\n",
    "timetable_delta = 1.5*60*60 # [seconds]\n",
    "TS = [(lambda x: timetable_delta*x)(x) for x in range(NUM_DEPARTURES+1)]\n",
    "print(\"Time schedule (arrival times):\", TS)\n",
    "\n",
    "print(f\"Min travel time: {D/V_max:,.0f} seconds ({D/(3600*V_max):,.2f} hours)\")\n",
    "print(f\"Max travel time wo/ stop: {3600*E_max/P:,.0f} sec ({E_max/P} hours))\")\n",
    "print(f\"Max travel distance wo/ charging: {V_max * (3600*E_max/P):,.0f} meters\")\n",
    "# print(f\"Max energy consumption: {P*\")"
   ]
  },
  {
   "cell_type": "code",
   "execution_count": 44,
   "metadata": {},
   "outputs": [],
   "source": [
    "# Create model\n",
    "m = pyo.ConcreteModel()\n",
    "m.name = \"Optimal Ferry Charging Schedule\"\n",
    "\n",
    "# Define sets\n",
    "m.SetAll = pyo.SetOf(range(N))\n",
    "m.SetAll_1 = pyo.SetOf(range(N-1))\n",
    "m.SetTransit = pyo.SetOf(range(state['transit'], N, num_states))\n",
    "m.SetCharge = pyo.SetOf(range(state['charge'], N-1, num_states))  # Final 'charge' state represents \"final transit ends\"\n",
    "m.SetIdle1 = pyo.SetOf(range(state['idle1'], N, num_states))\n",
    "m.SetIdle1_1 = pyo.SetOf(range(state['idle1'], N-2, num_states))\n",
    "m.SetIdle2 = pyo.SetOf(range(state['idle2'], N-1, num_states))\n",
    "m.SetIdleBoth = m.SetIdle1.union(m.SetIdle2)\n",
    "\n",
    "# Define variables\n",
    "## Time\n",
    "m.t = pyo.Var(m.SetAll, within=pyo.NonNegativeReals)\n",
    "m.t[0].fix(TS[0])\n",
    "m.t[N-1].fix(TS[-1])\n",
    "\n",
    "# Energy\n",
    "m.e = pyo.Var(m.SetAll, within=pyo.NonNegativeReals, bounds=(E_min, E_max))\n",
    "m.e[0].fix(E_init)\n",
    "m.e[N-1].fix(E_end)\n",
    "\n",
    "# Cost (Odd index numbers represent charging at the dock)\n",
    "m.cost = pyo.Var(m.SetCharge, domain=pyo.NonNegativeReals)"
   ]
  },
  {
   "cell_type": "code",
   "execution_count": 45,
   "metadata": {},
   "outputs": [],
   "source": [
    "# Define constraints\n",
    "## Time\n",
    "def constraint_time_order(m, i):\n",
    "    return m.t[i+1] >= m.t[i]\n",
    "m.constraint_time_order = pyo.Constraint(m.SetAll_1, rule=constraint_time_order)\n",
    "# m.constraint_time_order = pyo.Constraint(m.SetAll[:-1], rule=constraint_time_order)\n",
    "\n",
    "### Transit\n",
    "def constraint_transit_length(m, i):\n",
    "    return m.t[i+1] - m.t[i] >= D/V_max\n",
    "m.constraint_transit_length = pyo.Constraint(m.SetTransit, rule=constraint_transit_length)\n",
    "\n",
    "### Docked\n",
    "def constraint_arrival_bounds(m, i):\n",
    "    ts_i = int(1 + (i-1)/num_states)\n",
    "    return (TS[ts_i] - MIN_DOCKING_STAY, m.t[i], TS[ts_i])\n",
    "m.constraint_arrival_bounds = pyo.Constraint(m.SetIdle1, rule=constraint_arrival_bounds)\n",
    "\n",
    "def constraint_min_docked_timeslot_length(m, i):\n",
    "    dock_delta = state['idle2'] - state['transit']\n",
    "    return m.t[i+dock_delta] - m.t[i] >= MIN_DOCKING_STAY\n",
    "m.constraint_min_docked_timeslot_length = pyo.Constraint(m.SetIdle1_1, rule=constraint_min_docked_timeslot_length)\n",
    "\n",
    "### Idle\n",
    "def constraint_min_idle_timeslot_length(m, i):\n",
    "    return m.t[i+1] - m.t[i] >= MIN_IDLE_TIME\n",
    "m.constraint_min_idle_timeslot_length = pyo.Constraint(m.SetIdleBoth, rule=constraint_min_idle_timeslot_length)\n",
    "\n",
    "## Energy\n",
    "## Transit\n",
    "def constraint_energy_transit(m, i):\n",
    "    return m.e[i+1] == m.e[i] - P/2 * (m.t[i+1] - m.t[i])/3600  # TODO: Replace this with the predicted consumption\n",
    "m.constraint_energy_transit = pyo.Constraint(m.SetTransit, rule=constraint_energy_transit)\n",
    "\n",
    "# ### Charging\n",
    "def constraint_energy_charging(m, i):\n",
    "    return m.e[i+1] == m.e[i] + P * (m.t[i+1] - m.t[i])/3600\n",
    "m.constraint_energy_charging = pyo.Constraint(m.SetCharge, rule=constraint_energy_charging)\n",
    "\n",
    "def constraint_energy_idle(m, i):\n",
    "    return m.e[i+1] == m.e[i] - P/4 * (m.t[i+1] - m.t[i])/3600\n",
    "m.constraint_energy_idle = pyo.Constraint(m.SetIdleBoth, rule=constraint_energy_idle)\n",
    "\n",
    "## Cost\n",
    "def constraint_cost(m, i):\n",
    "    return m.cost[i] == 10.0 * P * (m.t[i+1] - m.t[i])/3600\n",
    "m.constraint_cost = pyo.Constraint(m.SetCharge, rule=constraint_cost)"
   ]
  },
  {
   "cell_type": "code",
   "execution_count": 46,
   "metadata": {},
   "outputs": [],
   "source": [
    "# Define objective function\n",
    "def objective(m):\n",
    "    return sum(m.cost[i] for i in m.SetCharge)\n",
    "m.objective = pyo.Objective(rule=objective, sense=pyo.minimize, doc=\"Total cost\")"
   ]
  },
  {
   "cell_type": "code",
   "execution_count": 47,
   "metadata": {},
   "outputs": [
    {
     "name": "stdout",
     "output_type": "stream",
     "text": [
      "Model was solved to optimality (subject to tolerances), and an optimal solution is available.\n"
     ]
    }
   ],
   "source": [
    "results = pyo.SolverFactory('cbc').solve(m)\n",
    "# results.write()\n",
    "print(results['Solver'][0]['Termination message'])"
   ]
  },
  {
   "cell_type": "code",
   "execution_count": 48,
   "metadata": {},
   "outputs": [],
   "source": [
    "points_in_time = list(m.t.extract_values().values())\n",
    "begin = [x for x in points_in_time[:N]]\n",
    "end = [x for x in points_in_time[1:]]\n",
    "\n",
    "energy = list(m.e.extract_values().values())\n",
    "\n",
    "cost = list(m.cost.extract_values().values())"
   ]
  },
  {
   "cell_type": "code",
   "execution_count": 49,
   "metadata": {},
   "outputs": [
    {
     "data": {
      "image/png": "[encoded data removed]",
      "text/plain": [
       "<Figure size 1080x576 with 2 Axes>"
      ]
     },
     "metadata": {
      "needs_background": "light"
     },
     "output_type": "display_data"
    }
   ],
   "source": [
    "\n",
    "figs, axs = plt.subplots(nrows=2, figsize=(15, 8))\n",
    "\n",
    "# Plot energy\n",
    "axs[0].fill_between(points_in_time, 0, energy, color='lightblue')\n",
    "axs[0].add_line(plt.Line2D([points_in_time[0], points_in_time[-1], None, points_in_time[0], points_in_time[-1]], [E_max, E_max, None, E_min, E_min], color='darkred', linestyle='--'))\n",
    "# axs[0].add_line(plt.Line2D([points_in_time[0], points_in_time[-1]], [E_min, E_min], color='darkred', linestyle='--'))\n",
    "axs[0].scatter([points_in_time[0], points_in_time[-1]], [E_init, E_end], color='darkred', s=100, label='Initial and final energy')\n",
    "\n",
    "axs[0].title.set_text(\"Energy on Ferry Battery\")\n",
    "axs[0].set_ylabel(\"Energy [kWh]\")\n",
    "axs[0].legend(['Battery level', 'Battery limits', 'Required start/end levels'],loc=\"upper left\")\n",
    "axs[0].get_xaxis().set_visible(False)\n",
    "axs[0].set_xlim(TS[0],TS[-1])\n",
    "axs[0].set_ylim(0,E_max+1e5)\n",
    "\n",
    "# Plot schedule\n",
    "c = 'lightblue'\n",
    "for i, (t1 , t2) in enumerate(zip(begin ,end)):\n",
    "    if i % num_states == state['transit']:\n",
    "        c = 'lightblue'\n",
    "    elif i % num_states == state['charge']:\n",
    "        c = 'orange'\n",
    "    else:\n",
    "        c = 'grey'\n",
    "    axs[1].add_patch(plt.Rectangle((t1,0),t2-t1,1, color=c))\n",
    "\n",
    "for t in TS:\n",
    "    axs[1].add_line(plt.Line2D([t, t], [0, 1], color='black', linestyle='--'))\n",
    "\n",
    "axs[1].title.set_text(\"Optimal Ferry Charging Schedule\")\n",
    "axs[1].legend(['Transit', 'Idle', 'Charge'], loc=\"upper left\")\n",
    "axs[1].set_xlabel(\"Time (seconds)\")\n",
    "axs[1].set_xlim(TS[0],TS[-1])\n",
    "axs[1].get_yaxis().set_visible(False)\n",
    "\n",
    "# pretty_ticks = [(dt.datetime.now() + dt.timedelta(seconds=(t - TS[0]))).strftime(\"%H:%M:%S\") for t in TS]\n",
    "# axs[1].set_xticks(points_in_time, pretty_ticks)\n",
    "from matplotlib.ticker import FuncFormatter\n",
    "import time\n",
    "formatter = FuncFormatter(lambda s, x: time.strftime('%H:%M', time.gmtime(s)))\n",
    "axs[1].xaxis.set_major_formatter(formatter)\n",
    "\n",
    "axs[1].xaxis.set_major_locator(plt.MultipleLocator(timetable_delta))\n",
    "\n",
    "\n",
    "plt.show()"
   ]
  },
  {
   "cell_type": "code",
   "execution_count": null,
   "metadata": {},
   "outputs": [],
   "source": []
  }
 ],
 "metadata": {
  "kernelspec": {
   "display_name": "Python 3.8.13 ('.venv': poetry)",
   "language": "python",
   "name": "python3"
  },
  "language_info": {
   "codemirror_mode": {
    "name": "ipython",
    "version": 3
   },
   "file_extension": ".py",
   "mimetype": "text/x-python",
   "name": "python",
   "nbconvert_exporter": "python",
   "pygments_lexer": "ipython3",
   "version": "3.8.13"
  },
  "orig_nbformat": 4,
  "vscode": {
   "interpreter": {
    "hash": "36364338adbcb7e137bf9edb07ced374cda2ea2ce75a835abd7a746a9acda6b7"
   }
  }
 },
 "nbformat": 4,
 "nbformat_minor": 2
}
